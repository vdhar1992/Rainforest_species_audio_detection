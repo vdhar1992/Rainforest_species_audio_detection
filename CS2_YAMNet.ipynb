{
  "nbformat": 4,
  "nbformat_minor": 0,
  "metadata": {
    "colab": {
      "name": "CS2_YAMNet.ipynb",
      "provenance": [],
      "collapsed_sections": []
    },
    "kernelspec": {
      "name": "python3",
      "display_name": "Python 3"
    },
    "language_info": {
      "name": "python"
    },
    "accelerator": "GPU"
  },
  "cells": [
    {
      "cell_type": "code",
      "metadata": {
        "colab": {
          "base_uri": "https://localhost:8080/"
        },
        "id": "grhlaM5oH50t",
        "outputId": "a5e7c0f2-059a-48e7-8cc0-71e139e9d189"
      },
      "source": [
        "!pip install tensorflow_io"
      ],
      "execution_count": null,
      "outputs": [
        {
          "output_type": "stream",
          "text": [
            "Requirement already satisfied: tensorflow_io in /usr/local/lib/python3.7/dist-packages (0.19.1)\n",
            "Requirement already satisfied: tensorflow-io-gcs-filesystem==0.19.1 in /usr/local/lib/python3.7/dist-packages (from tensorflow_io) (0.19.1)\n",
            "Requirement already satisfied: tensorflow<2.6.0,>=2.5.0 in /usr/local/lib/python3.7/dist-packages (from tensorflow_io) (2.5.0)\n",
            "Requirement already satisfied: h5py~=3.1.0 in /usr/local/lib/python3.7/dist-packages (from tensorflow<2.6.0,>=2.5.0->tensorflow_io) (3.1.0)\n",
            "Requirement already satisfied: termcolor~=1.1.0 in /usr/local/lib/python3.7/dist-packages (from tensorflow<2.6.0,>=2.5.0->tensorflow_io) (1.1.0)\n",
            "Requirement already satisfied: typing-extensions~=3.7.4 in /usr/local/lib/python3.7/dist-packages (from tensorflow<2.6.0,>=2.5.0->tensorflow_io) (3.7.4.3)\n",
            "Requirement already satisfied: wheel~=0.35 in /usr/local/lib/python3.7/dist-packages (from tensorflow<2.6.0,>=2.5.0->tensorflow_io) (0.36.2)\n",
            "Requirement already satisfied: six~=1.15.0 in /usr/local/lib/python3.7/dist-packages (from tensorflow<2.6.0,>=2.5.0->tensorflow_io) (1.15.0)\n",
            "Requirement already satisfied: absl-py~=0.10 in /usr/local/lib/python3.7/dist-packages (from tensorflow<2.6.0,>=2.5.0->tensorflow_io) (0.12.0)\n",
            "Requirement already satisfied: astunparse~=1.6.3 in /usr/local/lib/python3.7/dist-packages (from tensorflow<2.6.0,>=2.5.0->tensorflow_io) (1.6.3)\n",
            "Requirement already satisfied: keras-preprocessing~=1.1.2 in /usr/local/lib/python3.7/dist-packages (from tensorflow<2.6.0,>=2.5.0->tensorflow_io) (1.1.2)\n",
            "Requirement already satisfied: tensorboard~=2.5 in /usr/local/lib/python3.7/dist-packages (from tensorflow<2.6.0,>=2.5.0->tensorflow_io) (2.5.0)\n",
            "Requirement already satisfied: keras-nightly~=2.5.0.dev in /usr/local/lib/python3.7/dist-packages (from tensorflow<2.6.0,>=2.5.0->tensorflow_io) (2.5.0.dev2021032900)\n",
            "Requirement already satisfied: opt-einsum~=3.3.0 in /usr/local/lib/python3.7/dist-packages (from tensorflow<2.6.0,>=2.5.0->tensorflow_io) (3.3.0)\n",
            "Requirement already satisfied: grpcio~=1.34.0 in /usr/local/lib/python3.7/dist-packages (from tensorflow<2.6.0,>=2.5.0->tensorflow_io) (1.34.1)\n",
            "Requirement already satisfied: numpy~=1.19.2 in /usr/local/lib/python3.7/dist-packages (from tensorflow<2.6.0,>=2.5.0->tensorflow_io) (1.19.5)\n",
            "Requirement already satisfied: wrapt~=1.12.1 in /usr/local/lib/python3.7/dist-packages (from tensorflow<2.6.0,>=2.5.0->tensorflow_io) (1.12.1)\n",
            "Requirement already satisfied: gast==0.4.0 in /usr/local/lib/python3.7/dist-packages (from tensorflow<2.6.0,>=2.5.0->tensorflow_io) (0.4.0)\n",
            "Requirement already satisfied: flatbuffers~=1.12.0 in /usr/local/lib/python3.7/dist-packages (from tensorflow<2.6.0,>=2.5.0->tensorflow_io) (1.12)\n",
            "Requirement already satisfied: protobuf>=3.9.2 in /usr/local/lib/python3.7/dist-packages (from tensorflow<2.6.0,>=2.5.0->tensorflow_io) (3.17.3)\n",
            "Requirement already satisfied: google-pasta~=0.2 in /usr/local/lib/python3.7/dist-packages (from tensorflow<2.6.0,>=2.5.0->tensorflow_io) (0.2.0)\n",
            "Requirement already satisfied: tensorflow-estimator<2.6.0,>=2.5.0rc0 in /usr/local/lib/python3.7/dist-packages (from tensorflow<2.6.0,>=2.5.0->tensorflow_io) (2.5.0)\n",
            "Requirement already satisfied: cached-property in /usr/local/lib/python3.7/dist-packages (from h5py~=3.1.0->tensorflow<2.6.0,>=2.5.0->tensorflow_io) (1.5.2)\n",
            "Requirement already satisfied: tensorboard-data-server<0.7.0,>=0.6.0 in /usr/local/lib/python3.7/dist-packages (from tensorboard~=2.5->tensorflow<2.6.0,>=2.5.0->tensorflow_io) (0.6.1)\n",
            "Requirement already satisfied: tensorboard-plugin-wit>=1.6.0 in /usr/local/lib/python3.7/dist-packages (from tensorboard~=2.5->tensorflow<2.6.0,>=2.5.0->tensorflow_io) (1.8.0)\n",
            "Requirement already satisfied: google-auth<2,>=1.6.3 in /usr/local/lib/python3.7/dist-packages (from tensorboard~=2.5->tensorflow<2.6.0,>=2.5.0->tensorflow_io) (1.32.1)\n",
            "Requirement already satisfied: markdown>=2.6.8 in /usr/local/lib/python3.7/dist-packages (from tensorboard~=2.5->tensorflow<2.6.0,>=2.5.0->tensorflow_io) (3.3.4)\n",
            "Requirement already satisfied: setuptools>=41.0.0 in /usr/local/lib/python3.7/dist-packages (from tensorboard~=2.5->tensorflow<2.6.0,>=2.5.0->tensorflow_io) (57.2.0)\n",
            "Requirement already satisfied: werkzeug>=0.11.15 in /usr/local/lib/python3.7/dist-packages (from tensorboard~=2.5->tensorflow<2.6.0,>=2.5.0->tensorflow_io) (1.0.1)\n",
            "Requirement already satisfied: requests<3,>=2.21.0 in /usr/local/lib/python3.7/dist-packages (from tensorboard~=2.5->tensorflow<2.6.0,>=2.5.0->tensorflow_io) (2.23.0)\n",
            "Requirement already satisfied: google-auth-oauthlib<0.5,>=0.4.1 in /usr/local/lib/python3.7/dist-packages (from tensorboard~=2.5->tensorflow<2.6.0,>=2.5.0->tensorflow_io) (0.4.4)\n",
            "Requirement already satisfied: cachetools<5.0,>=2.0.0 in /usr/local/lib/python3.7/dist-packages (from google-auth<2,>=1.6.3->tensorboard~=2.5->tensorflow<2.6.0,>=2.5.0->tensorflow_io) (4.2.2)\n",
            "Requirement already satisfied: rsa<5,>=3.1.4 in /usr/local/lib/python3.7/dist-packages (from google-auth<2,>=1.6.3->tensorboard~=2.5->tensorflow<2.6.0,>=2.5.0->tensorflow_io) (4.7.2)\n",
            "Requirement already satisfied: pyasn1-modules>=0.2.1 in /usr/local/lib/python3.7/dist-packages (from google-auth<2,>=1.6.3->tensorboard~=2.5->tensorflow<2.6.0,>=2.5.0->tensorflow_io) (0.2.8)\n",
            "Requirement already satisfied: requests-oauthlib>=0.7.0 in /usr/local/lib/python3.7/dist-packages (from google-auth-oauthlib<0.5,>=0.4.1->tensorboard~=2.5->tensorflow<2.6.0,>=2.5.0->tensorflow_io) (1.3.0)\n",
            "Requirement already satisfied: importlib-metadata in /usr/local/lib/python3.7/dist-packages (from markdown>=2.6.8->tensorboard~=2.5->tensorflow<2.6.0,>=2.5.0->tensorflow_io) (4.6.1)\n",
            "Requirement already satisfied: pyasn1<0.5.0,>=0.4.6 in /usr/local/lib/python3.7/dist-packages (from pyasn1-modules>=0.2.1->google-auth<2,>=1.6.3->tensorboard~=2.5->tensorflow<2.6.0,>=2.5.0->tensorflow_io) (0.4.8)\n",
            "Requirement already satisfied: idna<3,>=2.5 in /usr/local/lib/python3.7/dist-packages (from requests<3,>=2.21.0->tensorboard~=2.5->tensorflow<2.6.0,>=2.5.0->tensorflow_io) (2.10)\n",
            "Requirement already satisfied: urllib3!=1.25.0,!=1.25.1,<1.26,>=1.21.1 in /usr/local/lib/python3.7/dist-packages (from requests<3,>=2.21.0->tensorboard~=2.5->tensorflow<2.6.0,>=2.5.0->tensorflow_io) (1.24.3)\n",
            "Requirement already satisfied: chardet<4,>=3.0.2 in /usr/local/lib/python3.7/dist-packages (from requests<3,>=2.21.0->tensorboard~=2.5->tensorflow<2.6.0,>=2.5.0->tensorflow_io) (3.0.4)\n",
            "Requirement already satisfied: certifi>=2017.4.17 in /usr/local/lib/python3.7/dist-packages (from requests<3,>=2.21.0->tensorboard~=2.5->tensorflow<2.6.0,>=2.5.0->tensorflow_io) (2021.5.30)\n",
            "Requirement already satisfied: oauthlib>=3.0.0 in /usr/local/lib/python3.7/dist-packages (from requests-oauthlib>=0.7.0->google-auth-oauthlib<0.5,>=0.4.1->tensorboard~=2.5->tensorflow<2.6.0,>=2.5.0->tensorflow_io) (3.1.1)\n",
            "Requirement already satisfied: zipp>=0.5 in /usr/local/lib/python3.7/dist-packages (from importlib-metadata->markdown>=2.6.8->tensorboard~=2.5->tensorflow<2.6.0,>=2.5.0->tensorflow_io) (3.5.0)\n"
          ],
          "name": "stdout"
        }
      ]
    },
    {
      "cell_type": "code",
      "metadata": {
        "colab": {
          "base_uri": "https://localhost:8080/"
        },
        "id": "XrpJgpzMcwTa",
        "outputId": "56dbce86-17c7-4d25-87b4-ebef01eebab3"
      },
      "source": [
        "!pip install tensorflow-addons"
      ],
      "execution_count": null,
      "outputs": [
        {
          "output_type": "stream",
          "text": [
            "Requirement already satisfied: tensorflow-addons in /usr/local/lib/python3.7/dist-packages (0.13.0)\n",
            "Requirement already satisfied: typeguard>=2.7 in /usr/local/lib/python3.7/dist-packages (from tensorflow-addons) (2.7.1)\n"
          ],
          "name": "stdout"
        }
      ]
    },
    {
      "cell_type": "code",
      "metadata": {
        "id": "bpsePmpvNjMd"
      },
      "source": [
        "import os\n",
        "\n",
        "from IPython import display\n",
        "import matplotlib.pyplot as plt\n",
        "import numpy as np\n",
        "import pandas as pd\n",
        "from sklearn.model_selection import train_test_split\n",
        "import tensorflow as tf\n",
        "import tensorflow_hub as hub\n",
        "import tensorflow_addons as tfa\n",
        "import tensorflow_io as tfio\n",
        "from tensorflow.keras.models import Model\n",
        "from tensorflow.keras import regularizers\n",
        "from tensorflow.keras.layers import Input, Dense, Activation, Dropout,LSTM,GlobalAveragePooling1D,BatchNormalization,Conv1D,MaxPooling1D,Concatenate,Flatten,Bidirectional,GRU,GlobalMaxPooling1D\n",
        "from tensorflow.keras.models import Model\n",
        "from tensorflow.keras.callbacks import Callback, EarlyStopping, TensorBoard,ModelCheckpoint,ReduceLROnPlateau\n",
        "from keras.models import Sequential\n",
        "from sklearn.metrics import label_ranking_average_precision_score\n",
        "import librosa\n",
        "from tqdm import tqdm"
      ],
      "execution_count": null,
      "outputs": []
    },
    {
      "cell_type": "code",
      "metadata": {
        "id": "3ODbRlHdG9Lz"
      },
      "source": [
        "train_tp=pd.read_csv('/content/drive/MyDrive/Appliedai files/Case_Study_2/train_tp.csv')"
      ],
      "execution_count": null,
      "outputs": []
    },
    {
      "cell_type": "code",
      "metadata": {
        "id": "A76DubGUIEmU",
        "colab": {
          "base_uri": "https://localhost:8080/",
          "height": 204
        },
        "outputId": "f8b7c841-4236-45b8-90d8-1a408019ab82"
      },
      "source": [
        "train_tp.head()"
      ],
      "execution_count": null,
      "outputs": [
        {
          "output_type": "execute_result",
          "data": {
            "text/html": [
              "<div>\n",
              "<style scoped>\n",
              "    .dataframe tbody tr th:only-of-type {\n",
              "        vertical-align: middle;\n",
              "    }\n",
              "\n",
              "    .dataframe tbody tr th {\n",
              "        vertical-align: top;\n",
              "    }\n",
              "\n",
              "    .dataframe thead th {\n",
              "        text-align: right;\n",
              "    }\n",
              "</style>\n",
              "<table border=\"1\" class=\"dataframe\">\n",
              "  <thead>\n",
              "    <tr style=\"text-align: right;\">\n",
              "      <th></th>\n",
              "      <th>recording_id</th>\n",
              "      <th>species_id</th>\n",
              "      <th>songtype_id</th>\n",
              "      <th>t_min</th>\n",
              "      <th>f_min</th>\n",
              "      <th>t_max</th>\n",
              "      <th>f_max</th>\n",
              "    </tr>\n",
              "  </thead>\n",
              "  <tbody>\n",
              "    <tr>\n",
              "      <th>0</th>\n",
              "      <td>003bec244</td>\n",
              "      <td>14</td>\n",
              "      <td>1</td>\n",
              "      <td>44.5440</td>\n",
              "      <td>2531.250</td>\n",
              "      <td>45.1307</td>\n",
              "      <td>5531.25</td>\n",
              "    </tr>\n",
              "    <tr>\n",
              "      <th>1</th>\n",
              "      <td>006ab765f</td>\n",
              "      <td>23</td>\n",
              "      <td>1</td>\n",
              "      <td>39.9615</td>\n",
              "      <td>7235.160</td>\n",
              "      <td>46.0452</td>\n",
              "      <td>11283.40</td>\n",
              "    </tr>\n",
              "    <tr>\n",
              "      <th>2</th>\n",
              "      <td>007f87ba2</td>\n",
              "      <td>12</td>\n",
              "      <td>1</td>\n",
              "      <td>39.1360</td>\n",
              "      <td>562.500</td>\n",
              "      <td>42.2720</td>\n",
              "      <td>3281.25</td>\n",
              "    </tr>\n",
              "    <tr>\n",
              "      <th>3</th>\n",
              "      <td>0099c367b</td>\n",
              "      <td>17</td>\n",
              "      <td>4</td>\n",
              "      <td>51.4206</td>\n",
              "      <td>1464.260</td>\n",
              "      <td>55.1996</td>\n",
              "      <td>4565.04</td>\n",
              "    </tr>\n",
              "    <tr>\n",
              "      <th>4</th>\n",
              "      <td>009b760e6</td>\n",
              "      <td>10</td>\n",
              "      <td>1</td>\n",
              "      <td>50.0854</td>\n",
              "      <td>947.461</td>\n",
              "      <td>52.5293</td>\n",
              "      <td>10852.70</td>\n",
              "    </tr>\n",
              "  </tbody>\n",
              "</table>\n",
              "</div>"
            ],
            "text/plain": [
              "  recording_id  species_id  songtype_id    t_min     f_min    t_max     f_max\n",
              "0    003bec244          14            1  44.5440  2531.250  45.1307   5531.25\n",
              "1    006ab765f          23            1  39.9615  7235.160  46.0452  11283.40\n",
              "2    007f87ba2          12            1  39.1360   562.500  42.2720   3281.25\n",
              "3    0099c367b          17            4  51.4206  1464.260  55.1996   4565.04\n",
              "4    009b760e6          10            1  50.0854   947.461  52.5293  10852.70"
            ]
          },
          "metadata": {
            "tags": []
          },
          "execution_count": 5
        }
      ]
    },
    {
      "cell_type": "code",
      "metadata": {
        "id": "nD8eFfkmOCgD"
      },
      "source": [
        "yamnet_model_handle= 'https://tfhub.dev/google/yamnet/1'\n",
        "yamnet_model=hub.load(yamnet_model_handle)"
      ],
      "execution_count": null,
      "outputs": []
    },
    {
      "cell_type": "code",
      "metadata": {
        "id": "u5gNjROFIqMl",
        "colab": {
          "base_uri": "https://localhost:8080/"
        },
        "outputId": "39f1d2d9-63f8-4ac5-bfd4-14cc24f0a759"
      },
      "source": [
        "class_map_path = yamnet_model.class_map_path().numpy().decode('utf-8')\n",
        "class_names =list(pd.read_csv(class_map_path)['display_name'])\n",
        "\n",
        "for name in class_names[:20]:\n",
        "  print(name)\n",
        "print('...')"
      ],
      "execution_count": null,
      "outputs": [
        {
          "output_type": "stream",
          "text": [
            "Speech\n",
            "Child speech, kid speaking\n",
            "Conversation\n",
            "Narration, monologue\n",
            "Babbling\n",
            "Speech synthesizer\n",
            "Shout\n",
            "Bellow\n",
            "Whoop\n",
            "Yell\n",
            "Children shouting\n",
            "Screaming\n",
            "Whispering\n",
            "Laughter\n",
            "Baby laughter\n",
            "Giggle\n",
            "Snicker\n",
            "Belly laugh\n",
            "Chuckle, chortle\n",
            "Crying, sobbing\n",
            "...\n"
          ],
          "name": "stdout"
        }
      ]
    },
    {
      "cell_type": "code",
      "metadata": {
        "id": "t1_1B6AxPIY3"
      },
      "source": [
        "# Utility functions for loading audio files and making sure the sample rate is correct.\n",
        "def load_flac_16k_mono(filename):\n",
        "    \"\"\" Load a WAV file, convert it to a float tensor, resample to 16 kHz single-channel audio. \"\"\"\n",
        "    #load the raw signal\n",
        "    audio = tfio.IOTensor.graph(tf.int16).from_audio(filename)\n",
        "    audio_slice = audio.to_tensor()\n",
        "\n",
        "    # remove last dimension\n",
        "    audio_tensor = tf.squeeze(audio_slice, axis=[-1])\n",
        "    audio_tensor = tf.cast(audio_tensor, tf.float32)\n",
        "    sample_rate = tf.cast(48000, dtype=tf.int64)\n",
        "    #resample the signal tp 16000 sampling rate so that it can be fed to yamnet model\n",
        "    audio_tensor = tfio.audio.resample(audio_tensor, rate_in=sample_rate, rate_out=16000)\n",
        "    #getting embeddings\n",
        "    scores, embeddings, spectrogram = yamnet_model(audio_tensor)\n",
        "    return embeddings\n",
        "  \n"
      ],
      "execution_count": null,
      "outputs": []
    },
    {
      "cell_type": "code",
      "metadata": {
        "id": "LgX4lriUjamt",
        "colab": {
          "base_uri": "https://localhost:8080/"
        },
        "outputId": "572f2869-619c-41cd-d572-cc9591c1cd1b"
      },
      "source": [
        "test_audio,test_spec=load_flac_16k_mono('/content/drive/MyDrive/Appliedai files/Case_Study_2/train/003b04435.flac')"
      ],
      "execution_count": null,
      "outputs": [
        {
          "output_type": "stream",
          "text": [
            "(960000,)\n"
          ],
          "name": "stdout"
        }
      ]
    },
    {
      "cell_type": "code",
      "metadata": {
        "id": "bwSkjoqUISqV"
      },
      "source": [
        "# Loading the test data files\n",
        "test = os.listdir('/content/drive/MyDrive/Appliedai files/Case_Study_2/test')"
      ],
      "execution_count": null,
      "outputs": []
    },
    {
      "cell_type": "code",
      "metadata": {
        "id": "Y5H-gmFzI8Zb"
      },
      "source": [
        "# Splitting the train true positive data into train and validation\n",
        "train, validation = train_test_split(train_tp, test_size = 0.1, stratify = train_tp['species_id'])"
      ],
      "execution_count": null,
      "outputs": []
    },
    {
      "cell_type": "code",
      "metadata": {
        "id": "FA95X7TJRkqG"
      },
      "source": [
        "# Global variables \n",
        "CLASS_N = 24\n",
        "BATCHSIZE = 8\n",
        "STEPS_PER_EPOCH = 140 #(train_pts/batch_size)"
      ],
      "execution_count": null,
      "outputs": []
    },
    {
      "cell_type": "code",
      "metadata": {
        "id": "GIRfuVPhkhp6"
      },
      "source": [
        "train.reset_index(inplace=True)\n",
        "validation.reset_index(inplace=True)"
      ],
      "execution_count": null,
      "outputs": []
    },
    {
      "cell_type": "code",
      "metadata": {
        "id": "BdxorecuQBYk"
      },
      "source": [
        "def preprocess_train(file):\n",
        "    \"\"\"Preprocessing train files\"\"\"\n",
        "    # Calling the preprocess_img function with data_type as train\n",
        "    \n",
        "    audio = load_flac_16k_mono('/content/drive/MyDrive/Appliedai files/Case_Study_2/train/'+file['recording_id']+'.flac')\n",
        "    \n",
        "    # Computing the one hot encoded values of species_id\n",
        "    label = tf.one_hot(file['species_id'], CLASS_N)\n",
        "    # Returning the spectrogram and one hot encoded species_id\n",
        "    return audio,label\n",
        "\n",
        "\n",
        "def preprocess_val(file):\n",
        "    \"\"\"Preprocessing validation files\"\"\"\n",
        "    # Calling the preprocess_img function with data_type as validation\n",
        "    audio = load_flac_16k_mono('/content/drive/MyDrive/Appliedai files/Case_Study_2/train/'+file['recording_id']+'.flac')\n",
        "\n",
        "    # Computing the one hot encoded values of species_id\n",
        "    label = tf.one_hot(file['species_id'], CLASS_N)\n",
        "    # Returning the spectrogram and one hot encoded species_id\n",
        "    return audio, label\n",
        "\n",
        "    \n",
        "def preprocess_test(file):\n",
        "    \"\"\"Preprocessing test files\"\"\"\n",
        "    # Calling the preprocess_img function with data_type as test\n",
        "    audio = load_flac_16k_mono('/content/drive/MyDrive/Appliedai files/Case_Study_2/test/'+file)\n",
        "\n",
        "    file_name = tf.strings.split(file,'.')[0]\n",
        "    # Returning only the spectrogram image for test dataset \n",
        "    return audio,file_name\n",
        "\n"
      ],
      "execution_count": null,
      "outputs": []
    },
    {
      "cell_type": "code",
      "metadata": {
        "colab": {
          "base_uri": "https://localhost:8080/"
        },
        "id": "TJNUIEChiPXa",
        "outputId": "f43c6f18-3485-4ac7-e5be-1d760fb3da4f"
      },
      "source": [
        "# Creating a dataset from train data and mapping the preprocess train function \n",
        "files_ds_tr = tf.data.Dataset.from_tensor_slices(dict(train))\n",
        "train_dataset = files_ds_tr.map(preprocess_train).cache().shuffle(3).batch(BATCHSIZE).prefetch(-1).repeat()\n",
        "\n",
        "# Creating a dataset from train data and mapping the preprocess train function \n",
        "files_ds_val = tf.data.Dataset.from_tensor_slices(dict(validation))\n",
        "val_dataset = files_ds_val.map(preprocess_val).cache().shuffle(3).batch(BATCHSIZE).prefetch(-1)\n"
      ],
      "execution_count": null,
      "outputs": [
        {
          "output_type": "stream",
          "text": [
            "WARNING:tensorflow:From /usr/local/lib/python3.7/dist-packages/tensorflow/python/ops/parallel_for/pfor.py:2382: calling gather (from tensorflow.python.ops.array_ops) with validate_indices is deprecated and will be removed in a future version.\n",
            "Instructions for updating:\n",
            "The `validate_indices` argument has no effect. Indices are always validated on CPU and never validated on GPU.\n"
          ],
          "name": "stdout"
        },
        {
          "output_type": "stream",
          "text": [
            "WARNING:tensorflow:From /usr/local/lib/python3.7/dist-packages/tensorflow/python/ops/parallel_for/pfor.py:2382: calling gather (from tensorflow.python.ops.array_ops) with validate_indices is deprecated and will be removed in a future version.\n",
            "Instructions for updating:\n",
            "The `validate_indices` argument has no effect. Indices are always validated on CPU and never validated on GPU.\n"
          ],
          "name": "stderr"
        },
        {
          "output_type": "stream",
          "text": [
            "WARNING:tensorflow:Using a while_loop for converting IO>AudioResample\n"
          ],
          "name": "stdout"
        },
        {
          "output_type": "stream",
          "text": [
            "WARNING:tensorflow:Using a while_loop for converting IO>AudioResample\n"
          ],
          "name": "stderr"
        },
        {
          "output_type": "stream",
          "text": [
            "WARNING:tensorflow:Using a while_loop for converting IO>AudioResample\n"
          ],
          "name": "stdout"
        },
        {
          "output_type": "stream",
          "text": [
            "WARNING:tensorflow:Using a while_loop for converting IO>AudioResample\n"
          ],
          "name": "stderr"
        }
      ]
    },
    {
      "cell_type": "code",
      "metadata": {
        "id": "lKgHVNQUOrT1"
      },
      "source": [
        "def lwlrap(y_true, y_pred):\n",
        "    return tf.py_function(label_ranking_average_precision_score, (y_true, y_pred), tf.double)"
      ],
      "execution_count": null,
      "outputs": []
    },
    {
      "cell_type": "markdown",
      "metadata": {
        "id": "Day8Zt2B0KGl"
      },
      "source": [
        "## LSTM Model"
      ]
    },
    {
      "cell_type": "code",
      "metadata": {
        "id": "pP4QS8lzJGEs",
        "colab": {
          "base_uri": "https://localhost:8080/"
        },
        "outputId": "5e7d55cb-f242-4257-f23d-4f185cff71c3"
      },
      "source": [
        "#Train a NN classifier with embedding features\n",
        "def lstm_model():\n",
        "\n",
        "  input_layer= Input(shape=(124,1024), name='Input_layer')\n",
        "  lstm_layer= LSTM(512,return_sequences=True)(inputs=input_layer)\n",
        "  td=GlobalAveragePooling1D()(lstm_layer)\n",
        "  dense_2= Dense(324, activation='relu',kernel_initializer='he_normal')(td)\n",
        "  drop_out1= Dropout(0.7)(dense_2)\n",
        "  dense_3= Dense(128, activation='relu',kernel_initializer='he_normal')(drop_out1)\n",
        "  drop_out2= Dropout(0.5)(dense_3)\n",
        "  dense_4=Dense(64, activation='relu',kernel_initializer='he_normal')(drop_out2)\n",
        "  dense_5=Dense(32, activation='relu',kernel_initializer='he_normal')(dense_4)\n",
        "  output= Dense(CLASS_N, activation='sigmoid')(dense_5)\n",
        "  model= Model(inputs=[input_layer], outputs=[output])\n",
        "\n",
        "  opt=tf.keras.optimizers.Adam()  # Optimizer\n",
        "  model.compile(optimizer=opt, loss='binary_crossentropy',metrics=[lwlrap])\n",
        "\n",
        "  return model\n",
        "  \n",
        "model=lstm_model()\n",
        "model.summary()\n"
      ],
      "execution_count": null,
      "outputs": [
        {
          "output_type": "stream",
          "text": [
            "Model: \"model_4\"\n",
            "_________________________________________________________________\n",
            "Layer (type)                 Output Shape              Param #   \n",
            "=================================================================\n",
            "Input_layer (InputLayer)     [(None, 124, 1024)]       0         \n",
            "_________________________________________________________________\n",
            "lstm_4 (LSTM)                (None, 124, 512)          3147776   \n",
            "_________________________________________________________________\n",
            "global_average_pooling1d_4 ( (None, 512)               0         \n",
            "_________________________________________________________________\n",
            "dense_20 (Dense)             (None, 324)               166212    \n",
            "_________________________________________________________________\n",
            "dropout_8 (Dropout)          (None, 324)               0         \n",
            "_________________________________________________________________\n",
            "dense_21 (Dense)             (None, 128)               41600     \n",
            "_________________________________________________________________\n",
            "dropout_9 (Dropout)          (None, 128)               0         \n",
            "_________________________________________________________________\n",
            "dense_22 (Dense)             (None, 64)                8256      \n",
            "_________________________________________________________________\n",
            "dense_23 (Dense)             (None, 32)                2080      \n",
            "_________________________________________________________________\n",
            "dense_24 (Dense)             (None, 24)                792       \n",
            "=================================================================\n",
            "Total params: 3,366,716\n",
            "Trainable params: 3,366,716\n",
            "Non-trainable params: 0\n",
            "_________________________________________________________________\n"
          ],
          "name": "stdout"
        }
      ]
    },
    {
      "cell_type": "code",
      "metadata": {
        "colab": {
          "base_uri": "https://localhost:8080/"
        },
        "id": "hulWGgdilyHv",
        "outputId": "d957ed4a-6816-4a2c-f40d-f83ab8800e99"
      },
      "source": [
        "#loading tensorboard\n",
        "%load_ext tensorboard\n",
        "!rm -rf ./logs/\n",
        "from datetime import datetime\n",
        "#creating log directory\n",
        "logdir=\"logs/scalars_2/\" + datetime.now().strftime(\"%Y%m%d-%H%M%S\")\n",
        "#tensorboard callback\n",
        "tensorboard_1 = TensorBoard(log_dir=logdir)\n",
        "earlystop= EarlyStopping(monitor='val_lwlrap', patience=20,mode='max')\n",
        "lrdecay=ReduceLROnPlateau(monitor='val_lwlrap',factor=0.9,patience=4,mode='max')\n",
        "\n",
        "\n",
        "#Path for saving model\n",
        "filepath=\"/content/drive/MyDrive/Appliedai files/Case_Study_2/model_1/weights-{epoch:02d}-{val_lwlrap:.4f}.hdf5\"\n",
        "#Model checkpoint callback\n",
        "checkpoint_1 = ModelCheckpoint(filepath=filepath, monitor='val_lwlrap', save_best_only=True, verbose=1, mode='max', save_freq='epoch')"
      ],
      "execution_count": null,
      "outputs": [
        {
          "output_type": "stream",
          "text": [
            "The tensorboard extension is already loaded. To reload it, use:\n",
            "  %reload_ext tensorboard\n"
          ],
          "name": "stdout"
        }
      ]
    },
    {
      "cell_type": "code",
      "metadata": {
        "colab": {
          "base_uri": "https://localhost:8080/"
        },
        "id": "fjsmzNZmO1T1",
        "outputId": "23bc9219-6757-45f8-c56b-e764f409baa4"
      },
      "source": [
        "model.fit(train_dataset,steps_per_epoch=STEPS_PER_EPOCH, validation_data=val_dataset,epochs = 150,callbacks=[earlystop,lrdecay,tensorboard_1,checkpoint_1])"
      ],
      "execution_count": null,
      "outputs": [
        {
          "output_type": "stream",
          "text": [
            "Epoch 1/150\n",
            "140/140 [==============================] - 6s 31ms/step - loss: 0.2521 - lwlrap: 0.1628 - val_loss: 0.1871 - val_lwlrap: 0.2133\n",
            "\n",
            "Epoch 00001: val_lwlrap improved from -inf to 0.21332, saving model to /content/drive/MyDrive/Appliedai files/Case_Study_2/model_1/weights-01-0.2133.hdf5\n",
            "Epoch 2/150\n",
            "140/140 [==============================] - 4s 25ms/step - loss: 0.1876 - lwlrap: 0.1965 - val_loss: 0.1913 - val_lwlrap: 0.2339\n",
            "\n",
            "Epoch 00002: val_lwlrap improved from 0.21332 to 0.23391, saving model to /content/drive/MyDrive/Appliedai files/Case_Study_2/model_1/weights-02-0.2339.hdf5\n",
            "Epoch 3/150\n",
            "140/140 [==============================] - 4s 25ms/step - loss: 0.1814 - lwlrap: 0.2181 - val_loss: 0.1745 - val_lwlrap: 0.2566\n",
            "\n",
            "Epoch 00003: val_lwlrap improved from 0.23391 to 0.25655, saving model to /content/drive/MyDrive/Appliedai files/Case_Study_2/model_1/weights-03-0.2566.hdf5\n",
            "Epoch 4/150\n",
            "140/140 [==============================] - 4s 26ms/step - loss: 0.1751 - lwlrap: 0.2328 - val_loss: 0.1789 - val_lwlrap: 0.2542\n",
            "\n",
            "Epoch 00004: val_lwlrap did not improve from 0.25655\n",
            "Epoch 5/150\n",
            "140/140 [==============================] - 4s 25ms/step - loss: 0.1698 - lwlrap: 0.2499 - val_loss: 0.1806 - val_lwlrap: 0.2395\n",
            "\n",
            "Epoch 00005: val_lwlrap did not improve from 0.25655\n",
            "Epoch 6/150\n",
            "140/140 [==============================] - 4s 26ms/step - loss: 0.1662 - lwlrap: 0.2585 - val_loss: 0.1688 - val_lwlrap: 0.2538\n",
            "\n",
            "Epoch 00006: val_lwlrap did not improve from 0.25655\n",
            "Epoch 7/150\n",
            "140/140 [==============================] - 3s 25ms/step - loss: 0.1621 - lwlrap: 0.2621 - val_loss: 0.1732 - val_lwlrap: 0.2720\n",
            "\n",
            "Epoch 00007: val_lwlrap improved from 0.25655 to 0.27203, saving model to /content/drive/MyDrive/Appliedai files/Case_Study_2/model_1/weights-07-0.2720.hdf5\n",
            "Epoch 8/150\n",
            "140/140 [==============================] - 4s 25ms/step - loss: 0.1597 - lwlrap: 0.2867 - val_loss: 0.1651 - val_lwlrap: 0.2895\n",
            "\n",
            "Epoch 00008: val_lwlrap improved from 0.27203 to 0.28948, saving model to /content/drive/MyDrive/Appliedai files/Case_Study_2/model_1/weights-08-0.2895.hdf5\n",
            "Epoch 9/150\n",
            "140/140 [==============================] - 4s 26ms/step - loss: 0.1577 - lwlrap: 0.3036 - val_loss: 0.1623 - val_lwlrap: 0.2798\n",
            "\n",
            "Epoch 00009: val_lwlrap did not improve from 0.28948\n",
            "Epoch 10/150\n",
            "140/140 [==============================] - 4s 27ms/step - loss: 0.1561 - lwlrap: 0.2999 - val_loss: 0.1580 - val_lwlrap: 0.2989\n",
            "\n",
            "Epoch 00010: val_lwlrap improved from 0.28948 to 0.29892, saving model to /content/drive/MyDrive/Appliedai files/Case_Study_2/model_1/weights-10-0.2989.hdf5\n",
            "Epoch 11/150\n",
            "140/140 [==============================] - 4s 26ms/step - loss: 0.1557 - lwlrap: 0.3050 - val_loss: 0.1568 - val_lwlrap: 0.2945\n",
            "\n",
            "Epoch 00011: val_lwlrap did not improve from 0.29892\n",
            "Epoch 12/150\n",
            "140/140 [==============================] - 4s 26ms/step - loss: 0.1532 - lwlrap: 0.3238 - val_loss: 0.1573 - val_lwlrap: 0.3120\n",
            "\n",
            "Epoch 00012: val_lwlrap improved from 0.29892 to 0.31202, saving model to /content/drive/MyDrive/Appliedai files/Case_Study_2/model_1/weights-12-0.3120.hdf5\n",
            "Epoch 13/150\n",
            "140/140 [==============================] - 4s 26ms/step - loss: 0.1524 - lwlrap: 0.3215 - val_loss: 0.1557 - val_lwlrap: 0.3024\n",
            "\n",
            "Epoch 00013: val_lwlrap did not improve from 0.31202\n",
            "Epoch 14/150\n",
            "140/140 [==============================] - 4s 26ms/step - loss: 0.1501 - lwlrap: 0.3345 - val_loss: 0.1516 - val_lwlrap: 0.3220\n",
            "\n",
            "Epoch 00014: val_lwlrap improved from 0.31202 to 0.32203, saving model to /content/drive/MyDrive/Appliedai files/Case_Study_2/model_1/weights-14-0.3220.hdf5\n",
            "Epoch 15/150\n",
            "140/140 [==============================] - 4s 26ms/step - loss: 0.1492 - lwlrap: 0.3438 - val_loss: 0.1515 - val_lwlrap: 0.3149\n",
            "\n",
            "Epoch 00015: val_lwlrap did not improve from 0.32203\n",
            "Epoch 16/150\n",
            "140/140 [==============================] - 4s 25ms/step - loss: 0.1483 - lwlrap: 0.3461 - val_loss: 0.1493 - val_lwlrap: 0.3283\n",
            "\n",
            "Epoch 00016: val_lwlrap improved from 0.32203 to 0.32835, saving model to /content/drive/MyDrive/Appliedai files/Case_Study_2/model_1/weights-16-0.3283.hdf5\n",
            "Epoch 17/150\n",
            "140/140 [==============================] - 4s 26ms/step - loss: 0.1470 - lwlrap: 0.3561 - val_loss: 0.1483 - val_lwlrap: 0.3180\n",
            "\n",
            "Epoch 00017: val_lwlrap did not improve from 0.32835\n",
            "Epoch 18/150\n",
            "140/140 [==============================] - 4s 25ms/step - loss: 0.1456 - lwlrap: 0.3619 - val_loss: 0.1472 - val_lwlrap: 0.3319\n",
            "\n",
            "Epoch 00018: val_lwlrap improved from 0.32835 to 0.33193, saving model to /content/drive/MyDrive/Appliedai files/Case_Study_2/model_1/weights-18-0.3319.hdf5\n",
            "Epoch 19/150\n",
            "140/140 [==============================] - 4s 25ms/step - loss: 0.1447 - lwlrap: 0.3723 - val_loss: 0.1452 - val_lwlrap: 0.3575\n",
            "\n",
            "Epoch 00019: val_lwlrap improved from 0.33193 to 0.35747, saving model to /content/drive/MyDrive/Appliedai files/Case_Study_2/model_1/weights-19-0.3575.hdf5\n",
            "Epoch 20/150\n",
            "140/140 [==============================] - 4s 25ms/step - loss: 0.1434 - lwlrap: 0.3885 - val_loss: 0.1449 - val_lwlrap: 0.3537\n",
            "\n",
            "Epoch 00020: val_lwlrap did not improve from 0.35747\n",
            "Epoch 21/150\n",
            "140/140 [==============================] - 4s 25ms/step - loss: 0.1411 - lwlrap: 0.4037 - val_loss: 0.1434 - val_lwlrap: 0.4131\n",
            "\n",
            "Epoch 00021: val_lwlrap improved from 0.35747 to 0.41307, saving model to /content/drive/MyDrive/Appliedai files/Case_Study_2/model_1/weights-21-0.4131.hdf5\n",
            "Epoch 22/150\n",
            "140/140 [==============================] - 4s 25ms/step - loss: 0.1391 - lwlrap: 0.4141 - val_loss: 0.1455 - val_lwlrap: 0.4115\n",
            "\n",
            "Epoch 00022: val_lwlrap did not improve from 0.41307\n",
            "Epoch 23/150\n",
            "140/140 [==============================] - 4s 25ms/step - loss: 0.1388 - lwlrap: 0.4198 - val_loss: 0.1468 - val_lwlrap: 0.3733\n",
            "\n",
            "Epoch 00023: val_lwlrap did not improve from 0.41307\n",
            "Epoch 24/150\n",
            "140/140 [==============================] - 4s 26ms/step - loss: 0.1378 - lwlrap: 0.4125 - val_loss: 0.1456 - val_lwlrap: 0.3871\n",
            "\n",
            "Epoch 00024: val_lwlrap did not improve from 0.41307\n",
            "Epoch 25/150\n",
            "140/140 [==============================] - 4s 25ms/step - loss: 0.1337 - lwlrap: 0.4474 - val_loss: 0.1417 - val_lwlrap: 0.3962\n",
            "\n",
            "Epoch 00025: val_lwlrap did not improve from 0.41307\n",
            "Epoch 26/150\n",
            "140/140 [==============================] - 4s 25ms/step - loss: 0.1322 - lwlrap: 0.4515 - val_loss: 0.1450 - val_lwlrap: 0.3933\n",
            "\n",
            "Epoch 00026: val_lwlrap did not improve from 0.41307\n",
            "Epoch 27/150\n",
            "140/140 [==============================] - 4s 25ms/step - loss: 0.1326 - lwlrap: 0.4522 - val_loss: 0.1447 - val_lwlrap: 0.4160\n",
            "\n",
            "Epoch 00027: val_lwlrap improved from 0.41307 to 0.41605, saving model to /content/drive/MyDrive/Appliedai files/Case_Study_2/model_1/weights-27-0.4160.hdf5\n",
            "Epoch 28/150\n",
            "140/140 [==============================] - 4s 25ms/step - loss: 0.1285 - lwlrap: 0.4730 - val_loss: 0.1415 - val_lwlrap: 0.4620\n",
            "\n",
            "Epoch 00028: val_lwlrap improved from 0.41605 to 0.46202, saving model to /content/drive/MyDrive/Appliedai files/Case_Study_2/model_1/weights-28-0.4620.hdf5\n",
            "Epoch 29/150\n",
            "140/140 [==============================] - 4s 26ms/step - loss: 0.1287 - lwlrap: 0.4819 - val_loss: 0.1415 - val_lwlrap: 0.4443\n",
            "\n",
            "Epoch 00029: val_lwlrap did not improve from 0.46202\n",
            "Epoch 30/150\n",
            "140/140 [==============================] - 4s 26ms/step - loss: 0.1251 - lwlrap: 0.4923 - val_loss: 0.1433 - val_lwlrap: 0.4574\n",
            "\n",
            "Epoch 00030: val_lwlrap did not improve from 0.46202\n",
            "Epoch 31/150\n",
            "140/140 [==============================] - 4s 26ms/step - loss: 0.1258 - lwlrap: 0.4827 - val_loss: 0.1393 - val_lwlrap: 0.4659\n",
            "\n",
            "Epoch 00031: val_lwlrap improved from 0.46202 to 0.46587, saving model to /content/drive/MyDrive/Appliedai files/Case_Study_2/model_1/weights-31-0.4659.hdf5\n",
            "Epoch 32/150\n",
            "140/140 [==============================] - 4s 26ms/step - loss: 0.1240 - lwlrap: 0.4967 - val_loss: 0.1387 - val_lwlrap: 0.4867\n",
            "\n",
            "Epoch 00032: val_lwlrap improved from 0.46587 to 0.48668, saving model to /content/drive/MyDrive/Appliedai files/Case_Study_2/model_1/weights-32-0.4867.hdf5\n",
            "Epoch 33/150\n",
            "140/140 [==============================] - 4s 25ms/step - loss: 0.1229 - lwlrap: 0.4994 - val_loss: 0.1373 - val_lwlrap: 0.4773\n",
            "\n",
            "Epoch 00033: val_lwlrap did not improve from 0.48668\n",
            "Epoch 34/150\n",
            "140/140 [==============================] - 4s 26ms/step - loss: 0.1230 - lwlrap: 0.4968 - val_loss: 0.1381 - val_lwlrap: 0.4781\n",
            "\n",
            "Epoch 00034: val_lwlrap did not improve from 0.48668\n",
            "Epoch 35/150\n",
            "140/140 [==============================] - 4s 25ms/step - loss: 0.1206 - lwlrap: 0.5088 - val_loss: 0.1360 - val_lwlrap: 0.4785\n",
            "\n",
            "Epoch 00035: val_lwlrap did not improve from 0.48668\n",
            "Epoch 36/150\n",
            "140/140 [==============================] - 4s 26ms/step - loss: 0.1204 - lwlrap: 0.5137 - val_loss: 0.1380 - val_lwlrap: 0.4873\n",
            "\n",
            "Epoch 00036: val_lwlrap improved from 0.48668 to 0.48729, saving model to /content/drive/MyDrive/Appliedai files/Case_Study_2/model_1/weights-36-0.4873.hdf5\n",
            "Epoch 37/150\n",
            "140/140 [==============================] - 4s 26ms/step - loss: 0.1191 - lwlrap: 0.5147 - val_loss: 0.1424 - val_lwlrap: 0.4660\n",
            "\n",
            "Epoch 00037: val_lwlrap did not improve from 0.48729\n",
            "Epoch 38/150\n",
            "140/140 [==============================] - 4s 25ms/step - loss: 0.1189 - lwlrap: 0.5180 - val_loss: 0.1392 - val_lwlrap: 0.4812\n",
            "\n",
            "Epoch 00038: val_lwlrap did not improve from 0.48729\n",
            "Epoch 39/150\n",
            "140/140 [==============================] - 4s 26ms/step - loss: 0.1162 - lwlrap: 0.5331 - val_loss: 0.1451 - val_lwlrap: 0.4800\n",
            "\n",
            "Epoch 00039: val_lwlrap did not improve from 0.48729\n",
            "Epoch 40/150\n",
            "140/140 [==============================] - 4s 26ms/step - loss: 0.1160 - lwlrap: 0.5234 - val_loss: 0.1624 - val_lwlrap: 0.4615\n",
            "\n",
            "Epoch 00040: val_lwlrap did not improve from 0.48729\n",
            "Epoch 41/150\n",
            "140/140 [==============================] - 4s 25ms/step - loss: 0.1202 - lwlrap: 0.5120 - val_loss: 0.1389 - val_lwlrap: 0.4861\n",
            "\n",
            "Epoch 00041: val_lwlrap did not improve from 0.48729\n",
            "Epoch 42/150\n",
            "140/140 [==============================] - 4s 25ms/step - loss: 0.1158 - lwlrap: 0.5374 - val_loss: 0.1429 - val_lwlrap: 0.4877\n",
            "\n",
            "Epoch 00042: val_lwlrap improved from 0.48729 to 0.48775, saving model to /content/drive/MyDrive/Appliedai files/Case_Study_2/model_1/weights-42-0.4877.hdf5\n",
            "Epoch 43/150\n",
            "140/140 [==============================] - 4s 25ms/step - loss: 0.1139 - lwlrap: 0.5490 - val_loss: 0.1420 - val_lwlrap: 0.4875\n",
            "\n",
            "Epoch 00043: val_lwlrap did not improve from 0.48775\n",
            "Epoch 44/150\n",
            "140/140 [==============================] - 4s 25ms/step - loss: 0.1120 - lwlrap: 0.5580 - val_loss: 0.1397 - val_lwlrap: 0.4732\n",
            "\n",
            "Epoch 00044: val_lwlrap did not improve from 0.48775\n",
            "Epoch 45/150\n",
            "140/140 [==============================] - 4s 26ms/step - loss: 0.1122 - lwlrap: 0.5622 - val_loss: 0.1397 - val_lwlrap: 0.4831\n",
            "\n",
            "Epoch 00045: val_lwlrap did not improve from 0.48775\n",
            "Epoch 46/150\n",
            "140/140 [==============================] - 4s 25ms/step - loss: 0.1095 - lwlrap: 0.5714 - val_loss: 0.1430 - val_lwlrap: 0.4847\n",
            "\n",
            "Epoch 00046: val_lwlrap did not improve from 0.48775\n",
            "Epoch 47/150\n",
            "140/140 [==============================] - 4s 25ms/step - loss: 0.1081 - lwlrap: 0.5772 - val_loss: 0.1414 - val_lwlrap: 0.5263\n",
            "\n",
            "Epoch 00047: val_lwlrap improved from 0.48775 to 0.52628, saving model to /content/drive/MyDrive/Appliedai files/Case_Study_2/model_1/weights-47-0.5263.hdf5\n",
            "Epoch 48/150\n",
            "140/140 [==============================] - 4s 26ms/step - loss: 0.1087 - lwlrap: 0.5768 - val_loss: 0.1345 - val_lwlrap: 0.4976\n",
            "\n",
            "Epoch 00048: val_lwlrap did not improve from 0.52628\n",
            "Epoch 49/150\n",
            "140/140 [==============================] - 4s 26ms/step - loss: 0.1045 - lwlrap: 0.5909 - val_loss: 0.1386 - val_lwlrap: 0.5236\n",
            "\n",
            "Epoch 00049: val_lwlrap did not improve from 0.52628\n",
            "Epoch 50/150\n",
            "140/140 [==============================] - 4s 26ms/step - loss: 0.1019 - lwlrap: 0.6171 - val_loss: 0.1424 - val_lwlrap: 0.4995\n",
            "\n",
            "Epoch 00050: val_lwlrap did not improve from 0.52628\n",
            "Epoch 51/150\n",
            "140/140 [==============================] - 4s 25ms/step - loss: 0.1035 - lwlrap: 0.6104 - val_loss: 0.1507 - val_lwlrap: 0.4833\n",
            "\n",
            "Epoch 00051: val_lwlrap did not improve from 0.52628\n",
            "Epoch 52/150\n",
            "140/140 [==============================] - 4s 25ms/step - loss: 0.1008 - lwlrap: 0.6156 - val_loss: 0.1425 - val_lwlrap: 0.5047\n",
            "\n",
            "Epoch 00052: val_lwlrap did not improve from 0.52628\n",
            "Epoch 53/150\n",
            "140/140 [==============================] - 4s 25ms/step - loss: 0.0977 - lwlrap: 0.6450 - val_loss: 0.1567 - val_lwlrap: 0.5095\n",
            "\n",
            "Epoch 00053: val_lwlrap did not improve from 0.52628\n",
            "Epoch 54/150\n",
            "140/140 [==============================] - 4s 26ms/step - loss: 0.1013 - lwlrap: 0.6169 - val_loss: 0.1458 - val_lwlrap: 0.5144\n",
            "\n",
            "Epoch 00054: val_lwlrap did not improve from 0.52628\n",
            "Epoch 55/150\n",
            "140/140 [==============================] - 4s 26ms/step - loss: 0.0984 - lwlrap: 0.6274 - val_loss: 0.1630 - val_lwlrap: 0.4794\n",
            "\n",
            "Epoch 00055: val_lwlrap did not improve from 0.52628\n",
            "Epoch 56/150\n",
            "140/140 [==============================] - 4s 26ms/step - loss: 0.0965 - lwlrap: 0.6371 - val_loss: 0.1547 - val_lwlrap: 0.5310\n",
            "\n",
            "Epoch 00056: val_lwlrap improved from 0.52628 to 0.53095, saving model to /content/drive/MyDrive/Appliedai files/Case_Study_2/model_1/weights-56-0.5310.hdf5\n",
            "Epoch 57/150\n",
            "140/140 [==============================] - 4s 26ms/step - loss: 0.0949 - lwlrap: 0.6538 - val_loss: 0.1597 - val_lwlrap: 0.5169\n",
            "\n",
            "Epoch 00057: val_lwlrap did not improve from 0.53095\n",
            "Epoch 58/150\n",
            "140/140 [==============================] - 4s 26ms/step - loss: 0.0935 - lwlrap: 0.6536 - val_loss: 0.1482 - val_lwlrap: 0.5148\n",
            "\n",
            "Epoch 00058: val_lwlrap did not improve from 0.53095\n",
            "Epoch 59/150\n",
            "140/140 [==============================] - 4s 27ms/step - loss: 0.0923 - lwlrap: 0.6608 - val_loss: 0.1514 - val_lwlrap: 0.5352\n",
            "\n",
            "Epoch 00059: val_lwlrap improved from 0.53095 to 0.53521, saving model to /content/drive/MyDrive/Appliedai files/Case_Study_2/model_1/weights-59-0.5352.hdf5\n",
            "Epoch 60/150\n",
            "140/140 [==============================] - 4s 28ms/step - loss: 0.0913 - lwlrap: 0.6738 - val_loss: 0.1777 - val_lwlrap: 0.5171\n",
            "\n",
            "Epoch 00060: val_lwlrap did not improve from 0.53521\n",
            "Epoch 61/150\n",
            "140/140 [==============================] - 4s 26ms/step - loss: 0.0898 - lwlrap: 0.6736 - val_loss: 0.1778 - val_lwlrap: 0.5599\n",
            "\n",
            "Epoch 00061: val_lwlrap improved from 0.53521 to 0.55994, saving model to /content/drive/MyDrive/Appliedai files/Case_Study_2/model_1/weights-61-0.5599.hdf5\n",
            "Epoch 62/150\n",
            "140/140 [==============================] - 4s 26ms/step - loss: 0.0892 - lwlrap: 0.6803 - val_loss: 0.1536 - val_lwlrap: 0.5164\n",
            "\n",
            "Epoch 00062: val_lwlrap did not improve from 0.55994\n",
            "Epoch 63/150\n",
            "140/140 [==============================] - 4s 25ms/step - loss: 0.0855 - lwlrap: 0.6927 - val_loss: 0.1462 - val_lwlrap: 0.5404\n",
            "\n",
            "Epoch 00063: val_lwlrap did not improve from 0.55994\n",
            "Epoch 64/150\n",
            "140/140 [==============================] - 4s 26ms/step - loss: 0.0842 - lwlrap: 0.7023 - val_loss: 0.1592 - val_lwlrap: 0.5472\n",
            "\n",
            "Epoch 00064: val_lwlrap did not improve from 0.55994\n",
            "Epoch 65/150\n",
            "140/140 [==============================] - 4s 25ms/step - loss: 0.0850 - lwlrap: 0.7029 - val_loss: 0.1547 - val_lwlrap: 0.5426\n",
            "\n",
            "Epoch 00065: val_lwlrap did not improve from 0.55994\n",
            "Epoch 66/150\n",
            "140/140 [==============================] - 4s 25ms/step - loss: 0.0834 - lwlrap: 0.7062 - val_loss: 0.1729 - val_lwlrap: 0.5343\n",
            "\n",
            "Epoch 00066: val_lwlrap did not improve from 0.55994\n",
            "Epoch 67/150\n",
            "140/140 [==============================] - 4s 25ms/step - loss: 0.0820 - lwlrap: 0.7111 - val_loss: 0.1608 - val_lwlrap: 0.5602\n",
            "\n",
            "Epoch 00067: val_lwlrap improved from 0.55994 to 0.56017, saving model to /content/drive/MyDrive/Appliedai files/Case_Study_2/model_1/weights-67-0.5602.hdf5\n",
            "Epoch 68/150\n",
            "140/140 [==============================] - 4s 26ms/step - loss: 0.0816 - lwlrap: 0.7169 - val_loss: 0.1784 - val_lwlrap: 0.5300\n",
            "\n",
            "Epoch 00068: val_lwlrap did not improve from 0.56017\n",
            "Epoch 69/150\n",
            "140/140 [==============================] - 4s 25ms/step - loss: 0.0813 - lwlrap: 0.7218 - val_loss: 0.1659 - val_lwlrap: 0.5720\n",
            "\n",
            "Epoch 00069: val_lwlrap improved from 0.56017 to 0.57203, saving model to /content/drive/MyDrive/Appliedai files/Case_Study_2/model_1/weights-69-0.5720.hdf5\n",
            "Epoch 70/150\n",
            "140/140 [==============================] - 4s 25ms/step - loss: 0.0799 - lwlrap: 0.7205 - val_loss: 0.1691 - val_lwlrap: 0.5856\n",
            "\n",
            "Epoch 00070: val_lwlrap improved from 0.57203 to 0.58565, saving model to /content/drive/MyDrive/Appliedai files/Case_Study_2/model_1/weights-70-0.5856.hdf5\n",
            "Epoch 71/150\n",
            "140/140 [==============================] - 4s 26ms/step - loss: 0.0832 - lwlrap: 0.7081 - val_loss: 0.1723 - val_lwlrap: 0.5751\n",
            "\n",
            "Epoch 00071: val_lwlrap did not improve from 0.58565\n",
            "Epoch 72/150\n",
            "140/140 [==============================] - 4s 27ms/step - loss: 0.0761 - lwlrap: 0.7358 - val_loss: 0.1864 - val_lwlrap: 0.5322\n",
            "\n",
            "Epoch 00072: val_lwlrap did not improve from 0.58565\n",
            "Epoch 73/150\n",
            "140/140 [==============================] - 4s 27ms/step - loss: 0.0743 - lwlrap: 0.7581 - val_loss: 0.1709 - val_lwlrap: 0.5597\n",
            "\n",
            "Epoch 00073: val_lwlrap did not improve from 0.58565\n",
            "Epoch 74/150\n",
            "140/140 [==============================] - 4s 26ms/step - loss: 0.0726 - lwlrap: 0.7571 - val_loss: 0.2053 - val_lwlrap: 0.5498\n",
            "\n",
            "Epoch 00074: val_lwlrap did not improve from 0.58565\n",
            "Epoch 75/150\n",
            "140/140 [==============================] - 4s 25ms/step - loss: 0.0715 - lwlrap: 0.7588 - val_loss: 0.1853 - val_lwlrap: 0.5586\n",
            "\n",
            "Epoch 00075: val_lwlrap did not improve from 0.58565\n",
            "Epoch 76/150\n",
            "140/140 [==============================] - 4s 26ms/step - loss: 0.0687 - lwlrap: 0.7706 - val_loss: 0.2042 - val_lwlrap: 0.5737\n",
            "\n",
            "Epoch 00076: val_lwlrap did not improve from 0.58565\n",
            "Epoch 77/150\n",
            "140/140 [==============================] - 4s 26ms/step - loss: 0.0729 - lwlrap: 0.7586 - val_loss: 0.1846 - val_lwlrap: 0.5584\n",
            "\n",
            "Epoch 00077: val_lwlrap did not improve from 0.58565\n",
            "Epoch 78/150\n",
            "140/140 [==============================] - 4s 26ms/step - loss: 0.0709 - lwlrap: 0.7628 - val_loss: 0.1945 - val_lwlrap: 0.5764\n",
            "\n",
            "Epoch 00078: val_lwlrap did not improve from 0.58565\n",
            "Epoch 79/150\n",
            "140/140 [==============================] - 4s 25ms/step - loss: 0.0669 - lwlrap: 0.7840 - val_loss: 0.1986 - val_lwlrap: 0.5954\n",
            "\n",
            "Epoch 00079: val_lwlrap improved from 0.58565 to 0.59542, saving model to /content/drive/MyDrive/Appliedai files/Case_Study_2/model_1/weights-79-0.5954.hdf5\n",
            "Epoch 80/150\n",
            "140/140 [==============================] - 4s 25ms/step - loss: 0.0649 - lwlrap: 0.7829 - val_loss: 0.2339 - val_lwlrap: 0.5731\n",
            "\n",
            "Epoch 00080: val_lwlrap did not improve from 0.59542\n",
            "Epoch 81/150\n",
            "140/140 [==============================] - 4s 25ms/step - loss: 0.0653 - lwlrap: 0.7890 - val_loss: 0.2267 - val_lwlrap: 0.5603\n",
            "\n",
            "Epoch 00081: val_lwlrap did not improve from 0.59542\n",
            "Epoch 82/150\n",
            "140/140 [==============================] - 4s 26ms/step - loss: 0.0698 - lwlrap: 0.7748 - val_loss: 0.1918 - val_lwlrap: 0.5471\n",
            "\n",
            "Epoch 00082: val_lwlrap did not improve from 0.59542\n",
            "Epoch 83/150\n",
            "140/140 [==============================] - 4s 25ms/step - loss: 0.0692 - lwlrap: 0.7715 - val_loss: 0.1826 - val_lwlrap: 0.5586\n",
            "\n",
            "Epoch 00083: val_lwlrap did not improve from 0.59542\n",
            "Epoch 84/150\n",
            "140/140 [==============================] - 3s 25ms/step - loss: 0.0644 - lwlrap: 0.7969 - val_loss: 0.1872 - val_lwlrap: 0.6070\n",
            "\n",
            "Epoch 00084: val_lwlrap improved from 0.59542 to 0.60703, saving model to /content/drive/MyDrive/Appliedai files/Case_Study_2/model_1/weights-84-0.6070.hdf5\n",
            "Epoch 85/150\n",
            "140/140 [==============================] - 4s 25ms/step - loss: 0.0594 - lwlrap: 0.8044 - val_loss: 0.1942 - val_lwlrap: 0.5589\n",
            "\n",
            "Epoch 00085: val_lwlrap did not improve from 0.60703\n",
            "Epoch 86/150\n",
            "140/140 [==============================] - 4s 25ms/step - loss: 0.0604 - lwlrap: 0.8070 - val_loss: 0.2266 - val_lwlrap: 0.5284\n",
            "\n",
            "Epoch 00086: val_lwlrap did not improve from 0.60703\n",
            "Epoch 87/150\n",
            "140/140 [==============================] - 4s 26ms/step - loss: 0.0559 - lwlrap: 0.8188 - val_loss: 0.2143 - val_lwlrap: 0.5649\n",
            "\n",
            "Epoch 00087: val_lwlrap did not improve from 0.60703\n",
            "Epoch 88/150\n",
            "140/140 [==============================] - 4s 26ms/step - loss: 0.0568 - lwlrap: 0.8190 - val_loss: 0.2472 - val_lwlrap: 0.5464\n",
            "\n",
            "Epoch 00088: val_lwlrap did not improve from 0.60703\n",
            "Epoch 89/150\n",
            "140/140 [==============================] - 4s 25ms/step - loss: 0.0567 - lwlrap: 0.8164 - val_loss: 0.2226 - val_lwlrap: 0.5571\n",
            "\n",
            "Epoch 00089: val_lwlrap did not improve from 0.60703\n",
            "Epoch 90/150\n",
            "140/140 [==============================] - 4s 26ms/step - loss: 0.0594 - lwlrap: 0.8137 - val_loss: 0.2025 - val_lwlrap: 0.5656\n",
            "\n",
            "Epoch 00090: val_lwlrap did not improve from 0.60703\n",
            "Epoch 91/150\n",
            "140/140 [==============================] - 4s 26ms/step - loss: 0.0546 - lwlrap: 0.8322 - val_loss: 0.2264 - val_lwlrap: 0.5520\n",
            "\n",
            "Epoch 00091: val_lwlrap did not improve from 0.60703\n",
            "Epoch 92/150\n",
            "140/140 [==============================] - 4s 26ms/step - loss: 0.0522 - lwlrap: 0.8328 - val_loss: 0.2442 - val_lwlrap: 0.5369\n",
            "\n",
            "Epoch 00092: val_lwlrap did not improve from 0.60703\n",
            "Epoch 93/150\n",
            "140/140 [==============================] - 4s 26ms/step - loss: 0.0587 - lwlrap: 0.8150 - val_loss: 0.2306 - val_lwlrap: 0.5663\n",
            "\n",
            "Epoch 00093: val_lwlrap did not improve from 0.60703\n",
            "Epoch 94/150\n",
            "140/140 [==============================] - 4s 26ms/step - loss: 0.0523 - lwlrap: 0.8387 - val_loss: 0.2549 - val_lwlrap: 0.5597\n",
            "\n",
            "Epoch 00094: val_lwlrap did not improve from 0.60703\n",
            "Epoch 95/150\n",
            "140/140 [==============================] - 4s 26ms/step - loss: 0.0507 - lwlrap: 0.8495 - val_loss: 0.2707 - val_lwlrap: 0.5365\n",
            "\n",
            "Epoch 00095: val_lwlrap did not improve from 0.60703\n",
            "Epoch 96/150\n",
            "140/140 [==============================] - 4s 26ms/step - loss: 0.0521 - lwlrap: 0.8389 - val_loss: 0.2511 - val_lwlrap: 0.5777\n",
            "\n",
            "Epoch 00096: val_lwlrap did not improve from 0.60703\n",
            "Epoch 97/150\n",
            "140/140 [==============================] - 4s 26ms/step - loss: 0.0499 - lwlrap: 0.8479 - val_loss: 0.2496 - val_lwlrap: 0.5522\n",
            "\n",
            "Epoch 00097: val_lwlrap did not improve from 0.60703\n",
            "Epoch 98/150\n",
            "140/140 [==============================] - 4s 26ms/step - loss: 0.0476 - lwlrap: 0.8594 - val_loss: 0.2469 - val_lwlrap: 0.5749\n",
            "\n",
            "Epoch 00098: val_lwlrap did not improve from 0.60703\n",
            "Epoch 99/150\n",
            "140/140 [==============================] - 4s 25ms/step - loss: 0.0526 - lwlrap: 0.8421 - val_loss: 0.2253 - val_lwlrap: 0.5810\n",
            "\n",
            "Epoch 00099: val_lwlrap did not improve from 0.60703\n",
            "Epoch 100/150\n",
            "140/140 [==============================] - 4s 26ms/step - loss: 0.0509 - lwlrap: 0.8456 - val_loss: 0.3006 - val_lwlrap: 0.5542\n",
            "\n",
            "Epoch 00100: val_lwlrap did not improve from 0.60703\n",
            "Epoch 101/150\n",
            "140/140 [==============================] - 4s 25ms/step - loss: 0.0466 - lwlrap: 0.8641 - val_loss: 0.2868 - val_lwlrap: 0.5459\n",
            "\n",
            "Epoch 00101: val_lwlrap did not improve from 0.60703\n",
            "Epoch 102/150\n",
            "140/140 [==============================] - 4s 25ms/step - loss: 0.0437 - lwlrap: 0.8747 - val_loss: 0.3072 - val_lwlrap: 0.5416\n",
            "\n",
            "Epoch 00102: val_lwlrap did not improve from 0.60703\n",
            "Epoch 103/150\n",
            "140/140 [==============================] - 4s 26ms/step - loss: 0.0436 - lwlrap: 0.8758 - val_loss: 0.2818 - val_lwlrap: 0.5563\n",
            "\n",
            "Epoch 00103: val_lwlrap did not improve from 0.60703\n",
            "Epoch 104/150\n",
            "140/140 [==============================] - 4s 25ms/step - loss: 0.0422 - lwlrap: 0.8806 - val_loss: 0.2640 - val_lwlrap: 0.5594\n",
            "\n",
            "Epoch 00104: val_lwlrap did not improve from 0.60703\n"
          ],
          "name": "stdout"
        },
        {
          "output_type": "execute_result",
          "data": {
            "text/plain": [
              "<tensorflow.python.keras.callbacks.History at 0x7fc9af038350>"
            ]
          },
          "metadata": {
            "tags": []
          },
          "execution_count": 31
        }
      ]
    },
    {
      "cell_type": "code",
      "metadata": {
        "id": "DhX67yEXDWKi"
      },
      "source": [
        "%tensorboard --logdir /content/logs/scalars_2"
      ],
      "execution_count": null,
      "outputs": []
    },
    {
      "cell_type": "code",
      "metadata": {
        "id": "kf0InNowv1ar",
        "colab": {
          "base_uri": "https://localhost:8080/",
          "height": 259
        },
        "outputId": "02a0fd38-73e1-46ca-bc47-264bf4bf8e00"
      },
      "source": [
        "#Loss and metric plots\n",
        "\n",
        "from IPython.display import Image\n",
        "Image(filename='/content/drive/MyDrive/lstm_loss.JPG')"
      ],
      "execution_count": 1,
      "outputs": [
        {
          "output_type": "execute_result",
          "data": {
            "image/jpeg": "[encoded data removed]",
            "text/plain": [
              "<IPython.core.display.Image object>"
            ]
          },
          "metadata": {
            "tags": []
          },
          "execution_count": 1
        }
      ]
    },
    {
      "cell_type": "code",
      "metadata": {
        "colab": {
          "base_uri": "https://localhost:8080/",
          "height": 263
        },
        "id": "PID_rvrdotp-",
        "outputId": "213b155f-6bf5-477d-8abe-0a29f6fc9807"
      },
      "source": [
        "Image(filename='/content/drive/MyDrive/lstm_metric.JPG')"
      ],
      "execution_count": 2,
      "outputs": [
        {
          "output_type": "execute_result",
          "data": {
            "image/jpeg": "[encoded data removed]",
            "text/plain": [
              "<IPython.core.display.Image object>"
            ]
          },
          "metadata": {
            "tags": []
          },
          "execution_count": 2
        }
      ]
    },
    {
      "cell_type": "markdown",
      "metadata": {
        "id": "fC3JBSfJ0niy"
      },
      "source": [
        "## CRNN"
      ]
    },
    {
      "cell_type": "code",
      "metadata": {
        "id": "oX6Wg99Yuoi7"
      },
      "source": [
        "\n",
        "def crnn_model():\n",
        "\n",
        "  input_layer=Input(shape=(124,1024))   # Input layer\n",
        "  lstm_layer=LSTM(units=128,return_sequences=True)(input_layer)  # LSTM layer with 25 units\n",
        "  average=GlobalAveragePooling1D()(lstm_layer) #Global average pool\n",
        "  layer_1=Dense(128,activation='relu')(average) # Dense layer\n",
        "\n",
        "\n",
        "  x=Conv1D(filters=48,kernel_size=5)(input_layer)\n",
        "  x=MaxPooling1D(strides=2)(x)\n",
        "  x=Activation('relu')(x)\n",
        "  x=Conv1D(filters=56,kernel_size=5)(input_layer)\n",
        "  x=MaxPooling1D(strides=2)(x)\n",
        "  x=Activation('relu')(x)\n",
        "  x=Conv1D(filters=64,kernel_size=5)(x)\n",
        "  x=MaxPooling1D(strides=2)(x)\n",
        "  x=Activation('relu')(x)\n",
        "  x=Conv1D(filters=72,kernel_size=5)(x)\n",
        "  x=GlobalAveragePooling1D()(x)\n",
        "  x=Dense(64,activation='relu')(x) # Dense layer\n",
        "\n",
        "  x=Concatenate()([layer_1,x])\n",
        "  x=Dense(64)(x)\n",
        "  x=Dropout(0.3)(x)\n",
        "  output=Dense(24,activation='sigmoid')(x)\n",
        "\n",
        "  model = Model(inputs=[input_layer],outputs=output)\n",
        "  opt=tfa.optimizers.RectifiedAdam(learning_rate=2e-4,total_steps=65*140,warmup_proportion=0.3,min_lr=1e-6)\n",
        "  #optimizer=tf.keras.optimizers.Adam()  # Optimizer\n",
        "  model.compile(optimizer=opt, loss='binary_crossentropy',metrics=[lwlrap])\n",
        "\n",
        "  return model"
      ],
      "execution_count": null,
      "outputs": []
    },
    {
      "cell_type": "code",
      "metadata": {
        "colab": {
          "base_uri": "https://localhost:8080/"
        },
        "id": "gKgYOqP1gzd5",
        "outputId": "d3715003-9c54-4ec3-88fe-eff166b51601"
      },
      "source": [
        "#model_input= Input(shape=(124,1024))\n",
        "model_3= crnn_model()\n",
        "model_3.run_eagerly = True\n",
        "print(model_3.summary())"
      ],
      "execution_count": null,
      "outputs": [
        {
          "output_type": "stream",
          "text": [
            "Model: \"model_3\"\n",
            "__________________________________________________________________________________________________\n",
            "Layer (type)                    Output Shape         Param #     Connected to                     \n",
            "==================================================================================================\n",
            "input_3 (InputLayer)            [(None, 124, 1024)]  0                                            \n",
            "__________________________________________________________________________________________________\n",
            "conv1d_5 (Conv1D)               (None, 120, 56)      286776      input_3[0][0]                    \n",
            "__________________________________________________________________________________________________\n",
            "max_pooling1d_7 (MaxPooling1D)  (None, 60, 56)       0           conv1d_5[0][0]                   \n",
            "__________________________________________________________________________________________________\n",
            "activation_4 (Activation)       (None, 60, 56)       0           max_pooling1d_7[0][0]            \n",
            "__________________________________________________________________________________________________\n",
            "conv1d_6 (Conv1D)               (None, 56, 64)       17984       activation_4[0][0]               \n",
            "__________________________________________________________________________________________________\n",
            "max_pooling1d_8 (MaxPooling1D)  (None, 28, 64)       0           conv1d_6[0][0]                   \n",
            "__________________________________________________________________________________________________\n",
            "activation_5 (Activation)       (None, 28, 64)       0           max_pooling1d_8[0][0]            \n",
            "__________________________________________________________________________________________________\n",
            "lstm_3 (LSTM)                   (None, 124, 128)     590336      input_3[0][0]                    \n",
            "__________________________________________________________________________________________________\n",
            "conv1d_7 (Conv1D)               (None, 24, 72)       23112       activation_5[0][0]               \n",
            "__________________________________________________________________________________________________\n",
            "global_average_pooling1d_3 (Glo (None, 128)          0           lstm_3[0][0]                     \n",
            "__________________________________________________________________________________________________\n",
            "global_average_pooling1d_4 (Glo (None, 72)           0           conv1d_7[0][0]                   \n",
            "__________________________________________________________________________________________________\n",
            "dense_10 (Dense)                (None, 128)          16512       global_average_pooling1d_3[0][0] \n",
            "__________________________________________________________________________________________________\n",
            "dense_11 (Dense)                (None, 64)           4672        global_average_pooling1d_4[0][0] \n",
            "__________________________________________________________________________________________________\n",
            "concatenate_2 (Concatenate)     (None, 192)          0           dense_10[0][0]                   \n",
            "                                                                 dense_11[0][0]                   \n",
            "__________________________________________________________________________________________________\n",
            "dense_12 (Dense)                (None, 64)           12352       concatenate_2[0][0]              \n",
            "__________________________________________________________________________________________________\n",
            "dropout_6 (Dropout)             (None, 64)           0           dense_12[0][0]                   \n",
            "__________________________________________________________________________________________________\n",
            "dense_13 (Dense)                (None, 24)           1560        dropout_6[0][0]                  \n",
            "==================================================================================================\n",
            "Total params: 953,304\n",
            "Trainable params: 953,304\n",
            "Non-trainable params: 0\n",
            "__________________________________________________________________________________________________\n",
            "None\n"
          ],
          "name": "stdout"
        }
      ]
    },
    {
      "cell_type": "code",
      "metadata": {
        "colab": {
          "base_uri": "https://localhost:8080/"
        },
        "id": "-eT1qPJFhNkU",
        "outputId": "43b6af3b-e20e-4acd-d9f8-a74dd8e40e38"
      },
      "source": [
        "#loading tensorboard\n",
        "%load_ext tensorboard\n",
        "!rm -rf ./logs/\n",
        "from datetime import datetime\n",
        "#creating log directory\n",
        "logdir=\"logs/scalars_1/\" + datetime.now().strftime(\"%Y%m%d-%H%M%S\")\n",
        "#tensorboard callback\n",
        "tensorboard_2 = TensorBoard(log_dir=logdir)\n",
        "earlystop= EarlyStopping(monitor='val_lwlrap', patience=20,mode='max')\n",
        "lrdecay=ReduceLROnPlateau(monitor='val_lwlrap',factor=0.1,patience=4,mode='max')\n",
        "\n",
        "\n",
        "#Path for saving model\n",
        "filepath=\"/content/drive/MyDrive/Appliedai files/Case_Study_2/model_2/weights-{epoch:02d}-{val_lwlrap:.4f}.hdf5\"\n",
        "#Model checkpoint callback\n",
        "checkpoint_2 = ModelCheckpoint(filepath=filepath, monitor='val_lwlrap', save_best_only=True, verbose=1, mode='max', save_freq='epoch')"
      ],
      "execution_count": null,
      "outputs": [
        {
          "output_type": "stream",
          "text": [
            "The tensorboard extension is already loaded. To reload it, use:\n",
            "  %reload_ext tensorboard\n"
          ],
          "name": "stdout"
        }
      ]
    },
    {
      "cell_type": "code",
      "metadata": {
        "colab": {
          "base_uri": "https://localhost:8080/"
        },
        "id": "W_7jj-0FmWux",
        "outputId": "60af9961-f691-4c3e-d241-3b23f9fd7694"
      },
      "source": [
        "\n",
        "#model_3.compile(optimizer='adam',loss='binary_crossentropy', metrics=[lwlrap])\n",
        "model_3.fit(train_dataset,steps_per_epoch=STEPS_PER_EPOCH, validation_data=val_dataset,epochs = 80,callbacks=[earlystop,tensorboard_2,checkpoint_2])"
      ],
      "execution_count": null,
      "outputs": [
        {
          "output_type": "stream",
          "text": [
            "Epoch 1/80\n",
            "140/140 [==============================] - 12s 87ms/step - loss: 0.8680 - lwlrap: 0.1572 - val_loss: 0.7735 - val_lwlrap: 0.1860\n",
            "\n",
            "Epoch 00001: val_lwlrap improved from -inf to 0.18601, saving model to /content/drive/MyDrive/Appliedai files/Case_Study_2/model_2/weights-01-0.1860.hdf5\n",
            "Epoch 2/80\n",
            "140/140 [==============================] - 11s 82ms/step - loss: 0.7000 - lwlrap: 0.1604 - val_loss: 0.5987 - val_lwlrap: 0.1848\n",
            "\n",
            "Epoch 00002: val_lwlrap did not improve from 0.18601\n",
            "Epoch 3/80\n",
            "140/140 [==============================] - 11s 77ms/step - loss: 0.5319 - lwlrap: 0.1700 - val_loss: 0.4329 - val_lwlrap: 0.1871\n",
            "\n",
            "Epoch 00003: val_lwlrap improved from 0.18601 to 0.18707, saving model to /content/drive/MyDrive/Appliedai files/Case_Study_2/model_2/weights-03-0.1871.hdf5\n",
            "Epoch 4/80\n",
            "140/140 [==============================] - 11s 77ms/step - loss: 0.3820 - lwlrap: 0.1703 - val_loss: 0.2883 - val_lwlrap: 0.2292\n",
            "\n",
            "Epoch 00004: val_lwlrap improved from 0.18707 to 0.22924, saving model to /content/drive/MyDrive/Appliedai files/Case_Study_2/model_2/weights-04-0.2292.hdf5\n",
            "Epoch 5/80\n",
            "140/140 [==============================] - 11s 78ms/step - loss: 0.2816 - lwlrap: 0.1618 - val_loss: 0.2062 - val_lwlrap: 0.2353\n",
            "\n",
            "Epoch 00005: val_lwlrap improved from 0.22924 to 0.23529, saving model to /content/drive/MyDrive/Appliedai files/Case_Study_2/model_2/weights-05-0.2353.hdf5\n",
            "Epoch 6/80\n",
            "140/140 [==============================] - 11s 80ms/step - loss: 0.2295 - lwlrap: 0.1679 - val_loss: 0.1772 - val_lwlrap: 0.2427\n",
            "\n",
            "Epoch 00006: val_lwlrap improved from 0.23529 to 0.24270, saving model to /content/drive/MyDrive/Appliedai files/Case_Study_2/model_2/weights-06-0.2427.hdf5\n",
            "Epoch 7/80\n",
            "140/140 [==============================] - 12s 83ms/step - loss: 0.2091 - lwlrap: 0.1946 - val_loss: 0.1702 - val_lwlrap: 0.2409\n",
            "\n",
            "Epoch 00007: val_lwlrap did not improve from 0.24270\n",
            "Epoch 8/80\n",
            "140/140 [==============================] - 11s 82ms/step - loss: 0.2056 - lwlrap: 0.1750 - val_loss: 0.1677 - val_lwlrap: 0.2762\n",
            "\n",
            "Epoch 00008: val_lwlrap improved from 0.24270 to 0.27617, saving model to /content/drive/MyDrive/Appliedai files/Case_Study_2/model_2/weights-08-0.2762.hdf5\n",
            "Epoch 9/80\n",
            "140/140 [==============================] - 11s 81ms/step - loss: 0.1974 - lwlrap: 0.1901 - val_loss: 0.1670 - val_lwlrap: 0.2905\n",
            "\n",
            "Epoch 00009: val_lwlrap improved from 0.27617 to 0.29053, saving model to /content/drive/MyDrive/Appliedai files/Case_Study_2/model_2/weights-09-0.2905.hdf5\n",
            "Epoch 10/80\n",
            "140/140 [==============================] - 12s 83ms/step - loss: 0.1914 - lwlrap: 0.2076 - val_loss: 0.1649 - val_lwlrap: 0.3072\n",
            "\n",
            "Epoch 00010: val_lwlrap improved from 0.29053 to 0.30716, saving model to /content/drive/MyDrive/Appliedai files/Case_Study_2/model_2/weights-10-0.3072.hdf5\n",
            "Epoch 11/80\n",
            "140/140 [==============================] - 11s 80ms/step - loss: 0.1898 - lwlrap: 0.2053 - val_loss: 0.1613 - val_lwlrap: 0.3583\n",
            "\n",
            "Epoch 00011: val_lwlrap improved from 0.30716 to 0.35834, saving model to /content/drive/MyDrive/Appliedai files/Case_Study_2/model_2/weights-11-0.3583.hdf5\n",
            "Epoch 12/80\n",
            "140/140 [==============================] - 11s 78ms/step - loss: 0.1834 - lwlrap: 0.2363 - val_loss: 0.1605 - val_lwlrap: 0.3453\n",
            "\n",
            "Epoch 00012: val_lwlrap did not improve from 0.35834\n",
            "Epoch 13/80\n",
            "140/140 [==============================] - 11s 76ms/step - loss: 0.1788 - lwlrap: 0.2517 - val_loss: 0.1573 - val_lwlrap: 0.3687\n",
            "\n",
            "Epoch 00013: val_lwlrap improved from 0.35834 to 0.36868, saving model to /content/drive/MyDrive/Appliedai files/Case_Study_2/model_2/weights-13-0.3687.hdf5\n",
            "Epoch 14/80\n",
            "140/140 [==============================] - 11s 77ms/step - loss: 0.1755 - lwlrap: 0.2749 - val_loss: 0.1527 - val_lwlrap: 0.3875\n",
            "\n",
            "Epoch 00014: val_lwlrap improved from 0.36868 to 0.38746, saving model to /content/drive/MyDrive/Appliedai files/Case_Study_2/model_2/weights-14-0.3875.hdf5\n",
            "Epoch 15/80\n",
            "140/140 [==============================] - 11s 80ms/step - loss: 0.1692 - lwlrap: 0.3089 - val_loss: 0.1500 - val_lwlrap: 0.3788\n",
            "\n",
            "Epoch 00015: val_lwlrap did not improve from 0.38746\n",
            "Epoch 16/80\n",
            "140/140 [==============================] - 11s 82ms/step - loss: 0.1684 - lwlrap: 0.3053 - val_loss: 0.1493 - val_lwlrap: 0.4319\n",
            "\n",
            "Epoch 00016: val_lwlrap improved from 0.38746 to 0.43192, saving model to /content/drive/MyDrive/Appliedai files/Case_Study_2/model_2/weights-16-0.4319.hdf5\n",
            "Epoch 17/80\n",
            "140/140 [==============================] - 11s 79ms/step - loss: 0.1655 - lwlrap: 0.3268 - val_loss: 0.1457 - val_lwlrap: 0.4105\n",
            "\n",
            "Epoch 00017: val_lwlrap did not improve from 0.43192\n",
            "Epoch 18/80\n",
            "140/140 [==============================] - 11s 76ms/step - loss: 0.1624 - lwlrap: 0.3348 - val_loss: 0.1447 - val_lwlrap: 0.4451\n",
            "\n",
            "Epoch 00018: val_lwlrap improved from 0.43192 to 0.44510, saving model to /content/drive/MyDrive/Appliedai files/Case_Study_2/model_2/weights-18-0.4451.hdf5\n",
            "Epoch 19/80\n",
            "140/140 [==============================] - 11s 76ms/step - loss: 0.1605 - lwlrap: 0.3517 - val_loss: 0.1449 - val_lwlrap: 0.4207\n",
            "\n",
            "Epoch 00019: val_lwlrap did not improve from 0.44510\n",
            "Epoch 20/80\n",
            "140/140 [==============================] - 11s 76ms/step - loss: 0.1581 - lwlrap: 0.3762 - val_loss: 0.1420 - val_lwlrap: 0.4423\n",
            "\n",
            "Epoch 00020: val_lwlrap did not improve from 0.44510\n",
            "Epoch 21/80\n",
            "140/140 [==============================] - 11s 80ms/step - loss: 0.1520 - lwlrap: 0.4059 - val_loss: 0.1421 - val_lwlrap: 0.4776\n",
            "\n",
            "Epoch 00021: val_lwlrap improved from 0.44510 to 0.47761, saving model to /content/drive/MyDrive/Appliedai files/Case_Study_2/model_2/weights-21-0.4776.hdf5\n",
            "Epoch 22/80\n",
            "140/140 [==============================] - 11s 81ms/step - loss: 0.1516 - lwlrap: 0.4122 - val_loss: 0.1395 - val_lwlrap: 0.4575\n",
            "\n",
            "Epoch 00022: val_lwlrap did not improve from 0.47761\n",
            "Epoch 23/80\n",
            "140/140 [==============================] - 11s 78ms/step - loss: 0.1493 - lwlrap: 0.4142 - val_loss: 0.1412 - val_lwlrap: 0.4897\n",
            "\n",
            "Epoch 00023: val_lwlrap improved from 0.47761 to 0.48974, saving model to /content/drive/MyDrive/Appliedai files/Case_Study_2/model_2/weights-23-0.4897.hdf5\n",
            "Epoch 24/80\n",
            "140/140 [==============================] - 11s 76ms/step - loss: 0.1454 - lwlrap: 0.4457 - val_loss: 0.1380 - val_lwlrap: 0.4894\n",
            "\n",
            "Epoch 00024: val_lwlrap did not improve from 0.48974\n",
            "Epoch 25/80\n",
            "140/140 [==============================] - 11s 76ms/step - loss: 0.1434 - lwlrap: 0.4560 - val_loss: 0.1395 - val_lwlrap: 0.4977\n",
            "\n",
            "Epoch 00025: val_lwlrap improved from 0.48974 to 0.49768, saving model to /content/drive/MyDrive/Appliedai files/Case_Study_2/model_2/weights-25-0.4977.hdf5\n",
            "Epoch 26/80\n",
            "140/140 [==============================] - 11s 76ms/step - loss: 0.1411 - lwlrap: 0.4599 - val_loss: 0.1394 - val_lwlrap: 0.4824\n",
            "\n",
            "Epoch 00026: val_lwlrap did not improve from 0.49768\n",
            "Epoch 27/80\n",
            "140/140 [==============================] - 11s 81ms/step - loss: 0.1407 - lwlrap: 0.4579 - val_loss: 0.1369 - val_lwlrap: 0.4607\n",
            "\n",
            "Epoch 00027: val_lwlrap did not improve from 0.49768\n",
            "Epoch 28/80\n",
            "140/140 [==============================] - 11s 82ms/step - loss: 0.1371 - lwlrap: 0.4861 - val_loss: 0.1327 - val_lwlrap: 0.5113\n",
            "\n",
            "Epoch 00028: val_lwlrap improved from 0.49768 to 0.51132, saving model to /content/drive/MyDrive/Appliedai files/Case_Study_2/model_2/weights-28-0.5113.hdf5\n",
            "Epoch 29/80\n",
            "140/140 [==============================] - 11s 80ms/step - loss: 0.1342 - lwlrap: 0.4921 - val_loss: 0.1322 - val_lwlrap: 0.5209\n",
            "\n",
            "Epoch 00029: val_lwlrap improved from 0.51132 to 0.52090, saving model to /content/drive/MyDrive/Appliedai files/Case_Study_2/model_2/weights-29-0.5209.hdf5\n",
            "Epoch 30/80\n",
            "140/140 [==============================] - 11s 76ms/step - loss: 0.1346 - lwlrap: 0.5002 - val_loss: 0.1318 - val_lwlrap: 0.5239\n",
            "\n",
            "Epoch 00030: val_lwlrap improved from 0.52090 to 0.52391, saving model to /content/drive/MyDrive/Appliedai files/Case_Study_2/model_2/weights-30-0.5239.hdf5\n",
            "Epoch 31/80\n",
            "140/140 [==============================] - 11s 76ms/step - loss: 0.1314 - lwlrap: 0.5102 - val_loss: 0.1320 - val_lwlrap: 0.5350\n",
            "\n",
            "Epoch 00031: val_lwlrap improved from 0.52391 to 0.53498, saving model to /content/drive/MyDrive/Appliedai files/Case_Study_2/model_2/weights-31-0.5350.hdf5\n",
            "Epoch 32/80\n",
            "140/140 [==============================] - 11s 76ms/step - loss: 0.1311 - lwlrap: 0.5183 - val_loss: 0.1316 - val_lwlrap: 0.5239\n",
            "\n",
            "Epoch 00032: val_lwlrap did not improve from 0.53498\n",
            "Epoch 33/80\n",
            "140/140 [==============================] - 11s 79ms/step - loss: 0.1272 - lwlrap: 0.5434 - val_loss: 0.1281 - val_lwlrap: 0.5428\n",
            "\n",
            "Epoch 00033: val_lwlrap improved from 0.53498 to 0.54278, saving model to /content/drive/MyDrive/Appliedai files/Case_Study_2/model_2/weights-33-0.5428.hdf5\n",
            "Epoch 34/80\n",
            "140/140 [==============================] - 11s 82ms/step - loss: 0.1269 - lwlrap: 0.5402 - val_loss: 0.1298 - val_lwlrap: 0.5177\n",
            "\n",
            "Epoch 00034: val_lwlrap did not improve from 0.54278\n",
            "Epoch 35/80\n",
            "140/140 [==============================] - 11s 79ms/step - loss: 0.1228 - lwlrap: 0.5649 - val_loss: 0.1285 - val_lwlrap: 0.5310\n",
            "\n",
            "Epoch 00035: val_lwlrap did not improve from 0.54278\n",
            "Epoch 36/80\n",
            "140/140 [==============================] - 11s 81ms/step - loss: 0.1230 - lwlrap: 0.5644 - val_loss: 0.1264 - val_lwlrap: 0.5609\n",
            "\n",
            "Epoch 00036: val_lwlrap improved from 0.54278 to 0.56086, saving model to /content/drive/MyDrive/Appliedai files/Case_Study_2/model_2/weights-36-0.5609.hdf5\n",
            "Epoch 37/80\n",
            "140/140 [==============================] - 11s 76ms/step - loss: 0.1180 - lwlrap: 0.5845 - val_loss: 0.1296 - val_lwlrap: 0.5370\n",
            "\n",
            "Epoch 00037: val_lwlrap did not improve from 0.56086\n",
            "Epoch 38/80\n",
            "140/140 [==============================] - 11s 76ms/step - loss: 0.1171 - lwlrap: 0.5946 - val_loss: 0.1299 - val_lwlrap: 0.5184\n",
            "\n",
            "Epoch 00038: val_lwlrap did not improve from 0.56086\n",
            "Epoch 39/80\n",
            "140/140 [==============================] - 11s 79ms/step - loss: 0.1186 - lwlrap: 0.5813 - val_loss: 0.1311 - val_lwlrap: 0.4844\n",
            "\n",
            "Epoch 00039: val_lwlrap did not improve from 0.56086\n",
            "Epoch 40/80\n",
            "140/140 [==============================] - 11s 81ms/step - loss: 0.1176 - lwlrap: 0.5917 - val_loss: 0.1286 - val_lwlrap: 0.5056\n",
            "\n",
            "Epoch 00040: val_lwlrap did not improve from 0.56086\n",
            "Epoch 41/80\n",
            "140/140 [==============================] - 11s 79ms/step - loss: 0.1129 - lwlrap: 0.6027 - val_loss: 0.1284 - val_lwlrap: 0.5211\n",
            "\n",
            "Epoch 00041: val_lwlrap did not improve from 0.56086\n",
            "Epoch 42/80\n",
            "140/140 [==============================] - 11s 80ms/step - loss: 0.1131 - lwlrap: 0.6108 - val_loss: 0.1324 - val_lwlrap: 0.5185\n",
            "\n",
            "Epoch 00042: val_lwlrap did not improve from 0.56086\n",
            "Epoch 43/80\n",
            "140/140 [==============================] - 11s 82ms/step - loss: 0.1096 - lwlrap: 0.6302 - val_loss: 0.1309 - val_lwlrap: 0.5392\n",
            "\n",
            "Epoch 00043: val_lwlrap did not improve from 0.56086\n",
            "Epoch 44/80\n",
            "140/140 [==============================] - 11s 79ms/step - loss: 0.1100 - lwlrap: 0.6247 - val_loss: 0.1277 - val_lwlrap: 0.5425\n",
            "\n",
            "Epoch 00044: val_lwlrap did not improve from 0.56086\n",
            "Epoch 45/80\n",
            "140/140 [==============================] - 11s 77ms/step - loss: 0.1076 - lwlrap: 0.6333 - val_loss: 0.1297 - val_lwlrap: 0.5326\n",
            "\n",
            "Epoch 00045: val_lwlrap did not improve from 0.56086\n",
            "Epoch 46/80\n",
            "140/140 [==============================] - 11s 76ms/step - loss: 0.1051 - lwlrap: 0.6438 - val_loss: 0.1280 - val_lwlrap: 0.5160\n",
            "\n",
            "Epoch 00046: val_lwlrap did not improve from 0.56086\n",
            "Epoch 47/80\n",
            "140/140 [==============================] - 11s 76ms/step - loss: 0.1019 - lwlrap: 0.6623 - val_loss: 0.1292 - val_lwlrap: 0.5524\n",
            "\n",
            "Epoch 00047: val_lwlrap did not improve from 0.56086\n",
            "Epoch 48/80\n",
            "140/140 [==============================] - 11s 80ms/step - loss: 0.1021 - lwlrap: 0.6611 - val_loss: 0.1304 - val_lwlrap: 0.5333\n",
            "\n",
            "Epoch 00048: val_lwlrap did not improve from 0.56086\n",
            "Epoch 49/80\n",
            "140/140 [==============================] - 11s 82ms/step - loss: 0.0987 - lwlrap: 0.6877 - val_loss: 0.1273 - val_lwlrap: 0.5526\n",
            "\n",
            "Epoch 00049: val_lwlrap did not improve from 0.56086\n",
            "Epoch 50/80\n",
            "140/140 [==============================] - 11s 79ms/step - loss: 0.1020 - lwlrap: 0.6731 - val_loss: 0.1287 - val_lwlrap: 0.5506\n",
            "\n",
            "Epoch 00050: val_lwlrap did not improve from 0.56086\n",
            "Epoch 51/80\n",
            "140/140 [==============================] - 11s 77ms/step - loss: 0.0980 - lwlrap: 0.6820 - val_loss: 0.1285 - val_lwlrap: 0.5511\n",
            "\n",
            "Epoch 00051: val_lwlrap did not improve from 0.56086\n",
            "Epoch 52/80\n",
            "140/140 [==============================] - 11s 76ms/step - loss: 0.0947 - lwlrap: 0.7013 - val_loss: 0.1298 - val_lwlrap: 0.5146\n",
            "\n",
            "Epoch 00052: val_lwlrap did not improve from 0.56086\n",
            "Epoch 53/80\n",
            "140/140 [==============================] - 11s 76ms/step - loss: 0.0923 - lwlrap: 0.7139 - val_loss: 0.1291 - val_lwlrap: 0.5363\n",
            "\n",
            "Epoch 00053: val_lwlrap did not improve from 0.56086\n",
            "Epoch 54/80\n",
            "140/140 [==============================] - 11s 80ms/step - loss: 0.0933 - lwlrap: 0.7165 - val_loss: 0.1287 - val_lwlrap: 0.5361\n",
            "\n",
            "Epoch 00054: val_lwlrap did not improve from 0.56086\n",
            "Epoch 55/80\n",
            "140/140 [==============================] - 12s 83ms/step - loss: 0.0983 - lwlrap: 0.6849 - val_loss: 0.1270 - val_lwlrap: 0.5596\n",
            "\n",
            "Epoch 00055: val_lwlrap did not improve from 0.56086\n",
            "Epoch 56/80\n",
            "140/140 [==============================] - 11s 81ms/step - loss: 0.0945 - lwlrap: 0.7083 - val_loss: 0.1270 - val_lwlrap: 0.5707\n",
            "\n",
            "Epoch 00056: val_lwlrap improved from 0.56086 to 0.57068, saving model to /content/drive/MyDrive/Appliedai files/Case_Study_2/model_2/weights-56-0.5707.hdf5\n",
            "Epoch 57/80\n",
            "140/140 [==============================] - 11s 77ms/step - loss: 0.0928 - lwlrap: 0.7144 - val_loss: 0.1282 - val_lwlrap: 0.5321\n",
            "\n",
            "Epoch 00057: val_lwlrap did not improve from 0.57068\n",
            "Epoch 58/80\n",
            "140/140 [==============================] - 11s 77ms/step - loss: 0.0914 - lwlrap: 0.7217 - val_loss: 0.1279 - val_lwlrap: 0.5523\n",
            "\n",
            "Epoch 00058: val_lwlrap did not improve from 0.57068\n",
            "Epoch 59/80\n",
            "140/140 [==============================] - 11s 76ms/step - loss: 0.0885 - lwlrap: 0.7359 - val_loss: 0.1289 - val_lwlrap: 0.5497\n",
            "\n",
            "Epoch 00059: val_lwlrap did not improve from 0.57068\n",
            "Epoch 60/80\n",
            "140/140 [==============================] - 11s 80ms/step - loss: 0.0885 - lwlrap: 0.7280 - val_loss: 0.1297 - val_lwlrap: 0.5208\n",
            "\n",
            "Epoch 00060: val_lwlrap did not improve from 0.57068\n",
            "Epoch 61/80\n",
            "140/140 [==============================] - 11s 82ms/step - loss: 0.0859 - lwlrap: 0.7459 - val_loss: 0.1294 - val_lwlrap: 0.5433\n",
            "\n",
            "Epoch 00061: val_lwlrap did not improve from 0.57068\n",
            "Epoch 62/80\n",
            "140/140 [==============================] - 11s 80ms/step - loss: 0.0854 - lwlrap: 0.7523 - val_loss: 0.1295 - val_lwlrap: 0.5596\n",
            "\n",
            "Epoch 00062: val_lwlrap did not improve from 0.57068\n",
            "Epoch 63/80\n",
            "140/140 [==============================] - 11s 77ms/step - loss: 0.0859 - lwlrap: 0.7491 - val_loss: 0.1299 - val_lwlrap: 0.5406\n",
            "\n",
            "Epoch 00063: val_lwlrap did not improve from 0.57068\n",
            "Epoch 64/80\n",
            "140/140 [==============================] - 11s 76ms/step - loss: 0.0845 - lwlrap: 0.7475 - val_loss: 0.1302 - val_lwlrap: 0.5554\n",
            "\n",
            "Epoch 00064: val_lwlrap did not improve from 0.57068\n",
            "Epoch 65/80\n",
            "140/140 [==============================] - 11s 77ms/step - loss: 0.0837 - lwlrap: 0.7554 - val_loss: 0.1305 - val_lwlrap: 0.5374\n",
            "\n",
            "Epoch 00065: val_lwlrap did not improve from 0.57068\n",
            "Epoch 66/80\n",
            "140/140 [==============================] - 11s 80ms/step - loss: 0.0832 - lwlrap: 0.7529 - val_loss: 0.1303 - val_lwlrap: 0.5526\n",
            "\n",
            "Epoch 00066: val_lwlrap did not improve from 0.57068\n",
            "Epoch 67/80\n",
            "140/140 [==============================] - 11s 82ms/step - loss: 0.0838 - lwlrap: 0.7548 - val_loss: 0.1302 - val_lwlrap: 0.5377\n",
            "\n",
            "Epoch 00067: val_lwlrap did not improve from 0.57068\n",
            "Epoch 68/80\n",
            "140/140 [==============================] - 11s 79ms/step - loss: 0.0844 - lwlrap: 0.7487 - val_loss: 0.1303 - val_lwlrap: 0.5563\n",
            "\n",
            "Epoch 00068: val_lwlrap did not improve from 0.57068\n",
            "Epoch 69/80\n",
            "140/140 [==============================] - 11s 80ms/step - loss: 0.0839 - lwlrap: 0.7556 - val_loss: 0.1302 - val_lwlrap: 0.5574\n",
            "\n",
            "Epoch 00069: val_lwlrap did not improve from 0.57068\n",
            "Epoch 70/80\n",
            "140/140 [==============================] - 11s 82ms/step - loss: 0.0836 - lwlrap: 0.7622 - val_loss: 0.1301 - val_lwlrap: 0.5584\n",
            "\n",
            "Epoch 00070: val_lwlrap did not improve from 0.57068\n",
            "Epoch 71/80\n",
            "140/140 [==============================] - 11s 80ms/step - loss: 0.0829 - lwlrap: 0.7599 - val_loss: 0.1302 - val_lwlrap: 0.5621\n",
            "\n",
            "Epoch 00071: val_lwlrap did not improve from 0.57068\n",
            "Epoch 72/80\n",
            "140/140 [==============================] - 11s 77ms/step - loss: 0.0853 - lwlrap: 0.7520 - val_loss: 0.1301 - val_lwlrap: 0.5600\n",
            "\n",
            "Epoch 00072: val_lwlrap did not improve from 0.57068\n",
            "Epoch 73/80\n",
            "140/140 [==============================] - 11s 76ms/step - loss: 0.0826 - lwlrap: 0.7668 - val_loss: 0.1299 - val_lwlrap: 0.5641\n",
            "\n",
            "Epoch 00073: val_lwlrap did not improve from 0.57068\n",
            "Epoch 74/80\n",
            "140/140 [==============================] - 11s 76ms/step - loss: 0.0841 - lwlrap: 0.7536 - val_loss: 0.1300 - val_lwlrap: 0.5639\n",
            "\n",
            "Epoch 00074: val_lwlrap did not improve from 0.57068\n",
            "Epoch 75/80\n",
            "140/140 [==============================] - 11s 79ms/step - loss: 0.0822 - lwlrap: 0.7675 - val_loss: 0.1299 - val_lwlrap: 0.5642\n",
            "\n",
            "Epoch 00075: val_lwlrap did not improve from 0.57068\n",
            "Epoch 76/80\n",
            "140/140 [==============================] - 11s 81ms/step - loss: 0.0829 - lwlrap: 0.7594 - val_loss: 0.1300 - val_lwlrap: 0.5628\n",
            "\n",
            "Epoch 00076: val_lwlrap did not improve from 0.57068\n"
          ],
          "name": "stdout"
        },
        {
          "output_type": "execute_result",
          "data": {
            "text/plain": [
              "<tensorflow.python.keras.callbacks.History at 0x7f401a23cb50>"
            ]
          },
          "metadata": {
            "tags": []
          },
          "execution_count": 55
        }
      ]
    },
    {
      "cell_type": "code",
      "metadata": {
        "id": "-sO8sUNfA_KM"
      },
      "source": [
        "%tensorboard --logdir /content/logs/scalars_1"
      ],
      "execution_count": null,
      "outputs": []
    },
    {
      "cell_type": "code",
      "metadata": {
        "colab": {
          "base_uri": "https://localhost:8080/",
          "height": 271
        },
        "id": "AE5GCqcqo4EV",
        "outputId": "c5bbacd3-9917-43d7-ed74-9b407cd8ef4b"
      },
      "source": [
        "Image(filename='/content/drive/MyDrive/crnn_loss.JPG')"
      ],
      "execution_count": 3,
      "outputs": [
        {
          "output_type": "execute_result",
          "data": {
            "image/jpeg": "[encoded data removed]",
            "text/plain": [
              "<IPython.core.display.Image object>"
            ]
          },
          "metadata": {
            "tags": []
          },
          "execution_count": 3
        }
      ]
    },
    {
      "cell_type": "code",
      "metadata": {
        "colab": {
          "base_uri": "https://localhost:8080/",
          "height": 272
        },
        "id": "9zyUuIDho7GW",
        "outputId": "ec308993-70f1-48dd-ec3d-4ad4c24a3337"
      },
      "source": [
        "Image(filename='/content/drive/MyDrive/crnn_metric.JPG')"
      ],
      "execution_count": 4,
      "outputs": [
        {
          "output_type": "execute_result",
          "data": {
            "image/jpeg": "[encoded data removed]",
            "text/plain": [
              "<IPython.core.display.Image object>"
            ]
          },
          "metadata": {
            "tags": []
          },
          "execution_count": 4
        }
      ]
    },
    {
      "cell_type": "markdown",
      "metadata": {
        "id": "Tt_z7AYm3vHT"
      },
      "source": [
        "## Parallel CNN Architecture"
      ]
    },
    {
      "cell_type": "code",
      "metadata": {
        "id": "xQFTtu9hq23f"
      },
      "source": [
        "# Utility functions for loading audio files and making sure the sample rate is correct.\n",
        "def load_flac_16k_mono(filename):\n",
        "    \"\"\" Load a WAV file, convert it to a float tensor, resample to 16 kHz single-channel audio. \"\"\"\n",
        "    #load the raw signal\n",
        "    audio = tfio.IOTensor.graph(tf.int16).from_audio(filename)\n",
        "    audio_slice = audio.to_tensor()\n",
        "\n",
        "    # remove last dimension\n",
        "    audio_tensor = tf.squeeze(audio_slice, axis=[-1])\n",
        "    audio_tensor = tf.cast(audio_tensor, tf.float32)\n",
        "    sample_rate = tf.cast(48000, dtype=tf.int64)\n",
        "    #resample the signal tp 16000 sampling rate so that it can be fed to yamnet model\n",
        "    audio_tensor = tfio.audio.resample(audio_tensor, rate_in=sample_rate, rate_out=16000)\n",
        "    #getting embeddings\n",
        "    scores, embeddings, spectrogram = yamnet_model(audio_tensor)\n",
        "    return embeddings,spectrogram"
      ],
      "execution_count": null,
      "outputs": []
    },
    {
      "cell_type": "code",
      "metadata": {
        "id": "sYG0a_UJq-Ro"
      },
      "source": [
        "#Data generator for spectrogram and embeddings input\n",
        "def train_generator(k=len(train)):\n",
        "  for i in range(k):\n",
        "    embed,spec = load_flac_16k_mono('/content/drive/MyDrive/Appliedai files/Case_Study_2/train/'+train['recording_id'][i]+'.flac')\n",
        "    embed=tf.reshape(embed,shape=(1,124,1024))\n",
        "    spec=tf.reshape(spec,shape=(1,6000,64))\n",
        "    inputs=(spec,embed)\n",
        "    output=train['species_id'][i]\n",
        "    output=tf.keras.utils.to_categorical(output, num_classes=24)\n",
        "    output=tf.reshape(output,shape=(1,24))\n",
        "    yield inputs,output\n",
        "\n",
        "def val_generator(k=len(validation)):\n",
        "  for i in range(k):\n",
        "    embed,spec = load_flac_16k_mono('/content/drive/MyDrive/Appliedai files/Case_Study_2/train/'+validation['recording_id'][i]+'.flac')\n",
        "    embed=tf.reshape(embed,shape=(1,124,1024))\n",
        "    spec=tf.reshape(spec,shape=(1,6000,64))\n",
        "    inputs=(spec,embed)\n",
        "    output=validation['species_id'][i]\n",
        "    output=tf.keras.utils.to_categorical(output, num_classes=24)\n",
        "    output=tf.reshape(output,shape=(1,24))\n",
        "    yield inputs,output\n",
        "\n",
        "types=((tf.float32,tf.float32),(tf.int32))\n",
        "#shapes=(([None,6000,64],[None,124,1024]),\n",
        "          #([None,24]))\n",
        "\n",
        "train_data = tf.data.Dataset.from_generator(train_generator,output_types=types)\n",
        "\n",
        "val_data = tf.data.Dataset.from_generator(val_generator,output_types=types)"
      ],
      "execution_count": null,
      "outputs": []
    },
    {
      "cell_type": "code",
      "metadata": {
        "colab": {
          "base_uri": "https://localhost:8080/"
        },
        "id": "QAvJQO643z2h",
        "outputId": "453c4747-c7a6-4f1f-9f6c-d88f40775f6f"
      },
      "source": [
        "nb_filters1=32\n",
        "nb_filters2=32 \n",
        "nb_filters3=32\n",
        "ksize =5\n",
        "pool_size_1= 2\n",
        "pool_size_2= 4\n",
        "pool_size_3 =2\n",
        "\n",
        "dropout_prob = 0.3\n",
        "dense_size1 = 128\n",
        "lstm_count = 96\n",
        "num_units = 120\n",
        "\n",
        "BATCH_SIZE = 64\n",
        "EPOCH_COUNT = 50\n",
        "L2_regularization = 0.001\n",
        "num_classes=24\n",
        "\n",
        "def cnn_rnn_parallel():\n",
        "    print('Building model...')\n",
        "    inp_layer_1 = Input(shape=(6000,64),name='conv_input')\n",
        "    \n",
        "    ### Convolutional blocks\n",
        "    conv_1 = Conv1D(filters = nb_filters1, kernel_size = ksize, strides=1,\n",
        "                      padding= 'valid', activation='relu', name='conv_1')(inp_layer_1)\n",
        "    pool_1 = MaxPooling1D(pool_size_1)(conv_1)\n",
        "    drop_1=Dropout(dropout_prob)(pool_1)\n",
        "\n",
        "    conv_2 = Conv1D(filters = nb_filters2, kernel_size = ksize, strides=1,\n",
        "                      padding= 'valid', activation='relu', name='conv_2')(drop_1)\n",
        "    pool_2 = MaxPooling1D(pool_size_1)(conv_2)\n",
        "    drop_2=Dropout(dropout_prob)(pool_2)\n",
        "\n",
        "    conv_3 = Conv1D(filters = nb_filters3, kernel_size = ksize, strides=1,\n",
        "                      padding= 'valid', activation='relu', name='conv_3')(drop_2)\n",
        "    pool_3 = MaxPooling1D(pool_size_1)(conv_3)\n",
        "\n",
        "   \n",
        "\n",
        "    flatten1 = GlobalMaxPooling1D()(pool_3)\n",
        "    ### Recurrent Block\n",
        "    \n",
        "    inp_layer_2=Input(shape=(124,1024))\n",
        "    # Bidirectional GRU\n",
        "    lstm = LSTM(lstm_count,return_sequences=True)(inp_layer_2)  #default merge mode is concat\n",
        "    \n",
        "    flatten2=GlobalMaxPooling1D()(lstm)\n",
        "    # Concat Output\n",
        "    concat = Concatenate()([flatten1, flatten2])\n",
        "    \n",
        "    ## Softmax Output\n",
        "    dense_2 = Dense(64, activation = 'relu')(concat)\n",
        "    drop_3=Dropout(dropout_prob)(dense_2)\n",
        "    output = Dense(num_classes, activation = 'sigmoid', name='preds')(drop_3)\n",
        "    \n",
        "    model = Model(inputs=[inp_layer_1,inp_layer_2],outputs=[output])\n",
        "    model.compile(optimizer='adam', loss='binary_crossentropy', metrics=[lwlrap])\n",
        "\n",
        "    return model\n",
        "    \n",
        "model_2=cnn_rnn_parallel()\n",
        "model_2.run_eagerly = True\n",
        "print(model_2.summary())"
      ],
      "execution_count": null,
      "outputs": [
        {
          "output_type": "stream",
          "text": [
            "Building model...\n",
            "Model: \"model_4\"\n",
            "__________________________________________________________________________________________________\n",
            "Layer (type)                    Output Shape         Param #     Connected to                     \n",
            "==================================================================================================\n",
            "conv_input (InputLayer)         [(None, 6000, 64)]   0                                            \n",
            "__________________________________________________________________________________________________\n",
            "conv_1 (Conv1D)                 (None, 5996, 32)     10272       conv_input[0][0]                 \n",
            "__________________________________________________________________________________________________\n",
            "max_pooling1d_9 (MaxPooling1D)  (None, 2998, 32)     0           conv_1[0][0]                     \n",
            "__________________________________________________________________________________________________\n",
            "dropout_7 (Dropout)             (None, 2998, 32)     0           max_pooling1d_9[0][0]            \n",
            "__________________________________________________________________________________________________\n",
            "conv_2 (Conv1D)                 (None, 2994, 32)     5152        dropout_7[0][0]                  \n",
            "__________________________________________________________________________________________________\n",
            "max_pooling1d_10 (MaxPooling1D) (None, 1497, 32)     0           conv_2[0][0]                     \n",
            "__________________________________________________________________________________________________\n",
            "dropout_8 (Dropout)             (None, 1497, 32)     0           max_pooling1d_10[0][0]           \n",
            "__________________________________________________________________________________________________\n",
            "conv_3 (Conv1D)                 (None, 1493, 32)     5152        dropout_8[0][0]                  \n",
            "__________________________________________________________________________________________________\n",
            "input_4 (InputLayer)            [(None, 124, 1024)]  0                                            \n",
            "__________________________________________________________________________________________________\n",
            "max_pooling1d_11 (MaxPooling1D) (None, 746, 32)      0           conv_3[0][0]                     \n",
            "__________________________________________________________________________________________________\n",
            "lstm_4 (LSTM)                   (None, 124, 96)      430464      input_4[0][0]                    \n",
            "__________________________________________________________________________________________________\n",
            "global_max_pooling1d_2 (GlobalM (None, 32)           0           max_pooling1d_11[0][0]           \n",
            "__________________________________________________________________________________________________\n",
            "global_max_pooling1d_3 (GlobalM (None, 96)           0           lstm_4[0][0]                     \n",
            "__________________________________________________________________________________________________\n",
            "concatenate_3 (Concatenate)     (None, 128)          0           global_max_pooling1d_2[0][0]     \n",
            "                                                                 global_max_pooling1d_3[0][0]     \n",
            "__________________________________________________________________________________________________\n",
            "dense_14 (Dense)                (None, 64)           8256        concatenate_3[0][0]              \n",
            "__________________________________________________________________________________________________\n",
            "dropout_9 (Dropout)             (None, 64)           0           dense_14[0][0]                   \n",
            "__________________________________________________________________________________________________\n",
            "preds (Dense)                   (None, 24)           1560        dropout_9[0][0]                  \n",
            "==================================================================================================\n",
            "Total params: 460,856\n",
            "Trainable params: 460,856\n",
            "Non-trainable params: 0\n",
            "__________________________________________________________________________________________________\n",
            "None\n"
          ],
          "name": "stdout"
        }
      ]
    },
    {
      "cell_type": "code",
      "metadata": {
        "colab": {
          "base_uri": "https://localhost:8080/",
          "height": 1000
        },
        "id": "iEKWTIHYHnxe",
        "outputId": "ddbde7bc-12cb-4aee-f0a8-6335ebd54f20"
      },
      "source": [
        "from keras.utils.vis_utils import plot_model\n",
        "plot_model(model_2, to_file='/content/drive/MyDrive/Appliedai files/Case_Study_2/model_6.png', show_shapes=True, show_layer_names=True)\n"
      ],
      "execution_count": null,
      "outputs": [
        {
          "output_type": "execute_result",
          "data": {
            "image/png": "[encoded data removed]",
            "text/plain": [
              "<IPython.core.display.Image object>"
            ]
          },
          "metadata": {
            "tags": []
          },
          "execution_count": 28
        }
      ]
    },
    {
      "cell_type": "code",
      "metadata": {
        "id": "zXV0yklGSR7h"
      },
      "source": [
        "#Path for saving model\n",
        "filepath=\"/content/drive/MyDrive/Appliedai files/Case_Study_2/model_3/weights-{epoch:02d}-{val_lwlrap:.4f}.hdf5\"\n",
        "#Model checkpoint callback\n",
        "checkpoint_3 = ModelCheckpoint(filepath=filepath, monitor='val_lwlrap', save_best_only=True, verbose=1, mode='max', save_freq='epoch')\n",
        "\n",
        "#loading tensorboard\n",
        "%load_ext tensorboard\n",
        "!rm -rf ./logs/\n",
        "from datetime import datetime\n",
        "#creating log directory\n",
        "logdir=\"logs/scalars_2/\" + datetime.now().strftime(\"%Y%m%d-%H%M%S\")\n",
        "#tensorboard callback\n",
        "tensorboard_2 = TensorBoard(log_dir=logdir)\n",
        "earlystop= EarlyStopping(monitor='val_lwlrap', patience=15,mode='max')\n",
        "\n",
        "\n",
        "lrdecay=ReduceLROnPlateau(monitor='val_lwlrap',factor=0.9,patience=4,mode='max')"
      ],
      "execution_count": null,
      "outputs": []
    },
    {
      "cell_type": "code",
      "metadata": {
        "colab": {
          "base_uri": "https://localhost:8080/"
        },
        "id": "5-DKjhlzI9vj",
        "outputId": "a4acd8f2-372b-40d2-f1f7-f85552b98a25"
      },
      "source": [
        "model_2.fit(train_data, validation_data=val_data,epochs = 65,callbacks=[lrdecay,checkpoint_3,tensorboard_2,earlystop])"
      ],
      "execution_count": null,
      "outputs": [
        {
          "output_type": "stream",
          "text": [
            "Epoch 1/65\n",
            "      4/Unknown - 22s 1s/step - loss: 0.9972 - lwlrap: 0.2917WARNING:tensorflow:5 out of the last 5 calls to <function pfor.<locals>.f at 0x7ff6a6fe0710> triggered tf.function retracing. Tracing is expensive and the excessive number of tracings could be due to (1) creating @tf.function repeatedly in a loop, (2) passing tensors with different shapes, (3) passing Python objects instead of tensors. For (1), please define your @tf.function outside of the loop. For (2), @tf.function has experimental_relax_shapes=True option that relaxes argument shapes that can avoid unnecessary retracing. For (3), please refer to https://www.tensorflow.org/guide/function#controlling_retracing and https://www.tensorflow.org/api_docs/python/tf/function for  more details.\n"
          ],
          "name": "stdout"
        },
        {
          "output_type": "stream",
          "text": [
            "WARNING:tensorflow:5 out of the last 5 calls to <function pfor.<locals>.f at 0x7ff6a6fe0710> triggered tf.function retracing. Tracing is expensive and the excessive number of tracings could be due to (1) creating @tf.function repeatedly in a loop, (2) passing tensors with different shapes, (3) passing Python objects instead of tensors. For (1), please define your @tf.function outside of the loop. For (2), @tf.function has experimental_relax_shapes=True option that relaxes argument shapes that can avoid unnecessary retracing. For (3), please refer to https://www.tensorflow.org/guide/function#controlling_retracing and https://www.tensorflow.org/api_docs/python/tf/function for  more details.\n"
          ],
          "name": "stderr"
        },
        {
          "output_type": "stream",
          "text": [
            "\b\b\b\b\b\b\b\b\b\b\b\b\b\b\b\b\b\b\b\b\b\b\b\b\b\b\b\b\b\b\b\b\b\b\b\b\b\b\b\b\b\b\b\b\b\b\b\b\b\b\b\b\b\b\b\b\b\b\b\b\b\r      5/Unknown - 23s 1s/step - loss: 0.8718 - lwlrap: 0.4334WARNING:tensorflow:6 out of the last 6 calls to <function pfor.<locals>.f at 0x7ff6a7445e60> triggered tf.function retracing. Tracing is expensive and the excessive number of tracings could be due to (1) creating @tf.function repeatedly in a loop, (2) passing tensors with different shapes, (3) passing Python objects instead of tensors. For (1), please define your @tf.function outside of the loop. For (2), @tf.function has experimental_relax_shapes=True option that relaxes argument shapes that can avoid unnecessary retracing. For (3), please refer to https://www.tensorflow.org/guide/function#controlling_retracing and https://www.tensorflow.org/api_docs/python/tf/function for  more details.\n"
          ],
          "name": "stdout"
        },
        {
          "output_type": "stream",
          "text": [
            "WARNING:tensorflow:6 out of the last 6 calls to <function pfor.<locals>.f at 0x7ff6a7445e60> triggered tf.function retracing. Tracing is expensive and the excessive number of tracings could be due to (1) creating @tf.function repeatedly in a loop, (2) passing tensors with different shapes, (3) passing Python objects instead of tensors. For (1), please define your @tf.function outside of the loop. For (2), @tf.function has experimental_relax_shapes=True option that relaxes argument shapes that can avoid unnecessary retracing. For (3), please refer to https://www.tensorflow.org/guide/function#controlling_retracing and https://www.tensorflow.org/api_docs/python/tf/function for  more details.\n"
          ],
          "name": "stderr"
        },
        {
          "output_type": "stream",
          "text": [
            "1094/1094 [==============================] - 1080s 972ms/step - loss: 0.2054 - lwlrap: 0.1970 - val_loss: 0.1617 - val_lwlrap: 0.2753\n",
            "\n",
            "Epoch 00001: val_lwlrap improved from -inf to 0.27530, saving model to /content/drive/MyDrive/Appliedai files/Case_Study_2/model_3/weights-01-0.2753.hdf5\n",
            "Epoch 2/65\n",
            "1094/1094 [==============================] - 237s 216ms/step - loss: 0.1694 - lwlrap: 0.2641 - val_loss: 0.1539 - val_lwlrap: 0.3238\n",
            "\n",
            "Epoch 00002: val_lwlrap improved from 0.27530 to 0.32378, saving model to /content/drive/MyDrive/Appliedai files/Case_Study_2/model_3/weights-02-0.3238.hdf5\n",
            "Epoch 3/65\n",
            "1094/1094 [==============================] - 237s 216ms/step - loss: 0.1615 - lwlrap: 0.2958 - val_loss: 0.1458 - val_lwlrap: 0.4162\n",
            "\n",
            "Epoch 00003: val_lwlrap improved from 0.32378 to 0.41622, saving model to /content/drive/MyDrive/Appliedai files/Case_Study_2/model_3/weights-03-0.4162.hdf5\n",
            "Epoch 4/65\n",
            "1094/1094 [==============================] - 236s 216ms/step - loss: 0.1529 - lwlrap: 0.3554 - val_loss: 0.1398 - val_lwlrap: 0.4649\n",
            "\n",
            "Epoch 00004: val_lwlrap improved from 0.41622 to 0.46494, saving model to /content/drive/MyDrive/Appliedai files/Case_Study_2/model_3/weights-04-0.4649.hdf5\n",
            "Epoch 5/65\n",
            "1094/1094 [==============================] - 236s 215ms/step - loss: 0.1475 - lwlrap: 0.3918 - val_loss: 0.1420 - val_lwlrap: 0.4379\n",
            "\n",
            "Epoch 00005: val_lwlrap did not improve from 0.46494\n",
            "Epoch 6/65\n",
            "1094/1094 [==============================] - 236s 216ms/step - loss: 0.1443 - lwlrap: 0.4258 - val_loss: 0.1378 - val_lwlrap: 0.4610\n",
            "\n",
            "Epoch 00006: val_lwlrap did not improve from 0.46494\n",
            "Epoch 7/65\n",
            "1094/1094 [==============================] - 236s 215ms/step - loss: 0.1384 - lwlrap: 0.4612 - val_loss: 0.1323 - val_lwlrap: 0.4775\n",
            "\n",
            "Epoch 00007: val_lwlrap improved from 0.46494 to 0.47752, saving model to /content/drive/MyDrive/Appliedai files/Case_Study_2/model_3/weights-07-0.4775.hdf5\n",
            "Epoch 8/65\n",
            "1094/1094 [==============================] - 236s 215ms/step - loss: 0.1317 - lwlrap: 0.4837 - val_loss: 0.1301 - val_lwlrap: 0.4956\n",
            "\n",
            "Epoch 00008: val_lwlrap improved from 0.47752 to 0.49563, saving model to /content/drive/MyDrive/Appliedai files/Case_Study_2/model_3/weights-08-0.4956.hdf5\n",
            "Epoch 9/65\n",
            "1094/1094 [==============================] - 236s 216ms/step - loss: 0.1291 - lwlrap: 0.5065 - val_loss: 0.1289 - val_lwlrap: 0.5048\n",
            "\n",
            "Epoch 00009: val_lwlrap improved from 0.49563 to 0.50478, saving model to /content/drive/MyDrive/Appliedai files/Case_Study_2/model_3/weights-09-0.5048.hdf5\n",
            "Epoch 10/65\n",
            "1094/1094 [==============================] - 237s 216ms/step - loss: 0.1238 - lwlrap: 0.5463 - val_loss: 0.1272 - val_lwlrap: 0.5348\n",
            "\n",
            "Epoch 00010: val_lwlrap improved from 0.50478 to 0.53481, saving model to /content/drive/MyDrive/Appliedai files/Case_Study_2/model_3/weights-10-0.5348.hdf5\n",
            "Epoch 11/65\n",
            "1094/1094 [==============================] - 236s 216ms/step - loss: 0.1185 - lwlrap: 0.5695 - val_loss: 0.1231 - val_lwlrap: 0.5339\n",
            "\n",
            "Epoch 00011: val_lwlrap did not improve from 0.53481\n",
            "Epoch 12/65\n",
            "1094/1094 [==============================] - 235s 215ms/step - loss: 0.1133 - lwlrap: 0.5998 - val_loss: 0.1276 - val_lwlrap: 0.5204\n",
            "\n",
            "Epoch 00012: val_lwlrap did not improve from 0.53481\n",
            "Epoch 13/65\n",
            "1094/1094 [==============================] - 236s 216ms/step - loss: 0.1081 - lwlrap: 0.6246 - val_loss: 0.1240 - val_lwlrap: 0.5449\n",
            "\n",
            "Epoch 00013: val_lwlrap improved from 0.53481 to 0.54489, saving model to /content/drive/MyDrive/Appliedai files/Case_Study_2/model_3/weights-13-0.5449.hdf5\n",
            "Epoch 14/65\n",
            "1094/1094 [==============================] - 237s 216ms/step - loss: 0.1036 - lwlrap: 0.6435 - val_loss: 0.1218 - val_lwlrap: 0.5658\n",
            "\n",
            "Epoch 00014: val_lwlrap improved from 0.54489 to 0.56579, saving model to /content/drive/MyDrive/Appliedai files/Case_Study_2/model_3/weights-14-0.5658.hdf5\n",
            "Epoch 15/65\n",
            "1094/1094 [==============================] - 233s 213ms/step - loss: 0.0993 - lwlrap: 0.6761 - val_loss: 0.1242 - val_lwlrap: 0.5752\n",
            "\n",
            "Epoch 00015: val_lwlrap improved from 0.56579 to 0.57522, saving model to /content/drive/MyDrive/Appliedai files/Case_Study_2/model_3/weights-15-0.5752.hdf5\n",
            "Epoch 16/65\n",
            "1094/1094 [==============================] - 233s 213ms/step - loss: 0.0968 - lwlrap: 0.6873 - val_loss: 0.1207 - val_lwlrap: 0.5640\n",
            "\n",
            "Epoch 00016: val_lwlrap did not improve from 0.57522\n",
            "Epoch 17/65\n",
            "1094/1094 [==============================] - 234s 213ms/step - loss: 0.0905 - lwlrap: 0.7158 - val_loss: 0.1215 - val_lwlrap: 0.5683\n",
            "\n",
            "Epoch 00017: val_lwlrap did not improve from 0.57522\n",
            "Epoch 18/65\n",
            "1094/1094 [==============================] - 233s 213ms/step - loss: 0.0876 - lwlrap: 0.7221 - val_loss: 0.1291 - val_lwlrap: 0.5697\n",
            "\n",
            "Epoch 00018: val_lwlrap did not improve from 0.57522\n",
            "Epoch 19/65\n",
            "1094/1094 [==============================] - 233s 213ms/step - loss: 0.0808 - lwlrap: 0.7567 - val_loss: 0.1291 - val_lwlrap: 0.5434\n",
            "\n",
            "Epoch 00019: val_lwlrap did not improve from 0.57522\n",
            "Epoch 20/65\n",
            "1094/1094 [==============================] - 233s 213ms/step - loss: 0.0763 - lwlrap: 0.7766 - val_loss: 0.1298 - val_lwlrap: 0.5483\n",
            "\n",
            "Epoch 00020: val_lwlrap did not improve from 0.57522\n",
            "Epoch 21/65\n",
            "1094/1094 [==============================] - 233s 213ms/step - loss: 0.0697 - lwlrap: 0.8069 - val_loss: 0.1363 - val_lwlrap: 0.5467\n",
            "\n",
            "Epoch 00021: val_lwlrap did not improve from 0.57522\n",
            "Epoch 22/65\n",
            "1094/1094 [==============================] - 233s 213ms/step - loss: 0.0676 - lwlrap: 0.8233 - val_loss: 0.1419 - val_lwlrap: 0.5207\n",
            "\n",
            "Epoch 00022: val_lwlrap did not improve from 0.57522\n",
            "Epoch 23/65\n",
            "1094/1094 [==============================] - 231s 212ms/step - loss: 0.0669 - lwlrap: 0.8217 - val_loss: 0.1468 - val_lwlrap: 0.5245\n",
            "\n",
            "Epoch 00023: val_lwlrap did not improve from 0.57522\n",
            "Epoch 24/65\n",
            "1094/1094 [==============================] - 232s 212ms/step - loss: 0.0588 - lwlrap: 0.8598 - val_loss: 0.1399 - val_lwlrap: 0.5873\n",
            "\n",
            "Epoch 00024: val_lwlrap improved from 0.57522 to 0.58727, saving model to /content/drive/MyDrive/Appliedai files/Case_Study_2/model_3/weights-24-0.5873.hdf5\n",
            "Epoch 25/65\n",
            "1094/1094 [==============================] - 232s 212ms/step - loss: 0.0553 - lwlrap: 0.8688 - val_loss: 0.1424 - val_lwlrap: 0.5463\n",
            "\n",
            "Epoch 00025: val_lwlrap did not improve from 0.58727\n",
            "Epoch 26/65\n",
            "1094/1094 [==============================] - 232s 212ms/step - loss: 0.0515 - lwlrap: 0.8855 - val_loss: 0.1476 - val_lwlrap: 0.5653\n",
            "\n",
            "Epoch 00026: val_lwlrap did not improve from 0.58727\n",
            "Epoch 27/65\n",
            "1094/1094 [==============================] - 232s 212ms/step - loss: 0.0493 - lwlrap: 0.8928 - val_loss: 0.1531 - val_lwlrap: 0.5410\n",
            "\n",
            "Epoch 00027: val_lwlrap did not improve from 0.58727\n",
            "Epoch 28/65\n",
            "1094/1094 [==============================] - 232s 212ms/step - loss: 0.0463 - lwlrap: 0.9025 - val_loss: 0.1575 - val_lwlrap: 0.5477\n",
            "\n",
            "Epoch 00028: val_lwlrap did not improve from 0.58727\n",
            "Epoch 29/65\n",
            "1094/1094 [==============================] - 234s 214ms/step - loss: 0.0401 - lwlrap: 0.9231 - val_loss: 0.1699 - val_lwlrap: 0.5411\n",
            "\n",
            "Epoch 00029: val_lwlrap did not improve from 0.58727\n",
            "Epoch 30/65\n",
            "1094/1094 [==============================] - 232s 212ms/step - loss: 0.0414 - lwlrap: 0.9218 - val_loss: 0.1693 - val_lwlrap: 0.5381\n",
            "\n",
            "Epoch 00030: val_lwlrap did not improve from 0.58727\n",
            "Epoch 31/65\n",
            "1094/1094 [==============================] - 234s 214ms/step - loss: 0.0385 - lwlrap: 0.9303 - val_loss: 0.1694 - val_lwlrap: 0.5589\n",
            "\n",
            "Epoch 00031: val_lwlrap did not improve from 0.58727\n",
            "Epoch 32/65\n",
            "1094/1094 [==============================] - 232s 212ms/step - loss: 0.0394 - lwlrap: 0.9224 - val_loss: 0.1805 - val_lwlrap: 0.5244\n",
            "\n",
            "Epoch 00032: val_lwlrap did not improve from 0.58727\n",
            "Epoch 33/65\n",
            "1094/1094 [==============================] - 235s 214ms/step - loss: 0.0368 - lwlrap: 0.9383 - val_loss: 0.1778 - val_lwlrap: 0.5379\n",
            "\n",
            "Epoch 00033: val_lwlrap did not improve from 0.58727\n",
            "Epoch 34/65\n",
            "1094/1094 [==============================] - 233s 213ms/step - loss: 0.0337 - lwlrap: 0.9390 - val_loss: 0.1761 - val_lwlrap: 0.5698\n",
            "\n",
            "Epoch 00034: val_lwlrap did not improve from 0.58727\n",
            "Epoch 35/65\n",
            "1094/1094 [==============================] - 232s 212ms/step - loss: 0.0322 - lwlrap: 0.9445 - val_loss: 0.1967 - val_lwlrap: 0.5328\n",
            "\n",
            "Epoch 00035: val_lwlrap did not improve from 0.58727\n",
            "Epoch 36/65\n",
            "1094/1094 [==============================] - 233s 213ms/step - loss: 0.0292 - lwlrap: 0.9490 - val_loss: 0.1946 - val_lwlrap: 0.5260\n",
            "\n",
            "Epoch 00036: val_lwlrap did not improve from 0.58727\n",
            "Epoch 37/65\n",
            "1094/1094 [==============================] - 233s 213ms/step - loss: 0.0294 - lwlrap: 0.9551 - val_loss: 0.2101 - val_lwlrap: 0.5219\n",
            "\n",
            "Epoch 00037: val_lwlrap did not improve from 0.58727\n",
            "Epoch 38/65\n",
            "1094/1094 [==============================] - 234s 214ms/step - loss: 0.0263 - lwlrap: 0.9593 - val_loss: 0.1931 - val_lwlrap: 0.5524\n",
            "\n",
            "Epoch 00038: val_lwlrap did not improve from 0.58727\n",
            "Epoch 39/65\n",
            "1094/1094 [==============================] - 235s 215ms/step - loss: 0.0272 - lwlrap: 0.9546 - val_loss: 0.2016 - val_lwlrap: 0.5262\n",
            "\n",
            "Epoch 00039: val_lwlrap did not improve from 0.58727\n"
          ],
          "name": "stdout"
        },
        {
          "output_type": "execute_result",
          "data": {
            "text/plain": [
              "<tensorflow.python.keras.callbacks.History at 0x7ff6a6f29ad0>"
            ]
          },
          "metadata": {
            "tags": []
          },
          "execution_count": 32
        }
      ]
    }
  ]
}