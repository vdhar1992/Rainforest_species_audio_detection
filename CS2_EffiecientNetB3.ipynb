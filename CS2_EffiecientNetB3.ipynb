{
  "nbformat": 4,
  "nbformat_minor": 0,
  "metadata": {
    "colab": {
      "name": "CS2_EffiecientNetB3.ipynb",
      "provenance": [],
      "collapsed_sections": []
    },
    "kernelspec": {
      "name": "python3",
      "display_name": "Python 3"
    },
    "language_info": {
      "name": "python"
    }
  },
  "cells": [
    {
      "cell_type": "code",
      "metadata": {
        "colab": {
          "base_uri": "https://localhost:8080/"
        },
        "id": "ctFxOpvUnp1k",
        "outputId": "14fdee56-910e-4710-c954-0c9d2211d0cf"
      },
      "source": [
        "!pip install tensorflow-io"
      ],
      "execution_count": null,
      "outputs": [
        {
          "output_type": "stream",
          "text": [
            "Collecting tensorflow-io\n",
            "  Downloading tensorflow_io-0.19.1-cp37-cp37m-manylinux_2_12_x86_64.manylinux2010_x86_64.whl (22.7 MB)\n",
            "\u001b[K     |████████████████████████████████| 22.7 MB 84.7 MB/s \n",
            "\u001b[?25hRequirement already satisfied: tensorflow<2.6.0,>=2.5.0 in /usr/local/lib/python3.7/dist-packages (from tensorflow-io) (2.5.0)\n",
            "Collecting tensorflow-io-gcs-filesystem==0.19.1\n",
            "  Downloading tensorflow_io_gcs_filesystem-0.19.1-cp37-cp37m-manylinux_2_12_x86_64.manylinux2010_x86_64.whl (2.3 MB)\n",
            "\u001b[K     |████████████████████████████████| 2.3 MB 46.5 MB/s \n",
            "\u001b[?25hRequirement already satisfied: h5py~=3.1.0 in /usr/local/lib/python3.7/dist-packages (from tensorflow<2.6.0,>=2.5.0->tensorflow-io) (3.1.0)\n",
            "Requirement already satisfied: six~=1.15.0 in /usr/local/lib/python3.7/dist-packages (from tensorflow<2.6.0,>=2.5.0->tensorflow-io) (1.15.0)\n",
            "Requirement already satisfied: absl-py~=0.10 in /usr/local/lib/python3.7/dist-packages (from tensorflow<2.6.0,>=2.5.0->tensorflow-io) (0.12.0)\n",
            "Requirement already satisfied: typing-extensions~=3.7.4 in /usr/local/lib/python3.7/dist-packages (from tensorflow<2.6.0,>=2.5.0->tensorflow-io) (3.7.4.3)\n",
            "Requirement already satisfied: opt-einsum~=3.3.0 in /usr/local/lib/python3.7/dist-packages (from tensorflow<2.6.0,>=2.5.0->tensorflow-io) (3.3.0)\n",
            "Requirement already satisfied: wrapt~=1.12.1 in /usr/local/lib/python3.7/dist-packages (from tensorflow<2.6.0,>=2.5.0->tensorflow-io) (1.12.1)\n",
            "Requirement already satisfied: google-pasta~=0.2 in /usr/local/lib/python3.7/dist-packages (from tensorflow<2.6.0,>=2.5.0->tensorflow-io) (0.2.0)\n",
            "Requirement already satisfied: tensorflow-estimator<2.6.0,>=2.5.0rc0 in /usr/local/lib/python3.7/dist-packages (from tensorflow<2.6.0,>=2.5.0->tensorflow-io) (2.5.0)\n",
            "Requirement already satisfied: keras-preprocessing~=1.1.2 in /usr/local/lib/python3.7/dist-packages (from tensorflow<2.6.0,>=2.5.0->tensorflow-io) (1.1.2)\n",
            "Requirement already satisfied: termcolor~=1.1.0 in /usr/local/lib/python3.7/dist-packages (from tensorflow<2.6.0,>=2.5.0->tensorflow-io) (1.1.0)\n",
            "Requirement already satisfied: protobuf>=3.9.2 in /usr/local/lib/python3.7/dist-packages (from tensorflow<2.6.0,>=2.5.0->tensorflow-io) (3.17.3)\n",
            "Requirement already satisfied: astunparse~=1.6.3 in /usr/local/lib/python3.7/dist-packages (from tensorflow<2.6.0,>=2.5.0->tensorflow-io) (1.6.3)\n",
            "Requirement already satisfied: numpy~=1.19.2 in /usr/local/lib/python3.7/dist-packages (from tensorflow<2.6.0,>=2.5.0->tensorflow-io) (1.19.5)\n",
            "Requirement already satisfied: wheel~=0.35 in /usr/local/lib/python3.7/dist-packages (from tensorflow<2.6.0,>=2.5.0->tensorflow-io) (0.36.2)\n",
            "Requirement already satisfied: grpcio~=1.34.0 in /usr/local/lib/python3.7/dist-packages (from tensorflow<2.6.0,>=2.5.0->tensorflow-io) (1.34.1)\n",
            "Requirement already satisfied: gast==0.4.0 in /usr/local/lib/python3.7/dist-packages (from tensorflow<2.6.0,>=2.5.0->tensorflow-io) (0.4.0)\n",
            "Requirement already satisfied: keras-nightly~=2.5.0.dev in /usr/local/lib/python3.7/dist-packages (from tensorflow<2.6.0,>=2.5.0->tensorflow-io) (2.5.0.dev2021032900)\n",
            "Requirement already satisfied: tensorboard~=2.5 in /usr/local/lib/python3.7/dist-packages (from tensorflow<2.6.0,>=2.5.0->tensorflow-io) (2.5.0)\n",
            "Requirement already satisfied: flatbuffers~=1.12.0 in /usr/local/lib/python3.7/dist-packages (from tensorflow<2.6.0,>=2.5.0->tensorflow-io) (1.12)\n",
            "Requirement already satisfied: cached-property in /usr/local/lib/python3.7/dist-packages (from h5py~=3.1.0->tensorflow<2.6.0,>=2.5.0->tensorflow-io) (1.5.2)\n",
            "Requirement already satisfied: werkzeug>=0.11.15 in /usr/local/lib/python3.7/dist-packages (from tensorboard~=2.5->tensorflow<2.6.0,>=2.5.0->tensorflow-io) (1.0.1)\n",
            "Requirement already satisfied: google-auth<2,>=1.6.3 in /usr/local/lib/python3.7/dist-packages (from tensorboard~=2.5->tensorflow<2.6.0,>=2.5.0->tensorflow-io) (1.32.1)\n",
            "Requirement already satisfied: requests<3,>=2.21.0 in /usr/local/lib/python3.7/dist-packages (from tensorboard~=2.5->tensorflow<2.6.0,>=2.5.0->tensorflow-io) (2.23.0)\n",
            "Requirement already satisfied: setuptools>=41.0.0 in /usr/local/lib/python3.7/dist-packages (from tensorboard~=2.5->tensorflow<2.6.0,>=2.5.0->tensorflow-io) (57.2.0)\n",
            "Requirement already satisfied: google-auth-oauthlib<0.5,>=0.4.1 in /usr/local/lib/python3.7/dist-packages (from tensorboard~=2.5->tensorflow<2.6.0,>=2.5.0->tensorflow-io) (0.4.4)\n",
            "Requirement already satisfied: tensorboard-data-server<0.7.0,>=0.6.0 in /usr/local/lib/python3.7/dist-packages (from tensorboard~=2.5->tensorflow<2.6.0,>=2.5.0->tensorflow-io) (0.6.1)\n",
            "Requirement already satisfied: tensorboard-plugin-wit>=1.6.0 in /usr/local/lib/python3.7/dist-packages (from tensorboard~=2.5->tensorflow<2.6.0,>=2.5.0->tensorflow-io) (1.8.0)\n",
            "Requirement already satisfied: markdown>=2.6.8 in /usr/local/lib/python3.7/dist-packages (from tensorboard~=2.5->tensorflow<2.6.0,>=2.5.0->tensorflow-io) (3.3.4)\n",
            "Requirement already satisfied: cachetools<5.0,>=2.0.0 in /usr/local/lib/python3.7/dist-packages (from google-auth<2,>=1.6.3->tensorboard~=2.5->tensorflow<2.6.0,>=2.5.0->tensorflow-io) (4.2.2)\n",
            "Requirement already satisfied: pyasn1-modules>=0.2.1 in /usr/local/lib/python3.7/dist-packages (from google-auth<2,>=1.6.3->tensorboard~=2.5->tensorflow<2.6.0,>=2.5.0->tensorflow-io) (0.2.8)\n",
            "Requirement already satisfied: rsa<5,>=3.1.4 in /usr/local/lib/python3.7/dist-packages (from google-auth<2,>=1.6.3->tensorboard~=2.5->tensorflow<2.6.0,>=2.5.0->tensorflow-io) (4.7.2)\n",
            "Requirement already satisfied: requests-oauthlib>=0.7.0 in /usr/local/lib/python3.7/dist-packages (from google-auth-oauthlib<0.5,>=0.4.1->tensorboard~=2.5->tensorflow<2.6.0,>=2.5.0->tensorflow-io) (1.3.0)\n",
            "Requirement already satisfied: importlib-metadata in /usr/local/lib/python3.7/dist-packages (from markdown>=2.6.8->tensorboard~=2.5->tensorflow<2.6.0,>=2.5.0->tensorflow-io) (4.6.1)\n",
            "Requirement already satisfied: pyasn1<0.5.0,>=0.4.6 in /usr/local/lib/python3.7/dist-packages (from pyasn1-modules>=0.2.1->google-auth<2,>=1.6.3->tensorboard~=2.5->tensorflow<2.6.0,>=2.5.0->tensorflow-io) (0.4.8)\n",
            "Requirement already satisfied: certifi>=2017.4.17 in /usr/local/lib/python3.7/dist-packages (from requests<3,>=2.21.0->tensorboard~=2.5->tensorflow<2.6.0,>=2.5.0->tensorflow-io) (2021.5.30)\n",
            "Requirement already satisfied: urllib3!=1.25.0,!=1.25.1,<1.26,>=1.21.1 in /usr/local/lib/python3.7/dist-packages (from requests<3,>=2.21.0->tensorboard~=2.5->tensorflow<2.6.0,>=2.5.0->tensorflow-io) (1.24.3)\n",
            "Requirement already satisfied: idna<3,>=2.5 in /usr/local/lib/python3.7/dist-packages (from requests<3,>=2.21.0->tensorboard~=2.5->tensorflow<2.6.0,>=2.5.0->tensorflow-io) (2.10)\n",
            "Requirement already satisfied: chardet<4,>=3.0.2 in /usr/local/lib/python3.7/dist-packages (from requests<3,>=2.21.0->tensorboard~=2.5->tensorflow<2.6.0,>=2.5.0->tensorflow-io) (3.0.4)\n",
            "Requirement already satisfied: oauthlib>=3.0.0 in /usr/local/lib/python3.7/dist-packages (from requests-oauthlib>=0.7.0->google-auth-oauthlib<0.5,>=0.4.1->tensorboard~=2.5->tensorflow<2.6.0,>=2.5.0->tensorflow-io) (3.1.1)\n",
            "Requirement already satisfied: zipp>=0.5 in /usr/local/lib/python3.7/dist-packages (from importlib-metadata->markdown>=2.6.8->tensorboard~=2.5->tensorflow<2.6.0,>=2.5.0->tensorflow-io) (3.5.0)\n",
            "Installing collected packages: tensorflow-io-gcs-filesystem, tensorflow-io\n",
            "Successfully installed tensorflow-io-0.19.1 tensorflow-io-gcs-filesystem-0.19.1\n"
          ],
          "name": "stdout"
        }
      ]
    },
    {
      "cell_type": "code",
      "metadata": {
        "colab": {
          "base_uri": "https://localhost:8080/"
        },
        "id": "Zi2tGfYon78K",
        "outputId": "fcf9fd08-626b-418c-808e-adff11acfcc5"
      },
      "source": [
        "!pip install tensorflow-addons"
      ],
      "execution_count": null,
      "outputs": [
        {
          "output_type": "stream",
          "text": [
            "Collecting tensorflow-addons\n",
            "  Downloading tensorflow_addons-0.13.0-cp37-cp37m-manylinux2010_x86_64.whl (679 kB)\n",
            "\u001b[?25l\r\u001b[K     |▌                               | 10 kB 33.6 MB/s eta 0:00:01\r\u001b[K     |█                               | 20 kB 37.5 MB/s eta 0:00:01\r\u001b[K     |█▌                              | 30 kB 41.8 MB/s eta 0:00:01\r\u001b[K     |██                              | 40 kB 28.1 MB/s eta 0:00:01\r\u001b[K     |██▍                             | 51 kB 17.8 MB/s eta 0:00:01\r\u001b[K     |███                             | 61 kB 14.5 MB/s eta 0:00:01\r\u001b[K     |███▍                            | 71 kB 12.7 MB/s eta 0:00:01\r\u001b[K     |███▉                            | 81 kB 13.9 MB/s eta 0:00:01\r\u001b[K     |████▍                           | 92 kB 14.0 MB/s eta 0:00:01\r\u001b[K     |████▉                           | 102 kB 12.9 MB/s eta 0:00:01\r\u001b[K     |█████▎                          | 112 kB 12.9 MB/s eta 0:00:01\r\u001b[K     |█████▉                          | 122 kB 12.9 MB/s eta 0:00:01\r\u001b[K     |██████▎                         | 133 kB 12.9 MB/s eta 0:00:01\r\u001b[K     |██████▊                         | 143 kB 12.9 MB/s eta 0:00:01\r\u001b[K     |███████▎                        | 153 kB 12.9 MB/s eta 0:00:01\r\u001b[K     |███████▊                        | 163 kB 12.9 MB/s eta 0:00:01\r\u001b[K     |████████▏                       | 174 kB 12.9 MB/s eta 0:00:01\r\u001b[K     |████████▊                       | 184 kB 12.9 MB/s eta 0:00:01\r\u001b[K     |█████████▏                      | 194 kB 12.9 MB/s eta 0:00:01\r\u001b[K     |█████████▋                      | 204 kB 12.9 MB/s eta 0:00:01\r\u001b[K     |██████████▏                     | 215 kB 12.9 MB/s eta 0:00:01\r\u001b[K     |██████████▋                     | 225 kB 12.9 MB/s eta 0:00:01\r\u001b[K     |███████████                     | 235 kB 12.9 MB/s eta 0:00:01\r\u001b[K     |███████████▋                    | 245 kB 12.9 MB/s eta 0:00:01\r\u001b[K     |████████████                    | 256 kB 12.9 MB/s eta 0:00:01\r\u001b[K     |████████████▌                   | 266 kB 12.9 MB/s eta 0:00:01\r\u001b[K     |█████████████                   | 276 kB 12.9 MB/s eta 0:00:01\r\u001b[K     |█████████████▌                  | 286 kB 12.9 MB/s eta 0:00:01\r\u001b[K     |██████████████                  | 296 kB 12.9 MB/s eta 0:00:01\r\u001b[K     |██████████████▌                 | 307 kB 12.9 MB/s eta 0:00:01\r\u001b[K     |███████████████                 | 317 kB 12.9 MB/s eta 0:00:01\r\u001b[K     |███████████████▍                | 327 kB 12.9 MB/s eta 0:00:01\r\u001b[K     |████████████████                | 337 kB 12.9 MB/s eta 0:00:01\r\u001b[K     |████████████████▍               | 348 kB 12.9 MB/s eta 0:00:01\r\u001b[K     |████████████████▉               | 358 kB 12.9 MB/s eta 0:00:01\r\u001b[K     |█████████████████▍              | 368 kB 12.9 MB/s eta 0:00:01\r\u001b[K     |█████████████████▉              | 378 kB 12.9 MB/s eta 0:00:01\r\u001b[K     |██████████████████▎             | 389 kB 12.9 MB/s eta 0:00:01\r\u001b[K     |██████████████████▉             | 399 kB 12.9 MB/s eta 0:00:01\r\u001b[K     |███████████████████▎            | 409 kB 12.9 MB/s eta 0:00:01\r\u001b[K     |███████████████████▊            | 419 kB 12.9 MB/s eta 0:00:01\r\u001b[K     |████████████████████▎           | 430 kB 12.9 MB/s eta 0:00:01\r\u001b[K     |████████████████████▊           | 440 kB 12.9 MB/s eta 0:00:01\r\u001b[K     |█████████████████████▏          | 450 kB 12.9 MB/s eta 0:00:01\r\u001b[K     |█████████████████████▊          | 460 kB 12.9 MB/s eta 0:00:01\r\u001b[K     |██████████████████████▏         | 471 kB 12.9 MB/s eta 0:00:01\r\u001b[K     |██████████████████████▋         | 481 kB 12.9 MB/s eta 0:00:01\r\u001b[K     |███████████████████████▏        | 491 kB 12.9 MB/s eta 0:00:01\r\u001b[K     |███████████████████████▋        | 501 kB 12.9 MB/s eta 0:00:01\r\u001b[K     |████████████████████████        | 512 kB 12.9 MB/s eta 0:00:01\r\u001b[K     |████████████████████████▋       | 522 kB 12.9 MB/s eta 0:00:01\r\u001b[K     |█████████████████████████       | 532 kB 12.9 MB/s eta 0:00:01\r\u001b[K     |█████████████████████████▌      | 542 kB 12.9 MB/s eta 0:00:01\r\u001b[K     |██████████████████████████      | 552 kB 12.9 MB/s eta 0:00:01\r\u001b[K     |██████████████████████████▌     | 563 kB 12.9 MB/s eta 0:00:01\r\u001b[K     |███████████████████████████     | 573 kB 12.9 MB/s eta 0:00:01\r\u001b[K     |███████████████████████████▌    | 583 kB 12.9 MB/s eta 0:00:01\r\u001b[K     |████████████████████████████    | 593 kB 12.9 MB/s eta 0:00:01\r\u001b[K     |████████████████████████████▍   | 604 kB 12.9 MB/s eta 0:00:01\r\u001b[K     |█████████████████████████████   | 614 kB 12.9 MB/s eta 0:00:01\r\u001b[K     |█████████████████████████████▍  | 624 kB 12.9 MB/s eta 0:00:01\r\u001b[K     |█████████████████████████████▉  | 634 kB 12.9 MB/s eta 0:00:01\r\u001b[K     |██████████████████████████████▍ | 645 kB 12.9 MB/s eta 0:00:01\r\u001b[K     |██████████████████████████████▉ | 655 kB 12.9 MB/s eta 0:00:01\r\u001b[K     |███████████████████████████████▎| 665 kB 12.9 MB/s eta 0:00:01\r\u001b[K     |███████████████████████████████▉| 675 kB 12.9 MB/s eta 0:00:01\r\u001b[K     |████████████████████████████████| 679 kB 12.9 MB/s \n",
            "\u001b[?25hRequirement already satisfied: typeguard>=2.7 in /usr/local/lib/python3.7/dist-packages (from tensorflow-addons) (2.7.1)\n",
            "Installing collected packages: tensorflow-addons\n",
            "Successfully installed tensorflow-addons-0.13.0\n"
          ],
          "name": "stdout"
        }
      ]
    },
    {
      "cell_type": "code",
      "metadata": {
        "id": "3oGDO0AaoGAe"
      },
      "source": [
        "# Importing the necessary libraries\n",
        "import tensorflow as tf\n",
        "import tensorflow_io as tfio\n",
        "import tensorflow_addons as tfa\n",
        "import pandas as pd  \n",
        "import matplotlib.pyplot as plt\n",
        "import numpy as np\n",
        "import os\n",
        "from sklearn.model_selection import train_test_split\n",
        "#from classification_models.keras import Classifiers\n",
        "from sklearn.metrics import label_ranking_average_precision_score\n",
        "\n",
        "from PIL import Image\n",
        "import cv2\n",
        "from google.colab.patches import cv2_imshow"
      ],
      "execution_count": null,
      "outputs": []
    },
    {
      "cell_type": "code",
      "metadata": {
        "id": "dM8XZP7pMWsa"
      },
      "source": [
        "#Global variables\n",
        "img_ht=384\n",
        "img_wt=768\n",
        "sample_rate=48000\n",
        "num_class=24\n",
        "num_mels=384\n",
        "f_min=40\n",
        "f_max=24000\n",
        "batch_size=8\n",
        "#(train_pts/batch_size)\n",
        "steps_per_epoch=140 "
      ],
      "execution_count": null,
      "outputs": []
    },
    {
      "cell_type": "code",
      "metadata": {
        "id": "YJOW5jZhoInZ"
      },
      "source": [
        "# Loading the dataset \n",
        "train_tp=pd.read_csv('/content/drive/MyDrive/Appliedai files/Case_Study_2/train_tp.csv')"
      ],
      "execution_count": null,
      "outputs": []
    },
    {
      "cell_type": "code",
      "metadata": {
        "id": "YJs0y9z1oMof"
      },
      "source": [
        "# Loading the test data files\n",
        "test = os.listdir('/content/drive/MyDrive/Appliedai files/Case_Study_2/test')"
      ],
      "execution_count": null,
      "outputs": []
    },
    {
      "cell_type": "code",
      "metadata": {
        "id": "s5QVkqZvQ2zx"
      },
      "source": [
        "# Splitting the train true positive data into train and validation\n",
        "train, validation = train_test_split(train_tp, test_size = 0.1, stratify = train_tp['species_id'])"
      ],
      "execution_count": null,
      "outputs": []
    },
    {
      "cell_type": "code",
      "metadata": {
        "id": "D06g_OiqM3A0"
      },
      "source": [
        "#https://www.tensorflow.org/io/tutorials/audio?hl=pt\n",
        "\n",
        "def create_mel_spectrogram(file):\n",
        "\n",
        "    \"\"\" This function reads the file and computes the mel spectrogram and returns the spectrogram\"\"\"\n",
        "    audio = tfio.IOTensor.graph(tf.int16).from_audio(file)\n",
        "    audio_slice = audio[100:]\n",
        "\n",
        "    # remove last dimension\n",
        "    audio_tensor = tf.squeeze(audio_slice, axis=[-1])\n",
        "    audio_tensor = tf.cast(audio_tensor, tf.float32)\n",
        "\n",
        "    # Convert to spectrogram\n",
        "    spectrogram = tfio.audio.spectrogram(audio_tensor, nfft=2048, window=2048, stride=512)\n",
        "    mel_spectrogram = tfio.audio.melscale(spectrogram, rate=sample_rate, mels=num_mels, fmin=f_min, fmax=f_max)\n",
        "    mel_spectrogram = tfio.audio.dbscale(mel_spectrogram, top_db=80)\n",
        "\n",
        "    # Expanding the dimensions of spectrograms by 1 \n",
        "    image = tf.expand_dims(mel_spectrogram, axis= -1)\n",
        "    image = tf.image.resize(image, [img_ht, img_wt])\n",
        "    image = tf.image.grayscale_to_rgb(image)\n",
        "\n",
        "    # Returning mel_spectrogram\n",
        "    return image\n"
      ],
      "execution_count": null,
      "outputs": []
    },
    {
      "cell_type": "code",
      "metadata": {
        "id": "AUPGXs5_Zjsd"
      },
      "source": [
        "#https://www.tensorflow.org/tutorials/images/data_augmentation\n",
        "\n",
        "def augmentation(spectrogram,label):\n",
        "\n",
        "  #in this function we perform data augmentations on the spectrogram images for train data\n",
        "  \n",
        "  k=np.random.uniform()\n",
        "  if k<0.25:\n",
        "    spectrogram = tf.image.flip_up_down(spectrogram)\n",
        "\n",
        "  elif k<0.5:\n",
        "    spectrogram= tf.image.flip_left_right(spectrogram)\n",
        "\n",
        "  elif k<0.75:\n",
        "    spectrogram= tf.image.random_contrast(spectrogram,0.2,0.5)\n",
        "\n",
        "  else:\n",
        "    spectrogram = tf.image.random_brightness(spectrogram,0.2)\n",
        "\n",
        "  return spectrogram,label"
      ],
      "execution_count": null,
      "outputs": []
    },
    {
      "cell_type": "code",
      "metadata": {
        "id": "pTI3_Jcja4nL"
      },
      "source": [
        "def preprocess_train(file):\n",
        "\n",
        "  #Preprocessing the train data\n",
        "\n",
        "  image=create_mel_spectrogram('/content/drive/MyDrive/Appliedai files/Case_Study_2/train/'+file['recording_id']+'.flac')\n",
        "\n",
        "  #one hot encoding of the target labels\n",
        "  label= tf.one_hot(file['species_id'],num_class)\n",
        "\n",
        "  return image,label\n",
        "\n",
        "def preprocess_val(file):\n",
        "\n",
        "  #Preprocessing the validation data\n",
        "\n",
        "  image=create_mel_spectrogram('/content/drive/MyDrive/Appliedai files/Case_Study_2/train/'+file['recording_id']+'.flac')\n",
        "\n",
        "  #one hot encoding of the target labels\n",
        "  label= tf.one_hot(file['species_id'],num_class)\n",
        "\n",
        "  return image,label\n",
        "\n",
        "\n",
        "def preprocess_test(file):\n",
        "\n",
        "  #Preprocessing the test data\n",
        "\n",
        "  image=create_mel_spectrogram('/content/drive/MyDrive/Appliedai files/Case_Study_2/test/'+file)\n",
        "\n",
        "  #getting the file ids\n",
        "  file_name=tf.strings.split(file,'.')[0]\n",
        "\n",
        "  return image,file_name\n"
      ],
      "execution_count": null,
      "outputs": []
    },
    {
      "cell_type": "code",
      "metadata": {
        "id": "lnOvCpvjROQA"
      },
      "source": [
        "# Creating a dataset from train data and mapping the preprocess train function \n",
        "files_ds = tf.data.Dataset.from_tensor_slices(dict(train))\n",
        "train_dataset = files_ds.map(preprocess_train).cache().map(augmentation).shuffle(3).batch(batch_size).prefetch(-1).repeat()\n",
        "\n",
        "# Creating a dataset from validation data and mapping the preprocess val function \n",
        "files_ds = tf.data.Dataset.from_tensor_slices(dict(validation))\n",
        "val_dataset = files_ds.map(preprocess_val).cache().shuffle(3).batch(batch_size).prefetch(-1)\n",
        "\n",
        "# Creating a dataset from test data and mapping the preprocess test function\n",
        "files_ds = tf.data.Dataset.from_tensor_slices(test)\n",
        "test_dataset = files_ds.map(preprocess_test).cache().shuffle(3).prefetch(-1)"
      ],
      "execution_count": null,
      "outputs": []
    },
    {
      "cell_type": "code",
      "metadata": {
        "id": "D-p6ez36t5ij"
      },
      "source": [
        "def lwlrap(y_true, y_pred):\n",
        "    return tf.py_function(label_ranking_average_precision_score, (y_true, y_pred), tf.double)"
      ],
      "execution_count": null,
      "outputs": []
    },
    {
      "cell_type": "code",
      "metadata": {
        "colab": {
          "base_uri": "https://localhost:8080/"
        },
        "id": "M7exgbJ2t_xk",
        "outputId": "5322bf7e-78d2-4649-93c7-33649bf40afc"
      },
      "source": [
        "backbone = tf.keras.applications.EfficientNetB3(include_top = False,input_shape = (img_ht,img_wt,3), weights=\"imagenet\")\n",
        "\n",
        "for layer in backbone.layers[:0]:\n",
        "    layer.trainable = False\n",
        "\n",
        "model = tf.keras.Sequential([\n",
        "            backbone,\n",
        "            tf.keras.layers.GlobalAveragePooling2D(),\n",
        "            tf.keras.layers.Dense(128, activation='relu', kernel_initializer=tf.keras.initializers.he_normal()),\n",
        "            tf.keras.layers.Dropout(0.5),\n",
        "            #tf.keras.layers.BatchNormalization(),\n",
        "            tf.keras.layers.Dense(num_class,bias_initializer=tf.keras.initializers.Constant(-2.))])\n",
        "\n",
        "model.summary()"
      ],
      "execution_count": null,
      "outputs": [
        {
          "output_type": "stream",
          "text": [
            "Downloading data from https://storage.googleapis.com/keras-applications/efficientnetb3_notop.h5\n",
            "43941888/43941136 [==============================] - 1s 0us/step\n",
            "Model: \"sequential\"\n",
            "_________________________________________________________________\n",
            "Layer (type)                 Output Shape              Param #   \n",
            "=================================================================\n",
            "efficientnetb3 (Functional)  (None, 12, 24, 1536)      10783535  \n",
            "_________________________________________________________________\n",
            "global_average_pooling2d (Gl (None, 1536)              0         \n",
            "_________________________________________________________________\n",
            "dense (Dense)                (None, 128)               196736    \n",
            "_________________________________________________________________\n",
            "dropout (Dropout)            (None, 128)               0         \n",
            "_________________________________________________________________\n",
            "dense_1 (Dense)              (None, 24)                3096      \n",
            "=================================================================\n",
            "Total params: 10,983,367\n",
            "Trainable params: 10,896,064\n",
            "Non-trainable params: 87,303\n",
            "_________________________________________________________________\n"
          ],
          "name": "stdout"
        }
      ]
    },
    {
      "cell_type": "code",
      "metadata": {
        "id": "CawlNiU7uN_p"
      },
      "source": [
        "model.compile(optimizer=tfa.optimizers.RectifiedAdam(learning_rate=2e-3,total_steps=30*140,warmup_proportion=0.3,min_lr=1e-6), loss=tfa.losses.SigmoidFocalCrossEntropy(from_logits = True), metrics=[lwlrap])"
      ],
      "execution_count": null,
      "outputs": []
    },
    {
      "cell_type": "code",
      "metadata": {
        "id": "3b4ijquwRh1P"
      },
      "source": [
        "#loading tensorboard\n",
        "%load_ext tensorboard\n",
        "!rm -rf ./logs/\n",
        "from datetime import datetime\n",
        "#creating log directory\n",
        "logdir=\"logs/scalars_1/\" + datetime.now().strftime(\"%Y%m%d-%H%M%S\")\n",
        "#tensorboard callback\n",
        "tensorboard_1 = tf.keras.callbacks.TensorBoard(log_dir=logdir)\n",
        "earlystop=tf.keras.callbacks.EarlyStopping(monitor='val_lwlrap',patience=8,mode='max')\n",
        "\n",
        "#Path for saving model\n",
        "filepath=\"/content/drive/MyDrive/Appliedai files/Case_Study_2/CS2_modelling2/model_1/weights-{epoch:02d}-{val_lwlrap:.4f}.hdf5\"\n",
        "#Model checkpoint callback\n",
        "checkpoint_1 = tf.keras.callbacks.ModelCheckpoint(filepath=filepath, monitor='val_lwlrap', save_best_only=True, verbose=1, mode='max', save_freq='epoch')\n"
      ],
      "execution_count": null,
      "outputs": []
    },
    {
      "cell_type": "code",
      "metadata": {
        "colab": {
          "base_uri": "https://localhost:8080/"
        },
        "id": "WinC4fDpRnJV",
        "outputId": "94d93a1c-d4e7-4f9e-8d4b-5cb43f9820a3"
      },
      "source": [
        "model.fit(train_dataset,steps_per_epoch=steps_per_epoch, validation_data=val_dataset,epochs = 50,callbacks = [tensorboard_1,earlystop,checkpoint_1])"
      ],
      "execution_count": null,
      "outputs": [
        {
          "output_type": "stream",
          "text": [
            "/usr/local/lib/python3.7/dist-packages/tensorflow/python/keras/utils/generic_utils.py:497: CustomMaskWarning: Custom mask layers require a config and must override get_config. When loading, the custom mask layer must be passed to the custom_objects argument.\n",
            "  category=CustomMaskWarning)\n"
          ],
          "name": "stderr"
        },
        {
          "output_type": "stream",
          "text": [
            "Epoch 1/50\n",
            "140/140 [==============================] - 2670s 18s/step - loss: 0.4376 - lwlrap: 0.1891 - val_loss: 0.4509 - val_lwlrap: 0.1633\n",
            "\n",
            "Epoch 00001: val_lwlrap improved from -inf to 0.16326, saving model to /content/drive/MyDrive/Appliedai files/Case_Study_2/CS2_modelling2/model_1/weights-01-0.1633.hdf5\n"
          ],
          "name": "stdout"
        },
        {
          "output_type": "stream",
          "text": [
            "/usr/local/lib/python3.7/dist-packages/tensorflow/python/keras/utils/generic_utils.py:497: CustomMaskWarning: Custom mask layers require a config and must override get_config. When loading, the custom mask layer must be passed to the custom_objects argument.\n",
            "  category=CustomMaskWarning)\n"
          ],
          "name": "stderr"
        },
        {
          "output_type": "stream",
          "text": [
            "Epoch 2/50\n",
            "140/140 [==============================] - 106s 758ms/step - loss: 0.3855 - lwlrap: 0.2931 - val_loss: 0.4367 - val_lwlrap: 0.1729\n",
            "\n",
            "Epoch 00002: val_lwlrap improved from 0.16326 to 0.17294, saving model to /content/drive/MyDrive/Appliedai files/Case_Study_2/CS2_modelling2/model_1/weights-02-0.1729.hdf5\n"
          ],
          "name": "stdout"
        },
        {
          "output_type": "stream",
          "text": [
            "/usr/local/lib/python3.7/dist-packages/tensorflow/python/keras/utils/generic_utils.py:497: CustomMaskWarning: Custom mask layers require a config and must override get_config. When loading, the custom mask layer must be passed to the custom_objects argument.\n",
            "  category=CustomMaskWarning)\n"
          ],
          "name": "stderr"
        },
        {
          "output_type": "stream",
          "text": [
            "Epoch 3/50\n",
            "140/140 [==============================] - 106s 759ms/step - loss: 0.3450 - lwlrap: 0.4163 - val_loss: 0.4141 - val_lwlrap: 0.2229\n",
            "\n",
            "Epoch 00003: val_lwlrap improved from 0.17294 to 0.22293, saving model to /content/drive/MyDrive/Appliedai files/Case_Study_2/CS2_modelling2/model_1/weights-03-0.2229.hdf5\n"
          ],
          "name": "stdout"
        },
        {
          "output_type": "stream",
          "text": [
            "/usr/local/lib/python3.7/dist-packages/tensorflow/python/keras/utils/generic_utils.py:497: CustomMaskWarning: Custom mask layers require a config and must override get_config. When loading, the custom mask layer must be passed to the custom_objects argument.\n",
            "  category=CustomMaskWarning)\n"
          ],
          "name": "stderr"
        },
        {
          "output_type": "stream",
          "text": [
            "Epoch 4/50\n",
            "140/140 [==============================] - 106s 758ms/step - loss: 0.3132 - lwlrap: 0.5049 - val_loss: 0.3546 - val_lwlrap: 0.4068\n",
            "\n",
            "Epoch 00004: val_lwlrap improved from 0.22293 to 0.40676, saving model to /content/drive/MyDrive/Appliedai files/Case_Study_2/CS2_modelling2/model_1/weights-04-0.4068.hdf5\n"
          ],
          "name": "stdout"
        },
        {
          "output_type": "stream",
          "text": [
            "/usr/local/lib/python3.7/dist-packages/tensorflow/python/keras/utils/generic_utils.py:497: CustomMaskWarning: Custom mask layers require a config and must override get_config. When loading, the custom mask layer must be passed to the custom_objects argument.\n",
            "  category=CustomMaskWarning)\n"
          ],
          "name": "stderr"
        },
        {
          "output_type": "stream",
          "text": [
            "Epoch 5/50\n",
            "140/140 [==============================] - 106s 756ms/step - loss: 0.3033 - lwlrap: 0.5563 - val_loss: 0.3316 - val_lwlrap: 0.4643\n",
            "\n",
            "Epoch 00005: val_lwlrap improved from 0.40676 to 0.46432, saving model to /content/drive/MyDrive/Appliedai files/Case_Study_2/CS2_modelling2/model_1/weights-05-0.4643.hdf5\n"
          ],
          "name": "stdout"
        },
        {
          "output_type": "stream",
          "text": [
            "/usr/local/lib/python3.7/dist-packages/tensorflow/python/keras/utils/generic_utils.py:497: CustomMaskWarning: Custom mask layers require a config and must override get_config. When loading, the custom mask layer must be passed to the custom_objects argument.\n",
            "  category=CustomMaskWarning)\n"
          ],
          "name": "stderr"
        },
        {
          "output_type": "stream",
          "text": [
            "Epoch 6/50\n",
            "140/140 [==============================] - 106s 757ms/step - loss: 0.2976 - lwlrap: 0.5701 - val_loss: 0.3375 - val_lwlrap: 0.5194\n",
            "\n",
            "Epoch 00006: val_lwlrap improved from 0.46432 to 0.51937, saving model to /content/drive/MyDrive/Appliedai files/Case_Study_2/CS2_modelling2/model_1/weights-06-0.5194.hdf5\n"
          ],
          "name": "stdout"
        },
        {
          "output_type": "stream",
          "text": [
            "/usr/local/lib/python3.7/dist-packages/tensorflow/python/keras/utils/generic_utils.py:497: CustomMaskWarning: Custom mask layers require a config and must override get_config. When loading, the custom mask layer must be passed to the custom_objects argument.\n",
            "  category=CustomMaskWarning)\n"
          ],
          "name": "stderr"
        },
        {
          "output_type": "stream",
          "text": [
            "Epoch 7/50\n",
            "140/140 [==============================] - 106s 758ms/step - loss: 0.3211 - lwlrap: 0.5230 - val_loss: 0.4661 - val_lwlrap: 0.3453\n",
            "\n",
            "Epoch 00007: val_lwlrap did not improve from 0.51937\n",
            "Epoch 8/50\n",
            "140/140 [==============================] - 106s 757ms/step - loss: 0.3255 - lwlrap: 0.5019 - val_loss: 0.3368 - val_lwlrap: 0.4762\n",
            "\n",
            "Epoch 00008: val_lwlrap did not improve from 0.51937\n",
            "Epoch 9/50\n",
            "140/140 [==============================] - 106s 758ms/step - loss: 0.3038 - lwlrap: 0.5768 - val_loss: 0.4999 - val_lwlrap: 0.2247\n",
            "\n",
            "Epoch 00009: val_lwlrap did not improve from 0.51937\n",
            "Epoch 10/50\n",
            "140/140 [==============================] - 106s 758ms/step - loss: 0.3204 - lwlrap: 0.5236 - val_loss: 0.4551 - val_lwlrap: 0.3730\n",
            "\n",
            "Epoch 00010: val_lwlrap did not improve from 0.51937\n",
            "Epoch 11/50\n",
            "140/140 [==============================] - 106s 758ms/step - loss: 0.2837 - lwlrap: 0.5971 - val_loss: 0.3316 - val_lwlrap: 0.4837\n",
            "\n",
            "Epoch 00011: val_lwlrap did not improve from 0.51937\n",
            "Epoch 12/50\n",
            "140/140 [==============================] - 107s 761ms/step - loss: 0.2636 - lwlrap: 0.6483 - val_loss: 0.3535 - val_lwlrap: 0.5093\n",
            "\n",
            "Epoch 00012: val_lwlrap did not improve from 0.51937\n",
            "Epoch 13/50\n",
            "140/140 [==============================] - 107s 766ms/step - loss: 0.2421 - lwlrap: 0.6790 - val_loss: 0.3788 - val_lwlrap: 0.4589\n",
            "\n",
            "Epoch 00013: val_lwlrap did not improve from 0.51937\n",
            "Epoch 14/50\n",
            "140/140 [==============================] - 106s 761ms/step - loss: 0.2268 - lwlrap: 0.7137 - val_loss: 0.3538 - val_lwlrap: 0.5753\n",
            "\n",
            "Epoch 00014: val_lwlrap improved from 0.51937 to 0.57525, saving model to /content/drive/MyDrive/Appliedai files/Case_Study_2/CS2_modelling2/model_1/weights-14-0.5753.hdf5\n"
          ],
          "name": "stdout"
        },
        {
          "output_type": "stream",
          "text": [
            "/usr/local/lib/python3.7/dist-packages/tensorflow/python/keras/utils/generic_utils.py:497: CustomMaskWarning: Custom mask layers require a config and must override get_config. When loading, the custom mask layer must be passed to the custom_objects argument.\n",
            "  category=CustomMaskWarning)\n"
          ],
          "name": "stderr"
        },
        {
          "output_type": "stream",
          "text": [
            "Epoch 15/50\n",
            "140/140 [==============================] - 107s 762ms/step - loss: 0.1992 - lwlrap: 0.7638 - val_loss: 0.3544 - val_lwlrap: 0.5638\n",
            "\n",
            "Epoch 00015: val_lwlrap did not improve from 0.57525\n",
            "Epoch 16/50\n",
            "140/140 [==============================] - 106s 760ms/step - loss: 0.1956 - lwlrap: 0.7716 - val_loss: 0.3405 - val_lwlrap: 0.6149\n",
            "\n",
            "Epoch 00016: val_lwlrap improved from 0.57525 to 0.61490, saving model to /content/drive/MyDrive/Appliedai files/Case_Study_2/CS2_modelling2/model_1/weights-16-0.6149.hdf5\n"
          ],
          "name": "stdout"
        },
        {
          "output_type": "stream",
          "text": [
            "/usr/local/lib/python3.7/dist-packages/tensorflow/python/keras/utils/generic_utils.py:497: CustomMaskWarning: Custom mask layers require a config and must override get_config. When loading, the custom mask layer must be passed to the custom_objects argument.\n",
            "  category=CustomMaskWarning)\n"
          ],
          "name": "stderr"
        },
        {
          "output_type": "stream",
          "text": [
            "Epoch 17/50\n",
            "140/140 [==============================] - 106s 758ms/step - loss: 0.1641 - lwlrap: 0.8218 - val_loss: 0.4233 - val_lwlrap: 0.5199\n",
            "\n",
            "Epoch 00017: val_lwlrap did not improve from 0.61490\n",
            "Epoch 18/50\n",
            "140/140 [==============================] - 106s 758ms/step - loss: 0.1733 - lwlrap: 0.8108 - val_loss: 0.3480 - val_lwlrap: 0.5919\n",
            "\n",
            "Epoch 00018: val_lwlrap did not improve from 0.61490\n",
            "Epoch 19/50\n",
            "140/140 [==============================] - 106s 755ms/step - loss: 0.1556 - lwlrap: 0.8446 - val_loss: 0.3982 - val_lwlrap: 0.5534\n",
            "\n",
            "Epoch 00019: val_lwlrap did not improve from 0.61490\n",
            "Epoch 20/50\n",
            "140/140 [==============================] - 106s 757ms/step - loss: 0.1249 - lwlrap: 0.8815 - val_loss: 0.3271 - val_lwlrap: 0.6113\n",
            "\n",
            "Epoch 00020: val_lwlrap did not improve from 0.61490\n",
            "Epoch 21/50\n",
            "140/140 [==============================] - 106s 759ms/step - loss: 0.1034 - lwlrap: 0.9166 - val_loss: 0.4272 - val_lwlrap: 0.6407\n",
            "\n",
            "Epoch 00021: val_lwlrap improved from 0.61490 to 0.64074, saving model to /content/drive/MyDrive/Appliedai files/Case_Study_2/CS2_modelling2/model_1/weights-21-0.6407.hdf5\n"
          ],
          "name": "stdout"
        },
        {
          "output_type": "stream",
          "text": [
            "/usr/local/lib/python3.7/dist-packages/tensorflow/python/keras/utils/generic_utils.py:497: CustomMaskWarning: Custom mask layers require a config and must override get_config. When loading, the custom mask layer must be passed to the custom_objects argument.\n",
            "  category=CustomMaskWarning)\n"
          ],
          "name": "stderr"
        },
        {
          "output_type": "stream",
          "text": [
            "Epoch 22/50\n",
            "140/140 [==============================] - 106s 758ms/step - loss: 0.0948 - lwlrap: 0.9255 - val_loss: 0.3775 - val_lwlrap: 0.6786\n",
            "\n",
            "Epoch 00022: val_lwlrap improved from 0.64074 to 0.67859, saving model to /content/drive/MyDrive/Appliedai files/Case_Study_2/CS2_modelling2/model_1/weights-22-0.6786.hdf5\n"
          ],
          "name": "stdout"
        },
        {
          "output_type": "stream",
          "text": [
            "/usr/local/lib/python3.7/dist-packages/tensorflow/python/keras/utils/generic_utils.py:497: CustomMaskWarning: Custom mask layers require a config and must override get_config. When loading, the custom mask layer must be passed to the custom_objects argument.\n",
            "  category=CustomMaskWarning)\n"
          ],
          "name": "stderr"
        },
        {
          "output_type": "stream",
          "text": [
            "Epoch 23/50\n",
            "140/140 [==============================] - 106s 760ms/step - loss: 0.0656 - lwlrap: 0.9458 - val_loss: 0.4598 - val_lwlrap: 0.6595\n",
            "\n",
            "Epoch 00023: val_lwlrap did not improve from 0.67859\n",
            "Epoch 24/50\n",
            "140/140 [==============================] - 107s 762ms/step - loss: 0.0565 - lwlrap: 0.9569 - val_loss: 0.3832 - val_lwlrap: 0.6821\n",
            "\n",
            "Epoch 00024: val_lwlrap improved from 0.67859 to 0.68208, saving model to /content/drive/MyDrive/Appliedai files/Case_Study_2/CS2_modelling2/model_1/weights-24-0.6821.hdf5\n"
          ],
          "name": "stdout"
        },
        {
          "output_type": "stream",
          "text": [
            "/usr/local/lib/python3.7/dist-packages/tensorflow/python/keras/utils/generic_utils.py:497: CustomMaskWarning: Custom mask layers require a config and must override get_config. When loading, the custom mask layer must be passed to the custom_objects argument.\n",
            "  category=CustomMaskWarning)\n"
          ],
          "name": "stderr"
        },
        {
          "output_type": "stream",
          "text": [
            "Epoch 25/50\n",
            "140/140 [==============================] - 106s 761ms/step - loss: 0.0418 - lwlrap: 0.9738 - val_loss: 0.5013 - val_lwlrap: 0.6904\n",
            "\n",
            "Epoch 00025: val_lwlrap improved from 0.68208 to 0.69039, saving model to /content/drive/MyDrive/Appliedai files/Case_Study_2/CS2_modelling2/model_1/weights-25-0.6904.hdf5\n"
          ],
          "name": "stdout"
        },
        {
          "output_type": "stream",
          "text": [
            "/usr/local/lib/python3.7/dist-packages/tensorflow/python/keras/utils/generic_utils.py:497: CustomMaskWarning: Custom mask layers require a config and must override get_config. When loading, the custom mask layer must be passed to the custom_objects argument.\n",
            "  category=CustomMaskWarning)\n"
          ],
          "name": "stderr"
        },
        {
          "output_type": "stream",
          "text": [
            "Epoch 26/50\n",
            "140/140 [==============================] - 106s 760ms/step - loss: 0.0352 - lwlrap: 0.9754 - val_loss: 0.4941 - val_lwlrap: 0.6915\n",
            "\n",
            "Epoch 00026: val_lwlrap improved from 0.69039 to 0.69151, saving model to /content/drive/MyDrive/Appliedai files/Case_Study_2/CS2_modelling2/model_1/weights-26-0.6915.hdf5\n"
          ],
          "name": "stdout"
        },
        {
          "output_type": "stream",
          "text": [
            "/usr/local/lib/python3.7/dist-packages/tensorflow/python/keras/utils/generic_utils.py:497: CustomMaskWarning: Custom mask layers require a config and must override get_config. When loading, the custom mask layer must be passed to the custom_objects argument.\n",
            "  category=CustomMaskWarning)\n"
          ],
          "name": "stderr"
        },
        {
          "output_type": "stream",
          "text": [
            "Epoch 27/50\n",
            "140/140 [==============================] - 106s 760ms/step - loss: 0.0282 - lwlrap: 0.9852 - val_loss: 0.4911 - val_lwlrap: 0.7256\n",
            "\n",
            "Epoch 00027: val_lwlrap improved from 0.69151 to 0.72560, saving model to /content/drive/MyDrive/Appliedai files/Case_Study_2/CS2_modelling2/model_1/weights-27-0.7256.hdf5\n"
          ],
          "name": "stdout"
        },
        {
          "output_type": "stream",
          "text": [
            "/usr/local/lib/python3.7/dist-packages/tensorflow/python/keras/utils/generic_utils.py:497: CustomMaskWarning: Custom mask layers require a config and must override get_config. When loading, the custom mask layer must be passed to the custom_objects argument.\n",
            "  category=CustomMaskWarning)\n"
          ],
          "name": "stderr"
        },
        {
          "output_type": "stream",
          "text": [
            "Epoch 28/50\n",
            "140/140 [==============================] - 106s 758ms/step - loss: 0.0238 - lwlrap: 0.9852 - val_loss: 0.5766 - val_lwlrap: 0.7329\n",
            "\n",
            "Epoch 00028: val_lwlrap improved from 0.72560 to 0.73290, saving model to /content/drive/MyDrive/Appliedai files/Case_Study_2/CS2_modelling2/model_1/weights-28-0.7329.hdf5\n"
          ],
          "name": "stdout"
        },
        {
          "output_type": "stream",
          "text": [
            "/usr/local/lib/python3.7/dist-packages/tensorflow/python/keras/utils/generic_utils.py:497: CustomMaskWarning: Custom mask layers require a config and must override get_config. When loading, the custom mask layer must be passed to the custom_objects argument.\n",
            "  category=CustomMaskWarning)\n"
          ],
          "name": "stderr"
        },
        {
          "output_type": "stream",
          "text": [
            "Epoch 29/50\n",
            "140/140 [==============================] - 106s 758ms/step - loss: 0.0193 - lwlrap: 0.9919 - val_loss: 0.5876 - val_lwlrap: 0.7165\n",
            "\n",
            "Epoch 00029: val_lwlrap did not improve from 0.73290\n",
            "Epoch 30/50\n",
            "140/140 [==============================] - 106s 760ms/step - loss: 0.0168 - lwlrap: 0.9934 - val_loss: 0.5688 - val_lwlrap: 0.7284\n",
            "\n",
            "Epoch 00030: val_lwlrap did not improve from 0.73290\n",
            "Epoch 31/50\n",
            "140/140 [==============================] - 106s 759ms/step - loss: 0.0184 - lwlrap: 0.9889 - val_loss: 0.5726 - val_lwlrap: 0.7245\n",
            "\n",
            "Epoch 00031: val_lwlrap did not improve from 0.73290\n",
            "Epoch 32/50\n",
            "140/140 [==============================] - 106s 761ms/step - loss: 0.0155 - lwlrap: 0.9932 - val_loss: 0.5575 - val_lwlrap: 0.7086\n",
            "\n",
            "Epoch 00032: val_lwlrap did not improve from 0.73290\n",
            "Epoch 33/50\n",
            "140/140 [==============================] - 106s 759ms/step - loss: 0.0160 - lwlrap: 0.9914 - val_loss: 0.5621 - val_lwlrap: 0.7097\n",
            "\n",
            "Epoch 00033: val_lwlrap did not improve from 0.73290\n",
            "Epoch 34/50\n",
            "140/140 [==============================] - 106s 760ms/step - loss: 0.0152 - lwlrap: 0.9940 - val_loss: 0.5716 - val_lwlrap: 0.7300\n",
            "\n",
            "Epoch 00034: val_lwlrap did not improve from 0.73290\n",
            "Epoch 35/50\n",
            "140/140 [==============================] - 106s 760ms/step - loss: 0.0164 - lwlrap: 0.9944 - val_loss: 0.5739 - val_lwlrap: 0.7292\n",
            "\n",
            "Epoch 00035: val_lwlrap did not improve from 0.73290\n",
            "Epoch 36/50\n",
            "140/140 [==============================] - 106s 759ms/step - loss: 0.0171 - lwlrap: 0.9902 - val_loss: 0.5737 - val_lwlrap: 0.7251\n",
            "\n",
            "Epoch 00036: val_lwlrap did not improve from 0.73290\n"
          ],
          "name": "stdout"
        },
        {
          "output_type": "execute_result",
          "data": {
            "text/plain": [
              "<tensorflow.python.keras.callbacks.History at 0x7fc47e4ff810>"
            ]
          },
          "metadata": {
            "tags": []
          },
          "execution_count": 16
        }
      ]
    },
    {
      "cell_type": "code",
      "metadata": {
        "id": "L4FiiKTRfKJZ"
      },
      "source": [
        "%tensorboard --logdir /content/logs/scalars_1"
      ],
      "execution_count": null,
      "outputs": []
    },
    {
      "cell_type": "code",
      "metadata": {
        "colab": {
          "base_uri": "https://localhost:8080/",
          "height": 266
        },
        "id": "ZbNbnoWinAzK",
        "outputId": "23d03581-1dc9-4166-ef69-66432be23e02"
      },
      "source": [
        "#Loss and metric plots\n",
        "\n",
        "from IPython.display import Image\n",
        "Image(filename='/content/drive/MyDrive/EffnetB3_loss.JPG')"
      ],
      "execution_count": 1,
      "outputs": [
        {
          "output_type": "execute_result",
          "data": {
            "image/jpeg": "[encoded data removed]",
            "text/plain": [
              "<IPython.core.display.Image object>"
            ]
          },
          "metadata": {
            "tags": []
          },
          "execution_count": 1
        }
      ]
    },
    {
      "cell_type": "code",
      "metadata": {
        "colab": {
          "base_uri": "https://localhost:8080/",
          "height": 276
        },
        "id": "GnJ5YXGuptr_",
        "outputId": "832eda2c-5f19-4a03-f4db-a8897b9893a7"
      },
      "source": [
        "\n",
        "Image(filename='/content/drive/MyDrive/EffnetB3_metric.JPG')"
      ],
      "execution_count": 3,
      "outputs": [
        {
          "output_type": "execute_result",
          "data": {
            "image/jpeg": "[encoded data removed]",
            "text/plain": [
              "<IPython.core.display.Image object>"
            ]
          },
          "metadata": {
            "tags": []
          },
          "execution_count": 3
        }
      ]
    }
  ]
}