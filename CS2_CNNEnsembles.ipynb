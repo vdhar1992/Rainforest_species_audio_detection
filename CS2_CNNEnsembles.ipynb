{
  "nbformat": 4,
  "nbformat_minor": 0,
  "metadata": {
    "colab": {
      "name": "CS2_CNNEnsembles.ipynb",
      "provenance": [],
      "collapsed_sections": [],
      "machine_shape": "hm"
    },
    "kernelspec": {
      "name": "python3",
      "display_name": "Python 3"
    },
    "language_info": {
      "name": "python"
    },
    "accelerator": "GPU"
  },
  "cells": [
    {
      "cell_type": "code",
      "metadata": {
        "colab": {
          "base_uri": "https://localhost:8080/"
        },
        "id": "ctFxOpvUnp1k",
        "outputId": "1ee69cea-234a-4b00-ddef-9681e7e1440f"
      },
      "source": [
        "!pip install tensorflow-io"
      ],
      "execution_count": null,
      "outputs": [
        {
          "output_type": "stream",
          "text": [
            "Collecting tensorflow-io\n",
            "  Downloading tensorflow_io-0.19.1-cp37-cp37m-manylinux_2_12_x86_64.manylinux2010_x86_64.whl (22.7 MB)\n",
            "\u001b[K     |████████████████████████████████| 22.7 MB 1.5 MB/s \n",
            "\u001b[?25hCollecting tensorflow-io-gcs-filesystem==0.19.1\n",
            "  Downloading tensorflow_io_gcs_filesystem-0.19.1-cp37-cp37m-manylinux_2_12_x86_64.manylinux2010_x86_64.whl (2.3 MB)\n",
            "\u001b[K     |████████████████████████████████| 2.3 MB 60.6 MB/s \n",
            "\u001b[?25hRequirement already satisfied: tensorflow<2.6.0,>=2.5.0 in /usr/local/lib/python3.7/dist-packages (from tensorflow-io) (2.5.0)\n",
            "Requirement already satisfied: keras-preprocessing~=1.1.2 in /usr/local/lib/python3.7/dist-packages (from tensorflow<2.6.0,>=2.5.0->tensorflow-io) (1.1.2)\n",
            "Requirement already satisfied: wrapt~=1.12.1 in /usr/local/lib/python3.7/dist-packages (from tensorflow<2.6.0,>=2.5.0->tensorflow-io) (1.12.1)\n",
            "Requirement already satisfied: six~=1.15.0 in /usr/local/lib/python3.7/dist-packages (from tensorflow<2.6.0,>=2.5.0->tensorflow-io) (1.15.0)\n",
            "Requirement already satisfied: h5py~=3.1.0 in /usr/local/lib/python3.7/dist-packages (from tensorflow<2.6.0,>=2.5.0->tensorflow-io) (3.1.0)\n",
            "Requirement already satisfied: wheel~=0.35 in /usr/local/lib/python3.7/dist-packages (from tensorflow<2.6.0,>=2.5.0->tensorflow-io) (0.36.2)\n",
            "Requirement already satisfied: keras-nightly~=2.5.0.dev in /usr/local/lib/python3.7/dist-packages (from tensorflow<2.6.0,>=2.5.0->tensorflow-io) (2.5.0.dev2021032900)\n",
            "Requirement already satisfied: tensorflow-estimator<2.6.0,>=2.5.0rc0 in /usr/local/lib/python3.7/dist-packages (from tensorflow<2.6.0,>=2.5.0->tensorflow-io) (2.5.0)\n",
            "Requirement already satisfied: flatbuffers~=1.12.0 in /usr/local/lib/python3.7/dist-packages (from tensorflow<2.6.0,>=2.5.0->tensorflow-io) (1.12)\n",
            "Requirement already satisfied: typing-extensions~=3.7.4 in /usr/local/lib/python3.7/dist-packages (from tensorflow<2.6.0,>=2.5.0->tensorflow-io) (3.7.4.3)\n",
            "Requirement already satisfied: protobuf>=3.9.2 in /usr/local/lib/python3.7/dist-packages (from tensorflow<2.6.0,>=2.5.0->tensorflow-io) (3.17.3)\n",
            "Requirement already satisfied: termcolor~=1.1.0 in /usr/local/lib/python3.7/dist-packages (from tensorflow<2.6.0,>=2.5.0->tensorflow-io) (1.1.0)\n",
            "Requirement already satisfied: grpcio~=1.34.0 in /usr/local/lib/python3.7/dist-packages (from tensorflow<2.6.0,>=2.5.0->tensorflow-io) (1.34.1)\n",
            "Requirement already satisfied: absl-py~=0.10 in /usr/local/lib/python3.7/dist-packages (from tensorflow<2.6.0,>=2.5.0->tensorflow-io) (0.12.0)\n",
            "Requirement already satisfied: google-pasta~=0.2 in /usr/local/lib/python3.7/dist-packages (from tensorflow<2.6.0,>=2.5.0->tensorflow-io) (0.2.0)\n",
            "Requirement already satisfied: opt-einsum~=3.3.0 in /usr/local/lib/python3.7/dist-packages (from tensorflow<2.6.0,>=2.5.0->tensorflow-io) (3.3.0)\n",
            "Requirement already satisfied: numpy~=1.19.2 in /usr/local/lib/python3.7/dist-packages (from tensorflow<2.6.0,>=2.5.0->tensorflow-io) (1.19.5)\n",
            "Requirement already satisfied: tensorboard~=2.5 in /usr/local/lib/python3.7/dist-packages (from tensorflow<2.6.0,>=2.5.0->tensorflow-io) (2.5.0)\n",
            "Requirement already satisfied: gast==0.4.0 in /usr/local/lib/python3.7/dist-packages (from tensorflow<2.6.0,>=2.5.0->tensorflow-io) (0.4.0)\n",
            "Requirement already satisfied: astunparse~=1.6.3 in /usr/local/lib/python3.7/dist-packages (from tensorflow<2.6.0,>=2.5.0->tensorflow-io) (1.6.3)\n",
            "Requirement already satisfied: cached-property in /usr/local/lib/python3.7/dist-packages (from h5py~=3.1.0->tensorflow<2.6.0,>=2.5.0->tensorflow-io) (1.5.2)\n",
            "Requirement already satisfied: tensorboard-plugin-wit>=1.6.0 in /usr/local/lib/python3.7/dist-packages (from tensorboard~=2.5->tensorflow<2.6.0,>=2.5.0->tensorflow-io) (1.8.0)\n",
            "Requirement already satisfied: tensorboard-data-server<0.7.0,>=0.6.0 in /usr/local/lib/python3.7/dist-packages (from tensorboard~=2.5->tensorflow<2.6.0,>=2.5.0->tensorflow-io) (0.6.1)\n",
            "Requirement already satisfied: google-auth<2,>=1.6.3 in /usr/local/lib/python3.7/dist-packages (from tensorboard~=2.5->tensorflow<2.6.0,>=2.5.0->tensorflow-io) (1.32.1)\n",
            "Requirement already satisfied: markdown>=2.6.8 in /usr/local/lib/python3.7/dist-packages (from tensorboard~=2.5->tensorflow<2.6.0,>=2.5.0->tensorflow-io) (3.3.4)\n",
            "Requirement already satisfied: requests<3,>=2.21.0 in /usr/local/lib/python3.7/dist-packages (from tensorboard~=2.5->tensorflow<2.6.0,>=2.5.0->tensorflow-io) (2.23.0)\n",
            "Requirement already satisfied: werkzeug>=0.11.15 in /usr/local/lib/python3.7/dist-packages (from tensorboard~=2.5->tensorflow<2.6.0,>=2.5.0->tensorflow-io) (1.0.1)\n",
            "Requirement already satisfied: google-auth-oauthlib<0.5,>=0.4.1 in /usr/local/lib/python3.7/dist-packages (from tensorboard~=2.5->tensorflow<2.6.0,>=2.5.0->tensorflow-io) (0.4.4)\n",
            "Requirement already satisfied: setuptools>=41.0.0 in /usr/local/lib/python3.7/dist-packages (from tensorboard~=2.5->tensorflow<2.6.0,>=2.5.0->tensorflow-io) (57.2.0)\n",
            "Requirement already satisfied: pyasn1-modules>=0.2.1 in /usr/local/lib/python3.7/dist-packages (from google-auth<2,>=1.6.3->tensorboard~=2.5->tensorflow<2.6.0,>=2.5.0->tensorflow-io) (0.2.8)\n",
            "Requirement already satisfied: cachetools<5.0,>=2.0.0 in /usr/local/lib/python3.7/dist-packages (from google-auth<2,>=1.6.3->tensorboard~=2.5->tensorflow<2.6.0,>=2.5.0->tensorflow-io) (4.2.2)\n",
            "Requirement already satisfied: rsa<5,>=3.1.4 in /usr/local/lib/python3.7/dist-packages (from google-auth<2,>=1.6.3->tensorboard~=2.5->tensorflow<2.6.0,>=2.5.0->tensorflow-io) (4.7.2)\n",
            "Requirement already satisfied: requests-oauthlib>=0.7.0 in /usr/local/lib/python3.7/dist-packages (from google-auth-oauthlib<0.5,>=0.4.1->tensorboard~=2.5->tensorflow<2.6.0,>=2.5.0->tensorflow-io) (1.3.0)\n",
            "Requirement already satisfied: importlib-metadata in /usr/local/lib/python3.7/dist-packages (from markdown>=2.6.8->tensorboard~=2.5->tensorflow<2.6.0,>=2.5.0->tensorflow-io) (4.6.1)\n",
            "Requirement already satisfied: pyasn1<0.5.0,>=0.4.6 in /usr/local/lib/python3.7/dist-packages (from pyasn1-modules>=0.2.1->google-auth<2,>=1.6.3->tensorboard~=2.5->tensorflow<2.6.0,>=2.5.0->tensorflow-io) (0.4.8)\n",
            "Requirement already satisfied: chardet<4,>=3.0.2 in /usr/local/lib/python3.7/dist-packages (from requests<3,>=2.21.0->tensorboard~=2.5->tensorflow<2.6.0,>=2.5.0->tensorflow-io) (3.0.4)\n",
            "Requirement already satisfied: urllib3!=1.25.0,!=1.25.1,<1.26,>=1.21.1 in /usr/local/lib/python3.7/dist-packages (from requests<3,>=2.21.0->tensorboard~=2.5->tensorflow<2.6.0,>=2.5.0->tensorflow-io) (1.24.3)\n",
            "Requirement already satisfied: certifi>=2017.4.17 in /usr/local/lib/python3.7/dist-packages (from requests<3,>=2.21.0->tensorboard~=2.5->tensorflow<2.6.0,>=2.5.0->tensorflow-io) (2021.5.30)\n",
            "Requirement already satisfied: idna<3,>=2.5 in /usr/local/lib/python3.7/dist-packages (from requests<3,>=2.21.0->tensorboard~=2.5->tensorflow<2.6.0,>=2.5.0->tensorflow-io) (2.10)\n",
            "Requirement already satisfied: oauthlib>=3.0.0 in /usr/local/lib/python3.7/dist-packages (from requests-oauthlib>=0.7.0->google-auth-oauthlib<0.5,>=0.4.1->tensorboard~=2.5->tensorflow<2.6.0,>=2.5.0->tensorflow-io) (3.1.1)\n",
            "Requirement already satisfied: zipp>=0.5 in /usr/local/lib/python3.7/dist-packages (from importlib-metadata->markdown>=2.6.8->tensorboard~=2.5->tensorflow<2.6.0,>=2.5.0->tensorflow-io) (3.5.0)\n",
            "Installing collected packages: tensorflow-io-gcs-filesystem, tensorflow-io\n",
            "Successfully installed tensorflow-io-0.19.1 tensorflow-io-gcs-filesystem-0.19.1\n"
          ],
          "name": "stdout"
        }
      ]
    },
    {
      "cell_type": "code",
      "metadata": {
        "colab": {
          "base_uri": "https://localhost:8080/"
        },
        "id": "Zi2tGfYon78K",
        "outputId": "41a127e1-9a76-407b-8eb4-3b647a655234"
      },
      "source": [
        "!pip install tensorflow-addons"
      ],
      "execution_count": null,
      "outputs": [
        {
          "output_type": "stream",
          "text": [
            "Collecting tensorflow-addons\n",
            "  Downloading tensorflow_addons-0.13.0-cp37-cp37m-manylinux2010_x86_64.whl (679 kB)\n",
            "\u001b[?25l\r\u001b[K     |▌                               | 10 kB 24.5 MB/s eta 0:00:01\r\u001b[K     |█                               | 20 kB 30.2 MB/s eta 0:00:01\r\u001b[K     |█▌                              | 30 kB 20.4 MB/s eta 0:00:01\r\u001b[K     |██                              | 40 kB 16.2 MB/s eta 0:00:01\r\u001b[K     |██▍                             | 51 kB 9.1 MB/s eta 0:00:01\r\u001b[K     |███                             | 61 kB 8.7 MB/s eta 0:00:01\r\u001b[K     |███▍                            | 71 kB 9.0 MB/s eta 0:00:01\r\u001b[K     |███▉                            | 81 kB 10.1 MB/s eta 0:00:01\r\u001b[K     |████▍                           | 92 kB 10.3 MB/s eta 0:00:01\r\u001b[K     |████▉                           | 102 kB 8.5 MB/s eta 0:00:01\r\u001b[K     |█████▎                          | 112 kB 8.5 MB/s eta 0:00:01\r\u001b[K     |█████▉                          | 122 kB 8.5 MB/s eta 0:00:01\r\u001b[K     |██████▎                         | 133 kB 8.5 MB/s eta 0:00:01\r\u001b[K     |██████▊                         | 143 kB 8.5 MB/s eta 0:00:01\r\u001b[K     |███████▎                        | 153 kB 8.5 MB/s eta 0:00:01\r\u001b[K     |███████▊                        | 163 kB 8.5 MB/s eta 0:00:01\r\u001b[K     |████████▏                       | 174 kB 8.5 MB/s eta 0:00:01\r\u001b[K     |████████▊                       | 184 kB 8.5 MB/s eta 0:00:01\r\u001b[K     |█████████▏                      | 194 kB 8.5 MB/s eta 0:00:01\r\u001b[K     |█████████▋                      | 204 kB 8.5 MB/s eta 0:00:01\r\u001b[K     |██████████▏                     | 215 kB 8.5 MB/s eta 0:00:01\r\u001b[K     |██████████▋                     | 225 kB 8.5 MB/s eta 0:00:01\r\u001b[K     |███████████                     | 235 kB 8.5 MB/s eta 0:00:01\r\u001b[K     |███████████▋                    | 245 kB 8.5 MB/s eta 0:00:01\r\u001b[K     |████████████                    | 256 kB 8.5 MB/s eta 0:00:01\r\u001b[K     |████████████▌                   | 266 kB 8.5 MB/s eta 0:00:01\r\u001b[K     |█████████████                   | 276 kB 8.5 MB/s eta 0:00:01\r\u001b[K     |█████████████▌                  | 286 kB 8.5 MB/s eta 0:00:01\r\u001b[K     |██████████████                  | 296 kB 8.5 MB/s eta 0:00:01\r\u001b[K     |██████████████▌                 | 307 kB 8.5 MB/s eta 0:00:01\r\u001b[K     |███████████████                 | 317 kB 8.5 MB/s eta 0:00:01\r\u001b[K     |███████████████▍                | 327 kB 8.5 MB/s eta 0:00:01\r\u001b[K     |████████████████                | 337 kB 8.5 MB/s eta 0:00:01\r\u001b[K     |████████████████▍               | 348 kB 8.5 MB/s eta 0:00:01\r\u001b[K     |████████████████▉               | 358 kB 8.5 MB/s eta 0:00:01\r\u001b[K     |█████████████████▍              | 368 kB 8.5 MB/s eta 0:00:01\r\u001b[K     |█████████████████▉              | 378 kB 8.5 MB/s eta 0:00:01\r\u001b[K     |██████████████████▎             | 389 kB 8.5 MB/s eta 0:00:01\r\u001b[K     |██████████████████▉             | 399 kB 8.5 MB/s eta 0:00:01\r\u001b[K     |███████████████████▎            | 409 kB 8.5 MB/s eta 0:00:01\r\u001b[K     |███████████████████▊            | 419 kB 8.5 MB/s eta 0:00:01\r\u001b[K     |████████████████████▎           | 430 kB 8.5 MB/s eta 0:00:01\r\u001b[K     |████████████████████▊           | 440 kB 8.5 MB/s eta 0:00:01\r\u001b[K     |█████████████████████▏          | 450 kB 8.5 MB/s eta 0:00:01\r\u001b[K     |█████████████████████▊          | 460 kB 8.5 MB/s eta 0:00:01\r\u001b[K     |██████████████████████▏         | 471 kB 8.5 MB/s eta 0:00:01\r\u001b[K     |██████████████████████▋         | 481 kB 8.5 MB/s eta 0:00:01\r\u001b[K     |███████████████████████▏        | 491 kB 8.5 MB/s eta 0:00:01\r\u001b[K     |███████████████████████▋        | 501 kB 8.5 MB/s eta 0:00:01\r\u001b[K     |████████████████████████        | 512 kB 8.5 MB/s eta 0:00:01\r\u001b[K     |████████████████████████▋       | 522 kB 8.5 MB/s eta 0:00:01\r\u001b[K     |█████████████████████████       | 532 kB 8.5 MB/s eta 0:00:01\r\u001b[K     |█████████████████████████▌      | 542 kB 8.5 MB/s eta 0:00:01\r\u001b[K     |██████████████████████████      | 552 kB 8.5 MB/s eta 0:00:01\r\u001b[K     |██████████████████████████▌     | 563 kB 8.5 MB/s eta 0:00:01\r\u001b[K     |███████████████████████████     | 573 kB 8.5 MB/s eta 0:00:01\r\u001b[K     |███████████████████████████▌    | 583 kB 8.5 MB/s eta 0:00:01\r\u001b[K     |████████████████████████████    | 593 kB 8.5 MB/s eta 0:00:01\r\u001b[K     |████████████████████████████▍   | 604 kB 8.5 MB/s eta 0:00:01\r\u001b[K     |█████████████████████████████   | 614 kB 8.5 MB/s eta 0:00:01\r\u001b[K     |█████████████████████████████▍  | 624 kB 8.5 MB/s eta 0:00:01\r\u001b[K     |█████████████████████████████▉  | 634 kB 8.5 MB/s eta 0:00:01\r\u001b[K     |██████████████████████████████▍ | 645 kB 8.5 MB/s eta 0:00:01\r\u001b[K     |██████████████████████████████▉ | 655 kB 8.5 MB/s eta 0:00:01\r\u001b[K     |███████████████████████████████▎| 665 kB 8.5 MB/s eta 0:00:01\r\u001b[K     |███████████████████████████████▉| 675 kB 8.5 MB/s eta 0:00:01\r\u001b[K     |████████████████████████████████| 679 kB 8.5 MB/s \n",
            "\u001b[?25hRequirement already satisfied: typeguard>=2.7 in /usr/local/lib/python3.7/dist-packages (from tensorflow-addons) (2.7.1)\n",
            "Installing collected packages: tensorflow-addons\n",
            "Successfully installed tensorflow-addons-0.13.0\n"
          ],
          "name": "stdout"
        }
      ]
    },
    {
      "cell_type": "code",
      "metadata": {
        "id": "3oGDO0AaoGAe"
      },
      "source": [
        "# Importing the necessary libraries\n",
        "import tensorflow as tf\n",
        "import tensorflow_io as tfio\n",
        "import tensorflow_addons as tfa\n",
        "import pandas as pd  \n",
        "import matplotlib.pyplot as plt\n",
        "import numpy as np\n",
        "import os\n",
        "from sklearn.model_selection import train_test_split\n",
        "from sklearn.metrics import label_ranking_average_precision_score\n",
        "import tensorflow_hub as hub"
      ],
      "execution_count": null,
      "outputs": []
    },
    {
      "cell_type": "code",
      "metadata": {
        "id": "uupgDDLoGTZh"
      },
      "source": [
        "# Global variables \n",
        "img_ht = 384\n",
        "img_wt = 768\n",
        "srate=48000\n",
        "class_n=24\n",
        "num_mels=384\n",
        "f_min=40\n",
        "f_max=24000\n",
        "batch_size=8\n",
        "num_steps=140"
      ],
      "execution_count": null,
      "outputs": []
    },
    {
      "cell_type": "code",
      "metadata": {
        "id": "YJOW5jZhoInZ"
      },
      "source": [
        "train_tp=pd.read_csv('/content/drive/MyDrive/Appliedai files/Case_Study_2/train_tp.csv')"
      ],
      "execution_count": null,
      "outputs": []
    },
    {
      "cell_type": "code",
      "metadata": {
        "id": "IKR5nBXZoKyn"
      },
      "source": [
        "#train_test_split\n",
        "X_train,X_cv=train_test_split(train_tp, stratify=train_tp['species_id'], test_size=0.10)"
      ],
      "execution_count": null,
      "outputs": []
    },
    {
      "cell_type": "code",
      "metadata": {
        "id": "YJs0y9z1oMof"
      },
      "source": [
        "test=os.listdir('/content/drive/MyDrive/Appliedai files/Case_Study_2/test/')"
      ],
      "execution_count": null,
      "outputs": []
    },
    {
      "cell_type": "code",
      "metadata": {
        "id": "CSUiuMSToOTl"
      },
      "source": [
        "X_train.reset_index(inplace=True)\n",
        "X_cv.reset_index(inplace=True)"
      ],
      "execution_count": null,
      "outputs": []
    },
    {
      "cell_type": "code",
      "metadata": {
        "id": "x623C7SVoZeJ"
      },
      "source": [
        "#https://www.tensorflow.org/io/tutorials/audio?hl=pt\n",
        "\n",
        "def create_mel_spectrogram(file):\n",
        "    \"\"\" This function reads the file and computes the mel spectrogram and returns the spectrogram\"\"\"\n",
        "    audio = tfio.IOTensor.graph(tf.int16).from_audio(file)\n",
        "    audio_slice = audio[100:]\n",
        "\n",
        "    # remove last dimension\n",
        "    audio_tensor = tf.squeeze(audio_slice, axis=[-1])\n",
        "    audio_tensor = tf.cast(audio_tensor, tf.float32)\n",
        "\n",
        "    # Convert to spectrogram\n",
        "    spectrogram = tfio.audio.spectrogram(audio_tensor, nfft=2048, window=2048, stride=512)\n",
        "\n",
        "    # Convert to mel-spectrogram\n",
        "    mel_spectrogram = tfio.audio.melscale(spectrogram, rate=srate, mels=num_mels, fmin=f_min, fmax=f_max)\n",
        "\n",
        "    # Convert to db scale mel-spectrogram\n",
        "    mel_spectrogram = tfio.audio.dbscale(mel_spectrogram, top_db=80)\n",
        "\n",
        "    # Expanding the dimensions of spectrograms by 1 \n",
        "    image = tf.expand_dims(mel_spectrogram, axis= -1)\n",
        "    # Resizing the spectrogram\n",
        "    image = tf.image.resize(image, [img_ht,img_wt])\n",
        "    # Converting the spectrogram to rgb\n",
        "    image = tf.image.grayscale_to_rgb(image)\n",
        "\n",
        "    # Returning mel_spectrogram\n",
        "    return image\n",
        "\n"
      ],
      "execution_count": null,
      "outputs": []
    },
    {
      "cell_type": "code",
      "metadata": {
        "id": "v7vbgeeNod_y"
      },
      "source": [
        "#https://www.tensorflow.org/tutorials/images/data_augmentation\n",
        "\n",
        "def augmentation(spectrogram, label):\n",
        "    \"\"\"In this function we resize the image and perform data augumentations for train data\"\"\"\n",
        "\n",
        "    # Getting a random value and based on the random value computing the augmentation\n",
        "    a = np.random.uniform()\n",
        "    if a<0.25:\n",
        "        # Flipping the spectrogram up to down\n",
        "        spectrogram = tf.image.flip_up_down(spectrogram)\n",
        "    elif a<0.5:\n",
        "      spectrogram = tf.image.flip_left_right(spectrogram)\n",
        "    elif a<0.75:\n",
        "        # Adding a random contrast to spectrogram\n",
        "        spectrogram = tf.image.random_contrast(spectrogram, 0.2,0.5)\n",
        "    else:\n",
        "        # Adding a random brightness to spectrogram\n",
        "        spectrogram = tf.image.random_brightness(spectrogram,0.2)\n",
        "\n",
        "    # Returning the spectrogram image\n",
        "    return spectrogram, label"
      ],
      "execution_count": null,
      "outputs": []
    },
    {
      "cell_type": "code",
      "metadata": {
        "id": "ZdFIYXoAtdKD"
      },
      "source": [
        "def preprocess_train(file):\n",
        "    \"\"\"Preprocessing train files\"\"\"\n",
        "    \n",
        "    image = create_mel_spectrogram('/content/drive/MyDrive/Appliedai files/Case_Study_2/train/'+file['recording_id']+'.flac')\n",
        "    \n",
        "    # Computing the one hot encoded values of species_id\n",
        "    label = tf.one_hot(file['species_id'], class_n)\n",
        "    # Returning the spectrogram and one hot encoded species_id\n",
        "    return image, label\n",
        "\n",
        "\n",
        "def preprocess_val(file):\n",
        "    \"\"\"Preprocessing validation files\"\"\"\n",
        "    image = create_mel_spectrogram('/content/drive/MyDrive/Appliedai files/Case_Study_2/train/'+file['recording_id']+'.flac')\n",
        "\n",
        "    # Computing the one hot encoded values of species_id\n",
        "    label = tf.one_hot(file['species_id'], class_n)\n",
        "    # Returning the spectrogram and one hot encoded species_id\n",
        "    return image, label\n",
        "\n",
        "    \n",
        "def preprocess_test(file):\n",
        "    \"\"\"Preprocessing test files\"\"\"\n",
        "    image = create_mel_spectrogram('/content/drive/MyDrive/Appliedai files/Case_Study_2/test/'+file)\n",
        "\n",
        "    file_name = tf.strings.split(file,'.')[0]\n",
        "    # Returning only the spectrogram image for test dataset \n",
        "    return image, file_name"
      ],
      "execution_count": null,
      "outputs": []
    },
    {
      "cell_type": "code",
      "metadata": {
        "id": "z11jYHTGtwEP"
      },
      "source": [
        "# Creating a dataset from train data and mapping the preprocess train function \n",
        "files_ds = tf.data.Dataset.from_tensor_slices(dict(X_train))\n",
        "train_dataset = files_ds.map(preprocess_train).cache().map(augmentation).shuffle(3).batch(batch_size).prefetch(-1).repeat()\n",
        "\n",
        "# Creating a dataset from train data and mapping the preprocess train function \n",
        "files_ds = tf.data.Dataset.from_tensor_slices(dict(X_cv))\n",
        "val_dataset = files_ds.map(preprocess_val).cache().shuffle(3).batch(batch_size).prefetch(-1)\n",
        "\n",
        "files_ds = tf.data.Dataset.from_tensor_slices(test)\n",
        "test_dataset = files_ds.map(preprocess_test).cache().shuffle(3).prefetch(-1)"
      ],
      "execution_count": null,
      "outputs": []
    },
    {
      "cell_type": "code",
      "metadata": {
        "id": "D-p6ez36t5ij"
      },
      "source": [
        "def lwlrap(y_true,y_score):\n",
        "  return tf.py_function(label_ranking_average_precision_score, (y_true,y_score), tf.double)"
      ],
      "execution_count": null,
      "outputs": []
    },
    {
      "cell_type": "code",
      "metadata": {
        "colab": {
          "base_uri": "https://localhost:8080/"
        },
        "id": "M7exgbJ2t_xk",
        "outputId": "e1055632-e44a-4c62-aa74-9084fbeac129"
      },
      "source": [
        "backbone = tf.keras.applications.EfficientNetB2(include_top = False,input_shape = (img_ht,img_wt,3), weights=\"imagenet\")\n",
        "for layer in backbone.layers[:0]:\n",
        "    layer.trainable = False\n",
        "\n",
        "model_1 = tf.keras.Sequential([\n",
        "            backbone,\n",
        "            tf.keras.layers.GlobalAveragePooling2D(),\n",
        "            tf.keras.layers.Dense(256, activation='relu', kernel_initializer=tf.keras.initializers.he_normal()),\n",
        "            tf.keras.layers.Dropout(0.4),\n",
        "            tf.keras.layers.BatchNormalization(),\n",
        "            tf.keras.layers.Dense(class_n,bias_initializer=tf.keras.initializers.Constant(-2.))])\n",
        "\n",
        "model_1.summary()\n",
        "\n",
        "model_1.compile(optimizer=tfa.optimizers.RectifiedAdam(learning_rate=2e-3,total_steps=65*140,warmup_proportion=0.3,min_lr=1e-6), loss=tfa.losses.SigmoidFocalCrossEntropy(from_logits = True), metrics=[lwlrap])"
      ],
      "execution_count": null,
      "outputs": [
        {
          "output_type": "stream",
          "text": [
            "Downloading data from https://storage.googleapis.com/keras-applications/efficientnetb2_notop.h5\n",
            "31793152/31790344 [==============================] - 0s 0us/step\n",
            "Model: \"sequential\"\n",
            "_________________________________________________________________\n",
            "Layer (type)                 Output Shape              Param #   \n",
            "=================================================================\n",
            "efficientnetb2 (Functional)  (None, 12, 24, 1408)      7768569   \n",
            "_________________________________________________________________\n",
            "global_average_pooling2d (Gl (None, 1408)              0         \n",
            "_________________________________________________________________\n",
            "dense (Dense)                (None, 256)               360704    \n",
            "_________________________________________________________________\n",
            "dropout (Dropout)            (None, 256)               0         \n",
            "_________________________________________________________________\n",
            "batch_normalization (BatchNo (None, 256)               1024      \n",
            "_________________________________________________________________\n",
            "dense_1 (Dense)              (None, 24)                6168      \n",
            "=================================================================\n",
            "Total params: 8,136,465\n",
            "Trainable params: 8,068,378\n",
            "Non-trainable params: 68,087\n",
            "_________________________________________________________________\n"
          ],
          "name": "stdout"
        }
      ]
    },
    {
      "cell_type": "code",
      "metadata": {
        "id": "k859rL1MuGeU",
        "colab": {
          "base_uri": "https://localhost:8080/"
        },
        "outputId": "2647de19-5d3d-49e7-953e-13098e796696"
      },
      "source": [
        "#loading tensorboard\n",
        "%load_ext tensorboard\n",
        "!rm -rf ./logs/\n",
        "from datetime import datetime\n",
        "#creating log directory\n",
        "logdir=\"logs/scalars_1/\" + datetime.now().strftime(\"%Y%m%d-%H%M%S\")\n",
        "#tensorboard callback\n",
        "tensorboard_1 = tf.keras.callbacks.TensorBoard(log_dir=logdir)\n",
        "\n",
        "#lr_decay=tf.keras.callbacks.ReduceLROnPlateau(monitor='val_lwlrap',factor=0.1, patience=5, mode='max')\n",
        "earlystop=tf.keras.callbacks.EarlyStopping(monitor='val_lwlrap',patience=15,mode='max')\n",
        "\n",
        "#Path for saving model\n",
        "filepath=\"/content/drive/MyDrive/Appliedai files/Case_Study_2/CS2_modelling2/model_6/weights-{epoch:02d}-{val_lwlrap:.4f}.hdf5\"\n",
        "#Model checkpoint callback\n",
        "checkpoint_1 = tf.keras.callbacks.ModelCheckpoint(filepath=filepath, monitor='val_lwlrap', save_best_only=True, verbose=1, mode='max', save_freq='epoch')"
      ],
      "execution_count": null,
      "outputs": [
        {
          "output_type": "stream",
          "text": [
            "The tensorboard extension is already loaded. To reload it, use:\n",
            "  %reload_ext tensorboard\n"
          ],
          "name": "stdout"
        }
      ]
    },
    {
      "cell_type": "code",
      "metadata": {
        "colab": {
          "base_uri": "https://localhost:8080/"
        },
        "id": "CawlNiU7uN_p",
        "outputId": "5b9f924a-3474-47bf-8a9f-5e7fc3850b3c"
      },
      "source": [
        "model_fit_1=model_1.fit(train_dataset,steps_per_epoch=num_steps,validation_data=val_dataset,epochs=65,callbacks=[earlystop,tensorboard_1,checkpoint_1])"
      ],
      "execution_count": null,
      "outputs": [
        {
          "output_type": "stream",
          "text": [
            "/usr/local/lib/python3.7/dist-packages/tensorflow/python/keras/utils/generic_utils.py:497: CustomMaskWarning: Custom mask layers require a config and must override get_config. When loading, the custom mask layer must be passed to the custom_objects argument.\n",
            "  category=CustomMaskWarning)\n"
          ],
          "name": "stderr"
        },
        {
          "output_type": "stream",
          "text": [
            "Epoch 1/65\n",
            "140/140 [==============================] - 157s 699ms/step - loss: 0.9282 - lwlrap: 0.1581 - val_loss: 0.6058 - val_lwlrap: 0.1567\n",
            "\n",
            "Epoch 00001: val_lwlrap improved from -inf to 0.15669, saving model to /content/drive/MyDrive/Appliedai files/Case_Study_2/CS2_modelling2/model_6/weights-01-0.1567.hdf5\n"
          ],
          "name": "stdout"
        },
        {
          "output_type": "stream",
          "text": [
            "/usr/local/lib/python3.7/dist-packages/tensorflow/python/keras/utils/generic_utils.py:497: CustomMaskWarning: Custom mask layers require a config and must override get_config. When loading, the custom mask layer must be passed to the custom_objects argument.\n",
            "  category=CustomMaskWarning)\n"
          ],
          "name": "stderr"
        },
        {
          "output_type": "stream",
          "text": [
            "Epoch 2/65\n",
            "140/140 [==============================] - 90s 640ms/step - loss: 0.7609 - lwlrap: 0.2008 - val_loss: 0.5692 - val_lwlrap: 0.1498\n",
            "\n",
            "Epoch 00002: val_lwlrap did not improve from 0.15669\n",
            "Epoch 3/65\n",
            "140/140 [==============================] - 90s 642ms/step - loss: 0.5901 - lwlrap: 0.2292 - val_loss: 0.6058 - val_lwlrap: 0.1783\n",
            "\n",
            "Epoch 00003: val_lwlrap improved from 0.15669 to 0.17829, saving model to /content/drive/MyDrive/Appliedai files/Case_Study_2/CS2_modelling2/model_6/weights-03-0.1783.hdf5\n"
          ],
          "name": "stdout"
        },
        {
          "output_type": "stream",
          "text": [
            "/usr/local/lib/python3.7/dist-packages/tensorflow/python/keras/utils/generic_utils.py:497: CustomMaskWarning: Custom mask layers require a config and must override get_config. When loading, the custom mask layer must be passed to the custom_objects argument.\n",
            "  category=CustomMaskWarning)\n"
          ],
          "name": "stderr"
        },
        {
          "output_type": "stream",
          "text": [
            "Epoch 4/65\n",
            "140/140 [==============================] - 91s 647ms/step - loss: 0.4683 - lwlrap: 0.2895 - val_loss: 0.6219 - val_lwlrap: 0.2096\n",
            "\n",
            "Epoch 00004: val_lwlrap improved from 0.17829 to 0.20958, saving model to /content/drive/MyDrive/Appliedai files/Case_Study_2/CS2_modelling2/model_6/weights-04-0.2096.hdf5\n"
          ],
          "name": "stdout"
        },
        {
          "output_type": "stream",
          "text": [
            "/usr/local/lib/python3.7/dist-packages/tensorflow/python/keras/utils/generic_utils.py:497: CustomMaskWarning: Custom mask layers require a config and must override get_config. When loading, the custom mask layer must be passed to the custom_objects argument.\n",
            "  category=CustomMaskWarning)\n"
          ],
          "name": "stderr"
        },
        {
          "output_type": "stream",
          "text": [
            "Epoch 5/65\n",
            "140/140 [==============================] - 90s 642ms/step - loss: 0.4212 - lwlrap: 0.3169 - val_loss: 1.0833 - val_lwlrap: 0.2523\n",
            "\n",
            "Epoch 00005: val_lwlrap improved from 0.20958 to 0.25235, saving model to /content/drive/MyDrive/Appliedai files/Case_Study_2/CS2_modelling2/model_6/weights-05-0.2523.hdf5\n"
          ],
          "name": "stdout"
        },
        {
          "output_type": "stream",
          "text": [
            "/usr/local/lib/python3.7/dist-packages/tensorflow/python/keras/utils/generic_utils.py:497: CustomMaskWarning: Custom mask layers require a config and must override get_config. When loading, the custom mask layer must be passed to the custom_objects argument.\n",
            "  category=CustomMaskWarning)\n"
          ],
          "name": "stderr"
        },
        {
          "output_type": "stream",
          "text": [
            "Epoch 6/65\n",
            "140/140 [==============================] - 90s 645ms/step - loss: 0.3768 - lwlrap: 0.3868 - val_loss: 0.6379 - val_lwlrap: 0.3623\n",
            "\n",
            "Epoch 00006: val_lwlrap improved from 0.25235 to 0.36232, saving model to /content/drive/MyDrive/Appliedai files/Case_Study_2/CS2_modelling2/model_6/weights-06-0.3623.hdf5\n"
          ],
          "name": "stdout"
        },
        {
          "output_type": "stream",
          "text": [
            "/usr/local/lib/python3.7/dist-packages/tensorflow/python/keras/utils/generic_utils.py:497: CustomMaskWarning: Custom mask layers require a config and must override get_config. When loading, the custom mask layer must be passed to the custom_objects argument.\n",
            "  category=CustomMaskWarning)\n"
          ],
          "name": "stderr"
        },
        {
          "output_type": "stream",
          "text": [
            "Epoch 7/65\n",
            "140/140 [==============================] - 90s 642ms/step - loss: 0.3688 - lwlrap: 0.4043 - val_loss: 0.6843 - val_lwlrap: 0.3487\n",
            "\n",
            "Epoch 00007: val_lwlrap did not improve from 0.36232\n",
            "Epoch 8/65\n",
            "140/140 [==============================] - 90s 646ms/step - loss: 0.3498 - lwlrap: 0.4269 - val_loss: 0.5193 - val_lwlrap: 0.3769\n",
            "\n",
            "Epoch 00008: val_lwlrap improved from 0.36232 to 0.37691, saving model to /content/drive/MyDrive/Appliedai files/Case_Study_2/CS2_modelling2/model_6/weights-08-0.3769.hdf5\n"
          ],
          "name": "stdout"
        },
        {
          "output_type": "stream",
          "text": [
            "/usr/local/lib/python3.7/dist-packages/tensorflow/python/keras/utils/generic_utils.py:497: CustomMaskWarning: Custom mask layers require a config and must override get_config. When loading, the custom mask layer must be passed to the custom_objects argument.\n",
            "  category=CustomMaskWarning)\n"
          ],
          "name": "stderr"
        },
        {
          "output_type": "stream",
          "text": [
            "Epoch 9/65\n",
            "140/140 [==============================] - 90s 643ms/step - loss: 0.3361 - lwlrap: 0.4735 - val_loss: 0.5355 - val_lwlrap: 0.4788\n",
            "\n",
            "Epoch 00009: val_lwlrap improved from 0.37691 to 0.47882, saving model to /content/drive/MyDrive/Appliedai files/Case_Study_2/CS2_modelling2/model_6/weights-09-0.4788.hdf5\n"
          ],
          "name": "stdout"
        },
        {
          "output_type": "stream",
          "text": [
            "/usr/local/lib/python3.7/dist-packages/tensorflow/python/keras/utils/generic_utils.py:497: CustomMaskWarning: Custom mask layers require a config and must override get_config. When loading, the custom mask layer must be passed to the custom_objects argument.\n",
            "  category=CustomMaskWarning)\n"
          ],
          "name": "stderr"
        },
        {
          "output_type": "stream",
          "text": [
            "Epoch 10/65\n",
            "140/140 [==============================] - 90s 644ms/step - loss: 0.3265 - lwlrap: 0.5078 - val_loss: 1.2286 - val_lwlrap: 0.2922\n",
            "\n",
            "Epoch 00010: val_lwlrap did not improve from 0.47882\n",
            "Epoch 11/65\n",
            "140/140 [==============================] - 90s 644ms/step - loss: 0.3304 - lwlrap: 0.4931 - val_loss: 0.6200 - val_lwlrap: 0.3690\n",
            "\n",
            "Epoch 00011: val_lwlrap did not improve from 0.47882\n",
            "Epoch 12/65\n",
            "140/140 [==============================] - 90s 644ms/step - loss: 0.3004 - lwlrap: 0.5426 - val_loss: 1.0183 - val_lwlrap: 0.5494\n",
            "\n",
            "Epoch 00012: val_lwlrap improved from 0.47882 to 0.54944, saving model to /content/drive/MyDrive/Appliedai files/Case_Study_2/CS2_modelling2/model_6/weights-12-0.5494.hdf5\n"
          ],
          "name": "stdout"
        },
        {
          "output_type": "stream",
          "text": [
            "/usr/local/lib/python3.7/dist-packages/tensorflow/python/keras/utils/generic_utils.py:497: CustomMaskWarning: Custom mask layers require a config and must override get_config. When loading, the custom mask layer must be passed to the custom_objects argument.\n",
            "  category=CustomMaskWarning)\n"
          ],
          "name": "stderr"
        },
        {
          "output_type": "stream",
          "text": [
            "Epoch 13/65\n",
            "140/140 [==============================] - 90s 645ms/step - loss: 0.2895 - lwlrap: 0.5726 - val_loss: 1.8834 - val_lwlrap: 0.3867\n",
            "\n",
            "Epoch 00013: val_lwlrap did not improve from 0.54944\n",
            "Epoch 14/65\n",
            "140/140 [==============================] - 90s 644ms/step - loss: 0.3078 - lwlrap: 0.5350 - val_loss: 1.3531 - val_lwlrap: 0.4004\n",
            "\n",
            "Epoch 00014: val_lwlrap did not improve from 0.54944\n",
            "Epoch 15/65\n",
            "140/140 [==============================] - 90s 644ms/step - loss: 0.3417 - lwlrap: 0.4904 - val_loss: 2.6133 - val_lwlrap: 0.2859\n",
            "\n",
            "Epoch 00015: val_lwlrap did not improve from 0.54944\n",
            "Epoch 16/65\n",
            "140/140 [==============================] - 90s 644ms/step - loss: 0.3810 - lwlrap: 0.4000 - val_loss: 1.4375 - val_lwlrap: 0.2439\n",
            "\n",
            "Epoch 00016: val_lwlrap did not improve from 0.54944\n",
            "Epoch 17/65\n",
            "140/140 [==============================] - 90s 644ms/step - loss: 0.3357 - lwlrap: 0.4565 - val_loss: 1.0915 - val_lwlrap: 0.4180\n",
            "\n",
            "Epoch 00017: val_lwlrap did not improve from 0.54944\n",
            "Epoch 18/65\n",
            "140/140 [==============================] - 90s 644ms/step - loss: 0.3255 - lwlrap: 0.4927 - val_loss: 0.4756 - val_lwlrap: 0.4164\n",
            "\n",
            "Epoch 00018: val_lwlrap did not improve from 0.54944\n",
            "Epoch 19/65\n",
            "140/140 [==============================] - 90s 643ms/step - loss: 0.3094 - lwlrap: 0.5122 - val_loss: 2.8358 - val_lwlrap: 0.3517\n",
            "\n",
            "Epoch 00019: val_lwlrap did not improve from 0.54944\n",
            "Epoch 20/65\n",
            "140/140 [==============================] - 90s 644ms/step - loss: 0.2881 - lwlrap: 0.5654 - val_loss: 0.4640 - val_lwlrap: 0.4967\n",
            "\n",
            "Epoch 00020: val_lwlrap did not improve from 0.54944\n",
            "Epoch 21/65\n",
            "140/140 [==============================] - 90s 645ms/step - loss: 0.2667 - lwlrap: 0.6091 - val_loss: 0.5131 - val_lwlrap: 0.5480\n",
            "\n",
            "Epoch 00021: val_lwlrap did not improve from 0.54944\n",
            "Epoch 22/65\n",
            "140/140 [==============================] - 91s 647ms/step - loss: 0.2774 - lwlrap: 0.5918 - val_loss: 0.4987 - val_lwlrap: 0.4534\n",
            "\n",
            "Epoch 00022: val_lwlrap did not improve from 0.54944\n",
            "Epoch 23/65\n",
            "140/140 [==============================] - 90s 646ms/step - loss: 0.2722 - lwlrap: 0.6054 - val_loss: 0.7985 - val_lwlrap: 0.4928\n",
            "\n",
            "Epoch 00023: val_lwlrap did not improve from 0.54944\n",
            "Epoch 24/65\n",
            "140/140 [==============================] - 90s 646ms/step - loss: 0.2593 - lwlrap: 0.6248 - val_loss: 0.4348 - val_lwlrap: 0.5502\n",
            "\n",
            "Epoch 00024: val_lwlrap improved from 0.54944 to 0.55016, saving model to /content/drive/MyDrive/Appliedai files/Case_Study_2/CS2_modelling2/model_6/weights-24-0.5502.hdf5\n"
          ],
          "name": "stdout"
        },
        {
          "output_type": "stream",
          "text": [
            "/usr/local/lib/python3.7/dist-packages/tensorflow/python/keras/utils/generic_utils.py:497: CustomMaskWarning: Custom mask layers require a config and must override get_config. When loading, the custom mask layer must be passed to the custom_objects argument.\n",
            "  category=CustomMaskWarning)\n"
          ],
          "name": "stderr"
        },
        {
          "output_type": "stream",
          "text": [
            "Epoch 25/65\n",
            "140/140 [==============================] - 90s 641ms/step - loss: 0.2299 - lwlrap: 0.6873 - val_loss: 0.3729 - val_lwlrap: 0.5790\n",
            "\n",
            "Epoch 00025: val_lwlrap improved from 0.55016 to 0.57896, saving model to /content/drive/MyDrive/Appliedai files/Case_Study_2/CS2_modelling2/model_6/weights-25-0.5790.hdf5\n"
          ],
          "name": "stdout"
        },
        {
          "output_type": "stream",
          "text": [
            "/usr/local/lib/python3.7/dist-packages/tensorflow/python/keras/utils/generic_utils.py:497: CustomMaskWarning: Custom mask layers require a config and must override get_config. When loading, the custom mask layer must be passed to the custom_objects argument.\n",
            "  category=CustomMaskWarning)\n"
          ],
          "name": "stderr"
        },
        {
          "output_type": "stream",
          "text": [
            "Epoch 26/65\n",
            "140/140 [==============================] - 90s 644ms/step - loss: 0.2132 - lwlrap: 0.7209 - val_loss: 0.4276 - val_lwlrap: 0.6329\n",
            "\n",
            "Epoch 00026: val_lwlrap improved from 0.57896 to 0.63293, saving model to /content/drive/MyDrive/Appliedai files/Case_Study_2/CS2_modelling2/model_6/weights-26-0.6329.hdf5\n"
          ],
          "name": "stdout"
        },
        {
          "output_type": "stream",
          "text": [
            "/usr/local/lib/python3.7/dist-packages/tensorflow/python/keras/utils/generic_utils.py:497: CustomMaskWarning: Custom mask layers require a config and must override get_config. When loading, the custom mask layer must be passed to the custom_objects argument.\n",
            "  category=CustomMaskWarning)\n"
          ],
          "name": "stderr"
        },
        {
          "output_type": "stream",
          "text": [
            "Epoch 27/65\n",
            "140/140 [==============================] - 90s 644ms/step - loss: 0.2337 - lwlrap: 0.6750 - val_loss: 0.4206 - val_lwlrap: 0.5336\n",
            "\n",
            "Epoch 00027: val_lwlrap did not improve from 0.63293\n",
            "Epoch 28/65\n",
            "140/140 [==============================] - 90s 645ms/step - loss: 0.2179 - lwlrap: 0.7073 - val_loss: 0.3111 - val_lwlrap: 0.5954\n",
            "\n",
            "Epoch 00028: val_lwlrap did not improve from 0.63293\n",
            "Epoch 29/65\n",
            "140/140 [==============================] - 90s 645ms/step - loss: 0.2089 - lwlrap: 0.7335 - val_loss: 0.6078 - val_lwlrap: 0.5167\n",
            "\n",
            "Epoch 00029: val_lwlrap did not improve from 0.63293\n",
            "Epoch 30/65\n",
            "140/140 [==============================] - 90s 644ms/step - loss: 0.2119 - lwlrap: 0.7266 - val_loss: 0.5160 - val_lwlrap: 0.6064\n",
            "\n",
            "Epoch 00030: val_lwlrap did not improve from 0.63293\n",
            "Epoch 31/65\n",
            "140/140 [==============================] - 90s 643ms/step - loss: 0.2131 - lwlrap: 0.7278 - val_loss: 1.2543 - val_lwlrap: 0.5040\n",
            "\n",
            "Epoch 00031: val_lwlrap did not improve from 0.63293\n",
            "Epoch 32/65\n",
            "140/140 [==============================] - 90s 645ms/step - loss: 0.2089 - lwlrap: 0.7243 - val_loss: 0.3726 - val_lwlrap: 0.5839\n",
            "\n",
            "Epoch 00032: val_lwlrap did not improve from 0.63293\n",
            "Epoch 33/65\n",
            "140/140 [==============================] - 90s 645ms/step - loss: 0.1964 - lwlrap: 0.7407 - val_loss: 0.5649 - val_lwlrap: 0.6246\n",
            "\n",
            "Epoch 00033: val_lwlrap did not improve from 0.63293\n",
            "Epoch 34/65\n",
            "140/140 [==============================] - 90s 644ms/step - loss: 0.1994 - lwlrap: 0.7519 - val_loss: 0.6565 - val_lwlrap: 0.6040\n",
            "\n",
            "Epoch 00034: val_lwlrap did not improve from 0.63293\n",
            "Epoch 35/65\n",
            "140/140 [==============================] - 90s 642ms/step - loss: 0.1828 - lwlrap: 0.7775 - val_loss: 0.5036 - val_lwlrap: 0.5625\n",
            "\n",
            "Epoch 00035: val_lwlrap did not improve from 0.63293\n",
            "Epoch 36/65\n",
            "140/140 [==============================] - 90s 643ms/step - loss: 0.1901 - lwlrap: 0.7664 - val_loss: 0.5396 - val_lwlrap: 0.6257\n",
            "\n",
            "Epoch 00036: val_lwlrap did not improve from 0.63293\n",
            "Epoch 37/65\n",
            "140/140 [==============================] - 90s 643ms/step - loss: 0.1855 - lwlrap: 0.7736 - val_loss: 0.5063 - val_lwlrap: 0.6092\n",
            "\n",
            "Epoch 00037: val_lwlrap did not improve from 0.63293\n",
            "Epoch 38/65\n",
            "140/140 [==============================] - 90s 643ms/step - loss: 0.1702 - lwlrap: 0.8049 - val_loss: 2.7564 - val_lwlrap: 0.4507\n",
            "\n",
            "Epoch 00038: val_lwlrap did not improve from 0.63293\n",
            "Epoch 39/65\n",
            "140/140 [==============================] - 90s 642ms/step - loss: 0.2191 - lwlrap: 0.7243 - val_loss: 0.6227 - val_lwlrap: 0.5629\n",
            "\n",
            "Epoch 00039: val_lwlrap did not improve from 0.63293\n",
            "Epoch 40/65\n",
            "140/140 [==============================] - 90s 643ms/step - loss: 0.1906 - lwlrap: 0.7621 - val_loss: 0.9064 - val_lwlrap: 0.4757\n",
            "\n",
            "Epoch 00040: val_lwlrap did not improve from 0.63293\n",
            "Epoch 41/65\n",
            "140/140 [==============================] - 90s 643ms/step - loss: 0.2269 - lwlrap: 0.7052 - val_loss: 0.4394 - val_lwlrap: 0.6224\n",
            "\n",
            "Epoch 00041: val_lwlrap did not improve from 0.63293\n"
          ],
          "name": "stdout"
        }
      ]
    },
    {
      "cell_type": "code",
      "metadata": {
        "id": "TknmPHwfPkim"
      },
      "source": [
        "%tensorboard --logdir /content/logs/scalars_1"
      ],
      "execution_count": null,
      "outputs": []
    },
    {
      "cell_type": "code",
      "metadata": {
        "colab": {
          "base_uri": "https://localhost:8080/",
          "height": 266
        },
        "id": "gRONxC5BpD82",
        "outputId": "185fcf18-8796-44ed-8c2b-26f39b909432"
      },
      "source": [
        "#Loss and metric plots\n",
        "\n",
        "from IPython.display import Image\n",
        "Image(filename='/content/drive/MyDrive/EffnetB2_loss.JPG')"
      ],
      "execution_count": null,
      "outputs": [
        {
          "output_type": "execute_result",
          "data": {
            "image/jpeg": "[encoded data removed]",
            "text/plain": [
              "<IPython.core.display.Image object>"
            ]
          },
          "metadata": {
            "tags": []
          },
          "execution_count": 1
        }
      ]
    },
    {
      "cell_type": "code",
      "metadata": {
        "colab": {
          "base_uri": "https://localhost:8080/",
          "height": 263
        },
        "id": "_TA2OiNGpZNh",
        "outputId": "b8204260-9a2b-4d96-a8a1-fca14c0036d6"
      },
      "source": [
        "Image(filename='/content/drive/MyDrive/EffnetB2_metric.JPG')"
      ],
      "execution_count": null,
      "outputs": [
        {
          "output_type": "execute_result",
          "data": {
            "image/jpeg": "[encoded data removed]",
            "text/plain": [
              "<IPython.core.display.Image object>"
            ]
          },
          "metadata": {
            "tags": []
          },
          "execution_count": 2
        }
      ]
    },
    {
      "cell_type": "markdown",
      "metadata": {
        "id": "i5juIkr256V_"
      },
      "source": [
        "## CNN and LSTM Models Ensemble"
      ]
    },
    {
      "cell_type": "markdown",
      "metadata": {
        "id": "TS6EaZ7HqFrz"
      },
      "source": [
        "Now we will make an ensemble of all the cnn models trained on spetrogram RGB image and lstm model trained on yamnet embeddings."
      ]
    },
    {
      "cell_type": "markdown",
      "metadata": {
        "id": "MuF5g4mk6tMM"
      },
      "source": [
        "## EfficientNetB3"
      ]
    },
    {
      "cell_type": "code",
      "metadata": {
        "colab": {
          "base_uri": "https://localhost:8080/"
        },
        "id": "VXonIgKe5-pv",
        "outputId": "dbc15575-de51-464e-ea64-9bae95961201"
      },
      "source": [
        "backbone_2 = tf.keras.applications.EfficientNetB3(include_top = False,input_shape = (img_ht,img_wt,3), weights=\"imagenet\")\n",
        "\n",
        "for layer in backbone_2.layers[:0]:\n",
        "    layer.trainable = False\n",
        "\n",
        "model_2 = tf.keras.Sequential([\n",
        "            backbone_2,\n",
        "            tf.keras.layers.GlobalAveragePooling2D(),\n",
        "            tf.keras.layers.Dense(128, activation='relu', kernel_initializer=tf.keras.initializers.he_normal()),\n",
        "            tf.keras.layers.Dropout(0.5),\n",
        "            #tf.keras.layers.BatchNormalization(),\n",
        "            tf.keras.layers.Dense(class_n,bias_initializer=tf.keras.initializers.Constant(-2.))])\n",
        "\n",
        "model_2.summary()"
      ],
      "execution_count": null,
      "outputs": [
        {
          "output_type": "stream",
          "text": [
            "Downloading data from https://storage.googleapis.com/keras-applications/efficientnetb3_notop.h5\n",
            "43941888/43941136 [==============================] - 0s 0us/step\n",
            "Model: \"sequential_1\"\n",
            "_________________________________________________________________\n",
            "Layer (type)                 Output Shape              Param #   \n",
            "=================================================================\n",
            "efficientnetb3 (Functional)  (None, 12, 24, 1536)      10783535  \n",
            "_________________________________________________________________\n",
            "global_average_pooling2d_1 ( (None, 1536)              0         \n",
            "_________________________________________________________________\n",
            "dense_2 (Dense)              (None, 128)               196736    \n",
            "_________________________________________________________________\n",
            "dropout_1 (Dropout)          (None, 128)               0         \n",
            "_________________________________________________________________\n",
            "dense_3 (Dense)              (None, 24)                3096      \n",
            "=================================================================\n",
            "Total params: 10,983,367\n",
            "Trainable params: 10,896,064\n",
            "Non-trainable params: 87,303\n",
            "_________________________________________________________________\n"
          ],
          "name": "stdout"
        }
      ]
    },
    {
      "cell_type": "markdown",
      "metadata": {
        "id": "PrljYWHJ6xbb"
      },
      "source": [
        "### DenseNet121"
      ]
    },
    {
      "cell_type": "code",
      "metadata": {
        "colab": {
          "base_uri": "https://localhost:8080/"
        },
        "id": "ngfmWkXz6qpl",
        "outputId": "aa906e08-6619-4557-d5ec-271ec7d3db63"
      },
      "source": [
        "backbone_3 = tf.keras.applications.DenseNet121(include_top = False,input_shape = (img_ht,img_wt,3), weights=\"imagenet\")\n",
        "\n",
        "for layer in backbone_3.layers[:0]:\n",
        "    layer.trainable = False\n",
        "\n",
        "model_3 = tf.keras.Sequential([\n",
        "            backbone_3,\n",
        "            tf.keras.layers.GlobalAveragePooling2D(),\n",
        "            tf.keras.layers.Dense(128, activation='relu', kernel_initializer=tf.keras.initializers.he_normal()),\n",
        "            tf.keras.layers.Dropout(0.3),\n",
        "            tf.keras.layers.BatchNormalization(),\n",
        "            tf.keras.layers.Dense(class_n,bias_initializer=tf.keras.initializers.Constant(-2.))])\n",
        "\n",
        "model_3.summary()"
      ],
      "execution_count": null,
      "outputs": [
        {
          "output_type": "stream",
          "text": [
            "Downloading data from https://storage.googleapis.com/tensorflow/keras-applications/densenet/densenet121_weights_tf_dim_ordering_tf_kernels_notop.h5\n",
            "29089792/29084464 [==============================] - 0s 0us/step\n",
            "Model: \"sequential_2\"\n",
            "_________________________________________________________________\n",
            "Layer (type)                 Output Shape              Param #   \n",
            "=================================================================\n",
            "densenet121 (Functional)     (None, 12, 24, 1024)      7037504   \n",
            "_________________________________________________________________\n",
            "global_average_pooling2d_2 ( (None, 1024)              0         \n",
            "_________________________________________________________________\n",
            "dense_4 (Dense)              (None, 128)               131200    \n",
            "_________________________________________________________________\n",
            "dropout_2 (Dropout)          (None, 128)               0         \n",
            "_________________________________________________________________\n",
            "batch_normalization_1 (Batch (None, 128)               512       \n",
            "_________________________________________________________________\n",
            "dense_5 (Dense)              (None, 24)                3096      \n",
            "=================================================================\n",
            "Total params: 7,172,312\n",
            "Trainable params: 7,088,408\n",
            "Non-trainable params: 83,904\n",
            "_________________________________________________________________\n"
          ],
          "name": "stdout"
        }
      ]
    },
    {
      "cell_type": "markdown",
      "metadata": {
        "id": "aBYz8nkkWXPC"
      },
      "source": [
        "###LSTM Model with yamnet embeddings\n"
      ]
    },
    {
      "cell_type": "code",
      "metadata": {
        "colab": {
          "base_uri": "https://localhost:8080/"
        },
        "id": "aSVz8svBWM4j",
        "outputId": "6ae1a32d-8a97-4258-e17e-9b5211424ea0"
      },
      "source": [
        "#Train a NN classifier with embedding features\n",
        "def lstm_model():\n",
        "\n",
        "  input_layer= tf.keras.layers.Input(shape=(124,1024), name='Input_layer')\n",
        "  lstm_layer= tf.keras.layers.LSTM(512,return_sequences=True)(inputs=input_layer)\n",
        "  td=tf.keras.layers.GlobalAveragePooling1D()(lstm_layer)\n",
        "  dense_2= tf.keras.layers.Dense(324, activation='relu',kernel_initializer='he_normal')(td)\n",
        "  drop_out1= tf.keras.layers.Dropout(0.7)(dense_2)\n",
        "  dense_3= tf.keras.layers.Dense(128, activation='relu',kernel_initializer='he_normal')(drop_out1)\n",
        "  drop_out2= tf.keras.layers.Dropout(0.5)(dense_3)\n",
        "  dense_4=tf.keras.layers.Dense(64, activation='relu',kernel_initializer='he_normal')(drop_out2)\n",
        "  dense_5=tf.keras.layers.Dense(32, activation='relu',kernel_initializer='he_normal')(dense_4)\n",
        "  output= tf.keras.layers.Dense(class_n, activation='sigmoid')(dense_5)\n",
        "  model= tf.keras.models.Model(inputs=[input_layer], outputs=[output])\n",
        "\n",
        "  opt=tf.keras.optimizers.Adam()  # Optimizer\n",
        "  model.compile(optimizer=opt, loss='binary_crossentropy',metrics=[lwlrap])\n",
        "\n",
        "  return model\n",
        "  \n",
        "model_4=lstm_model()\n",
        "model_4.summary()\n"
      ],
      "execution_count": null,
      "outputs": [
        {
          "output_type": "stream",
          "text": [
            "Model: \"model\"\n",
            "_________________________________________________________________\n",
            "Layer (type)                 Output Shape              Param #   \n",
            "=================================================================\n",
            "Input_layer (InputLayer)     [(None, 124, 1024)]       0         \n",
            "_________________________________________________________________\n",
            "lstm (LSTM)                  (None, 124, 512)          3147776   \n",
            "_________________________________________________________________\n",
            "global_average_pooling1d (Gl (None, 512)               0         \n",
            "_________________________________________________________________\n",
            "dense_6 (Dense)              (None, 324)               166212    \n",
            "_________________________________________________________________\n",
            "dropout_3 (Dropout)          (None, 324)               0         \n",
            "_________________________________________________________________\n",
            "dense_7 (Dense)              (None, 128)               41600     \n",
            "_________________________________________________________________\n",
            "dropout_4 (Dropout)          (None, 128)               0         \n",
            "_________________________________________________________________\n",
            "dense_8 (Dense)              (None, 64)                8256      \n",
            "_________________________________________________________________\n",
            "dense_9 (Dense)              (None, 32)                2080      \n",
            "_________________________________________________________________\n",
            "dense_10 (Dense)             (None, 24)                792       \n",
            "=================================================================\n",
            "Total params: 3,366,716\n",
            "Trainable params: 3,366,716\n",
            "Non-trainable params: 0\n",
            "_________________________________________________________________\n"
          ],
          "name": "stdout"
        }
      ]
    },
    {
      "cell_type": "markdown",
      "metadata": {
        "id": "fDz5TWxdIxe6"
      },
      "source": [
        "### Saving all the architectures in json files to use later"
      ]
    },
    {
      "cell_type": "code",
      "metadata": {
        "colab": {
          "base_uri": "https://localhost:8080/"
        },
        "id": "-dcbZ0Q8IwzV",
        "outputId": "ad7442f5-a4ff-4080-a174-62abd86cf5b2"
      },
      "source": [
        "#Serialize models to JSON\n",
        "\n",
        "model_1_json=model_1.to_json()\n",
        "model_2_json=model_2.to_json()\n",
        "model_3_json=model_3.to_json()\n",
        "model_4_json=model_4.to_json()\n",
        "\n",
        "with open ('/content/drive/MyDrive/Appliedai files/Case_Study_2/model_1.json','w') as json_file_1:\n",
        "  json_file_1.write(model_1_json)\n",
        "\n",
        "with open ('/content/drive/MyDrive/Appliedai files/Case_Study_2/model_2.json','w') as json_file_2:\n",
        "  json_file_2.write(model_2_json)\n",
        "\n",
        "with open ('/content/drive/MyDrive/Appliedai files/Case_Study_2/model_3.json','w') as json_file_3:\n",
        "  json_file_3.write(model_3_json)\n",
        "\n",
        "with open ('/content/drive/MyDrive/Appliedai files/Case_Study_2/model_4.json','w') as json_file_4:\n",
        "  json_file_4.write(model_4_json)"
      ],
      "execution_count": null,
      "outputs": [
        {
          "output_type": "stream",
          "text": [
            "/usr/local/lib/python3.7/dist-packages/tensorflow/python/keras/utils/generic_utils.py:497: CustomMaskWarning: Custom mask layers require a config and must override get_config. When loading, the custom mask layer must be passed to the custom_objects argument.\n",
            "  category=CustomMaskWarning)\n"
          ],
          "name": "stderr"
        }
      ]
    },
    {
      "cell_type": "markdown",
      "metadata": {
        "id": "c2aMZa-W68b0"
      },
      "source": [
        "### Loading the weights"
      ]
    },
    {
      "cell_type": "code",
      "metadata": {
        "id": "uGR3IyOK6_2k"
      },
      "source": [
        "model_1.load_weights('/content/drive/MyDrive/Appliedai files/Case_Study_2/CS2_modelling2/model_6/weights-26-0.6329.hdf5')"
      ],
      "execution_count": null,
      "outputs": []
    },
    {
      "cell_type": "code",
      "metadata": {
        "id": "tgO11Uvg7R6C"
      },
      "source": [
        "model_2.load_weights('/content/drive/MyDrive/Appliedai files/Case_Study_2/CS2_modelling2/model_1/21-0.9206-0.7486.h5')"
      ],
      "execution_count": null,
      "outputs": []
    },
    {
      "cell_type": "code",
      "metadata": {
        "id": "1EO1oan97qMI"
      },
      "source": [
        "model_3.load_weights('/content/drive/MyDrive/Appliedai files/Case_Study_2/CS2_modelling2/model_2/32-0.8647-0.7383.h5')"
      ],
      "execution_count": null,
      "outputs": []
    },
    {
      "cell_type": "code",
      "metadata": {
        "id": "PN6aDcaSW6dw"
      },
      "source": [
        "model_4.load_weights('/content/drive/MyDrive/Appliedai files/Case_Study_2/model_1/weights-69-0.6032.hdf5')"
      ],
      "execution_count": null,
      "outputs": []
    },
    {
      "cell_type": "code",
      "metadata": {
        "id": "lKolhJ_DSg3G"
      },
      "source": [
        "yamnet_model_handle= 'https://tfhub.dev/google/yamnet/1'\n",
        "yamnet_model=hub.load(yamnet_model_handle)"
      ],
      "execution_count": null,
      "outputs": []
    },
    {
      "cell_type": "code",
      "metadata": {
        "id": "o5LVF2W0Sg-Y"
      },
      "source": [
        "# Utility functions for loading audio files and making sure the sample rate is correct.\n",
        "def load_flac_16k_mono(filename):\n",
        "    \"\"\" Load a WAV file, convert it to a float tensor, resample to 16 kHz single-channel audio. \"\"\"\n",
        "    #audio,sr=librosa.load(filename,mono=True,sr=16000)\n",
        "    audio = tfio.IOTensor.graph(tf.int16).from_audio(filename)\n",
        "    audio_slice = audio.to_tensor()\n",
        "\n",
        "    # remove last dimension\n",
        "    audio_tensor = tf.squeeze(audio_slice, axis=[-1])\n",
        "    audio_tensor = tf.cast(audio_tensor, tf.float32)\n",
        "    sample_rate = tf.cast(48000, dtype=tf.int64)\n",
        "    audio_tensor = tfio.audio.resample(audio_tensor, rate_in=sample_rate, rate_out=16000)\n",
        "\n",
        "    scores, embeddings, spectrogram = yamnet_model(audio_tensor)\n",
        "    return embeddings\n",
        "  "
      ],
      "execution_count": null,
      "outputs": []
    },
    {
      "cell_type": "code",
      "metadata": {
        "id": "JIGqJd6pShHl"
      },
      "source": [
        "def preprocess_embed_train(file):\n",
        "    \"\"\"Preprocessing train files\"\"\"\n",
        "    # Calling the preprocess_img function with data_type as train\n",
        "    \n",
        "    audio = load_flac_16k_mono('/content/drive/MyDrive/Appliedai files/Case_Study_2/train/'+file['recording_id']+'.flac')\n",
        "    \n",
        "    # Computing the one hot encoded values of species_id\n",
        "    label = tf.one_hot(file['species_id'], CLASS_N)\n",
        "    # Returning the spectrogram and one hot encoded species_id\n",
        "    return audio,label\n",
        "\n",
        "\n",
        "def preprocess_embed_val(file):\n",
        "    \"\"\"Preprocessing validation files\"\"\"\n",
        "    # Calling the preprocess_img function with data_type as validation\n",
        "    audio = load_flac_16k_mono('/content/drive/MyDrive/Appliedai files/Case_Study_2/train/'+file['recording_id']+'.flac')\n",
        "\n",
        "    # Computing the one hot encoded values of species_id\n",
        "    label = tf.one_hot(file['species_id'], CLASS_N)\n",
        "    # Returning the spectrogram and one hot encoded species_id\n",
        "    return audio, label\n",
        "\n",
        "    \n",
        "def preprocess_embed_test(file):\n",
        "    \"\"\"Preprocessing test files\"\"\"\n",
        "    # Calling the preprocess_img function with data_type as test\n",
        "    audio = load_flac_16k_mono('/content/drive/MyDrive/Appliedai files/Case_Study_2/test/'+file)\n",
        "\n",
        "    file_name = tf.strings.split(file,'.')[0]\n",
        "    # Returning only the spectrogram image for test dataset \n",
        "    return audio,file_name\n"
      ],
      "execution_count": null,
      "outputs": []
    },
    {
      "cell_type": "code",
      "metadata": {
        "colab": {
          "base_uri": "https://localhost:8080/"
        },
        "id": "zKBmNfeAShMX",
        "outputId": "6327c40a-7c70-44df-a645-ad2b9c3df12f"
      },
      "source": [
        "#Dataset for LSTM yamnet model\n",
        "# Creating a dataset from train data and mapping the preprocess train function \n",
        "files_ds_tr = tf.data.Dataset.from_tensor_slices(dict(X_train))\n",
        "train_embed_dataset = files_ds_tr.map(preprocess_embed_train).cache().prefetch(-1)\n",
        "\n",
        "# Creating a dataset from train data and mapping the preprocess train function \n",
        "files_ds_val = tf.data.Dataset.from_tensor_slices(dict(X_cv))\n",
        "val_embed_dataset = files_ds_val.map(preprocess_embed_val).cache().prefetch(-1)\n",
        "\n",
        "files_ds = tf.data.Dataset.from_tensor_slices(test)\n",
        "test_embed_dataset = files_ds.map(preprocess_embed_test).cache().prefetch(-1)"
      ],
      "execution_count": null,
      "outputs": [
        {
          "output_type": "stream",
          "text": [
            "WARNING:tensorflow:From /usr/local/lib/python3.7/dist-packages/tensorflow/python/ops/parallel_for/pfor.py:2382: calling gather (from tensorflow.python.ops.array_ops) with validate_indices is deprecated and will be removed in a future version.\n",
            "Instructions for updating:\n",
            "The `validate_indices` argument has no effect. Indices are always validated on CPU and never validated on GPU.\n"
          ],
          "name": "stdout"
        },
        {
          "output_type": "stream",
          "text": [
            "WARNING:tensorflow:From /usr/local/lib/python3.7/dist-packages/tensorflow/python/ops/parallel_for/pfor.py:2382: calling gather (from tensorflow.python.ops.array_ops) with validate_indices is deprecated and will be removed in a future version.\n",
            "Instructions for updating:\n",
            "The `validate_indices` argument has no effect. Indices are always validated on CPU and never validated on GPU.\n"
          ],
          "name": "stderr"
        },
        {
          "output_type": "stream",
          "text": [
            "WARNING:tensorflow:Using a while_loop for converting IO>AudioResample\n"
          ],
          "name": "stdout"
        },
        {
          "output_type": "stream",
          "text": [
            "WARNING:tensorflow:Using a while_loop for converting IO>AudioResample\n"
          ],
          "name": "stderr"
        },
        {
          "output_type": "stream",
          "text": [
            "WARNING:tensorflow:Using a while_loop for converting IO>AudioResample\n"
          ],
          "name": "stdout"
        },
        {
          "output_type": "stream",
          "text": [
            "WARNING:tensorflow:Using a while_loop for converting IO>AudioResample\n"
          ],
          "name": "stderr"
        },
        {
          "output_type": "stream",
          "text": [
            "WARNING:tensorflow:Using a while_loop for converting IO>AudioResample\n"
          ],
          "name": "stdout"
        },
        {
          "output_type": "stream",
          "text": [
            "WARNING:tensorflow:Using a while_loop for converting IO>AudioResample\n"
          ],
          "name": "stderr"
        }
      ]
    },
    {
      "cell_type": "code",
      "metadata": {
        "id": "BfJFlTRY_rqG"
      },
      "source": [
        "#dataset for cnn models\n",
        "\n",
        "# Creating a dataset from train data and mapping the preprocess train function \n",
        "files_ds = tf.data.Dataset.from_tensor_slices(dict(X_train))\n",
        "train_dataset = files_ds.map(preprocess_train).cache().prefetch(-1)\n",
        "\n",
        "# Creating a dataset from train data and mapping the preprocess train function \n",
        "files_ds = tf.data.Dataset.from_tensor_slices(dict(X_cv))\n",
        "val_dataset = files_ds.map(preprocess_val).cache().prefetch(-1)\n",
        "\n",
        "files_ds = tf.data.Dataset.from_tensor_slices(test)\n",
        "test_dataset = files_ds.map(preprocess_test).cache().prefetch(-1)"
      ],
      "execution_count": null,
      "outputs": []
    },
    {
      "cell_type": "code",
      "metadata": {
        "id": "OI9tGXJ-AXRW"
      },
      "source": [
        "cnn_models=[model_1,model_2,model_3]"
      ],
      "execution_count": null,
      "outputs": []
    },
    {
      "cell_type": "code",
      "metadata": {
        "id": "XDyK3k_rQxil"
      },
      "source": [
        "from tqdm import tqdm\n",
        "def ensemble_predictions(cnn_models,cnn_dataset,rnn_model,rnn_dataset):\n",
        "\n",
        "  cnn_final_pred=[]\n",
        "  rnn_final_pred=[]\n",
        "  final_pred=[]\n",
        "  cnn_id = []\n",
        "  rnn_id= []\n",
        "\n",
        "  for image,file in tqdm(cnn_dataset.batch(1)):\n",
        "    cnn_id.append(file)\n",
        "    y_pred = []\n",
        "    for model in cnn_models:\n",
        "      #taking the sigmoid of predictions\n",
        "      pred = tf.sigmoid(model(image)).numpy()\n",
        "      y_pred.append(pred)\n",
        "    y_pred=np.asarray(y_pred)\n",
        "    #Taking the mean of predictions\n",
        "    mean_pred=np.mean(y_pred,axis=0)\n",
        "    cnn_final_pred.append(mean_pred)\n",
        "  #predictions from lstm model\n",
        "  for embed,file in tqdm(rnn_dataset.batch(1)):\n",
        "    rnn_id.append(file)\n",
        "    rnn_pred=rnn_model.predict(embed)\n",
        "    rnn_final_pred.append(rnn_pred)\n",
        "  \n",
        "\n",
        "  #combining CNN and lstm predictions and taking mean\n",
        "  for i,j in zip(cnn_final_pred,rnn_final_pred):\n",
        "    pred_list=[]\n",
        "    pred_list.append(i)\n",
        "    pred_list.append(j)\n",
        "    pred_list=np.asarray(pred_list)\n",
        "    mean_final_pred=np.mean(pred_list,axis=0)\n",
        "    final_pred.append(mean_final_pred)\n",
        "\n",
        "  return final_pred,cnn_id,rnn_id"
      ],
      "execution_count": null,
      "outputs": []
    },
    {
      "cell_type": "code",
      "metadata": {
        "colab": {
          "base_uri": "https://localhost:8080/"
        },
        "id": "rAKk0fQbdTal",
        "outputId": "548fa8d8-2554-4ba1-c918-2233a388f8b5"
      },
      "source": [
        "ensemble_train_pred,cnn_label,rnn_label=ensemble_predictions(cnn_models,train_dataset,model_4,train_embed_dataset)"
      ],
      "execution_count": null,
      "outputs": [
        {
          "output_type": "stream",
          "text": [
            "100%|██████████| 1094/1094 [26:35<00:00,  1.46s/it]\n",
            "100%|██████████| 1094/1094 [00:46<00:00, 23.47it/s]\n"
          ],
          "name": "stderr"
        }
      ]
    },
    {
      "cell_type": "code",
      "metadata": {
        "colab": {
          "base_uri": "https://localhost:8080/"
        },
        "id": "uyy2aDavC-Pk",
        "outputId": "2bed73b7-4e75-4a57-8e48-b2b9d7737d5f"
      },
      "source": [
        "ensemble_val_pred,cnn_val_label,rnn_val_label=ensemble_predictions(cnn_models,val_dataset,model_4,val_embed_dataset)"
      ],
      "execution_count": null,
      "outputs": [
        {
          "output_type": "stream",
          "text": [
            "100%|██████████| 122/122 [00:05<00:00, 22.53it/s]\n"
          ],
          "name": "stderr"
        }
      ]
    },
    {
      "cell_type": "markdown",
      "metadata": {
        "id": "B1ri79etrhZ6"
      },
      "source": [
        "####Predictions on train data"
      ]
    },
    {
      "cell_type": "code",
      "metadata": {
        "colab": {
          "base_uri": "https://localhost:8080/"
        },
        "id": "ZjrACiAwv-zk",
        "outputId": "14ecce23-4a86-4224-fd1a-30e106e4ecf5"
      },
      "source": [
        "train_pred=np.asarray(ensemble_train_pred,dtype='float16')\n",
        "train_pred=train_pred.reshape(1094,24)\n",
        "\n",
        "y_train=[]\n",
        "for i in rnn_label:\n",
        "  k=i.numpy()\n",
        "  y_train.append(k)\n",
        "\n",
        "y_train=np.asarray(y_train)\n",
        "y_train=y_train.reshape(1094,24)\n",
        "\n",
        "train_lwlrap=lwlrap(y_train,train_pred)\n",
        "\n",
        "print(train_lwlrap)"
      ],
      "execution_count": null,
      "outputs": [
        {
          "output_type": "stream",
          "text": [
            "tf.Tensor(0.9219465482719601, shape=(), dtype=float64)\n"
          ],
          "name": "stdout"
        }
      ]
    },
    {
      "cell_type": "markdown",
      "metadata": {
        "id": "67vAWyCxrmE0"
      },
      "source": [
        "#### Predictions on Validation data"
      ]
    },
    {
      "cell_type": "code",
      "metadata": {
        "colab": {
          "base_uri": "https://localhost:8080/"
        },
        "id": "6VK3h9wwwz-n",
        "outputId": "3e13bc89-3e46-430c-bf5a-a78bbe798ab8"
      },
      "source": [
        "val_pred=np.asarray(ensemble_val_pred,dtype='float16')\n",
        "val_pred=val_pred.reshape(122,24)\n",
        "\n",
        "y_val=[]\n",
        "for a in rnn_val_label:\n",
        "  b=a.numpy()\n",
        "  y_val.append(a)\n",
        "\n",
        "y_val=np.asarray(y_val)\n",
        "y_val=y_val.reshape(122,24)\n",
        "\n",
        "val_lwlrap=lwlrap(y_val,val_pred)\n",
        "\n",
        "print(val_lwlrap)"
      ],
      "execution_count": null,
      "outputs": [
        {
          "output_type": "stream",
          "text": [
            "tf.Tensor(0.9387978142076502, shape=(), dtype=float64)\n"
          ],
          "name": "stdout"
        }
      ]
    },
    {
      "cell_type": "markdown",
      "metadata": {
        "id": "MwVfPVZ1rquE"
      },
      "source": [
        "#### Predictions on test set"
      ]
    },
    {
      "cell_type": "code",
      "metadata": {
        "colab": {
          "base_uri": "https://localhost:8080/"
        },
        "id": "4b3K_YNvDARS",
        "outputId": "5e151559-7766-453d-d477-d09f6b4befd9"
      },
      "source": [
        "ensemble_test_pred,test_cnn_id,test_rnn_id=ensemble_predictions(cnn_models,test_dataset,model_4,test_embed_dataset)"
      ],
      "execution_count": null,
      "outputs": [
        {
          "output_type": "stream",
          "text": [
            "100%|██████████| 1992/1992 [1:16:29<00:00,  2.30s/it]\n",
            "100%|██████████| 1992/1992 [26:04<00:00,  1.27it/s]\n"
          ],
          "name": "stderr"
        }
      ]
    },
    {
      "cell_type": "code",
      "metadata": {
        "id": "7_80-V7qREO_"
      },
      "source": [
        "test_pred=np.asarray(ensemble_test_pred,dtype='float16')\n",
        "test_pred=test_pred.reshape(1992,24)"
      ],
      "execution_count": null,
      "outputs": []
    },
    {
      "cell_type": "code",
      "metadata": {
        "id": "-xAsK7o6REWT"
      },
      "source": [
        "column_names=[]\n",
        "\n",
        "for i in range(24):\n",
        "  column_names.append('s'+str(i))\n",
        "\n",
        "df_index=[i for i in range(1992)]\n",
        "\n",
        "test_recording_id=[]\n",
        "for i in test_cnn_id:\n",
        "  k=i.numpy()\n",
        "  k=str(k)\n",
        "  test_recording_id.append(k[3:-2])\n",
        "\n",
        "\n",
        "results_df=pd.DataFrame(data=test_pred,index=df_index,columns=column_names)\n",
        "\n",
        "results_df['recording_id']=test_recording_id"
      ],
      "execution_count": null,
      "outputs": []
    },
    {
      "cell_type": "code",
      "metadata": {
        "colab": {
          "base_uri": "https://localhost:8080/",
          "height": 224
        },
        "id": "cA4iJDcoREdq",
        "outputId": "cccdc99b-4cb9-40f1-be6e-c8581c6aeb56"
      },
      "source": [
        "new_results=results_df.reindex(columns=['recording_id','s0','s1','s2','s3','s4','s5','s6','s7','s8','s9','s10','s11','s12','s13','s14','s15','s16','s17','s18',\n",
        "                            's19','s20','s21','s22','s23'])\n",
        "\n",
        "new_results.head()"
      ],
      "execution_count": null,
      "outputs": [
        {
          "output_type": "execute_result",
          "data": {
            "text/html": [
              "<div>\n",
              "<style scoped>\n",
              "    .dataframe tbody tr th:only-of-type {\n",
              "        vertical-align: middle;\n",
              "    }\n",
              "\n",
              "    .dataframe tbody tr th {\n",
              "        vertical-align: top;\n",
              "    }\n",
              "\n",
              "    .dataframe thead th {\n",
              "        text-align: right;\n",
              "    }\n",
              "</style>\n",
              "<table border=\"1\" class=\"dataframe\">\n",
              "  <thead>\n",
              "    <tr style=\"text-align: right;\">\n",
              "      <th></th>\n",
              "      <th>recording_id</th>\n",
              "      <th>s0</th>\n",
              "      <th>s1</th>\n",
              "      <th>s2</th>\n",
              "      <th>s3</th>\n",
              "      <th>s4</th>\n",
              "      <th>s5</th>\n",
              "      <th>s6</th>\n",
              "      <th>s7</th>\n",
              "      <th>s8</th>\n",
              "      <th>s9</th>\n",
              "      <th>s10</th>\n",
              "      <th>s11</th>\n",
              "      <th>s12</th>\n",
              "      <th>s13</th>\n",
              "      <th>s14</th>\n",
              "      <th>s15</th>\n",
              "      <th>s16</th>\n",
              "      <th>s17</th>\n",
              "      <th>s18</th>\n",
              "      <th>s19</th>\n",
              "      <th>s20</th>\n",
              "      <th>s21</th>\n",
              "      <th>s22</th>\n",
              "      <th>s23</th>\n",
              "    </tr>\n",
              "  </thead>\n",
              "  <tbody>\n",
              "    <tr>\n",
              "      <th>0</th>\n",
              "      <td>7c712b45f</td>\n",
              "      <td>0.020950</td>\n",
              "      <td>0.019745</td>\n",
              "      <td>0.045044</td>\n",
              "      <td>0.130615</td>\n",
              "      <td>0.019867</td>\n",
              "      <td>0.059845</td>\n",
              "      <td>0.041656</td>\n",
              "      <td>0.121643</td>\n",
              "      <td>0.022766</td>\n",
              "      <td>0.059692</td>\n",
              "      <td>0.103210</td>\n",
              "      <td>0.051575</td>\n",
              "      <td>0.022217</td>\n",
              "      <td>0.008789</td>\n",
              "      <td>0.017929</td>\n",
              "      <td>0.061035</td>\n",
              "      <td>0.029968</td>\n",
              "      <td>0.184326</td>\n",
              "      <td>0.016876</td>\n",
              "      <td>0.160034</td>\n",
              "      <td>0.111267</td>\n",
              "      <td>0.036407</td>\n",
              "      <td>0.110413</td>\n",
              "      <td>0.205078</td>\n",
              "    </tr>\n",
              "    <tr>\n",
              "      <th>1</th>\n",
              "      <td>7d064b789</td>\n",
              "      <td>0.580566</td>\n",
              "      <td>0.017273</td>\n",
              "      <td>0.022385</td>\n",
              "      <td>0.037415</td>\n",
              "      <td>0.024078</td>\n",
              "      <td>0.022461</td>\n",
              "      <td>0.015388</td>\n",
              "      <td>0.013199</td>\n",
              "      <td>0.033112</td>\n",
              "      <td>0.018295</td>\n",
              "      <td>0.010406</td>\n",
              "      <td>0.018234</td>\n",
              "      <td>0.540527</td>\n",
              "      <td>0.024139</td>\n",
              "      <td>0.010475</td>\n",
              "      <td>0.018387</td>\n",
              "      <td>0.021347</td>\n",
              "      <td>0.026672</td>\n",
              "      <td>0.070618</td>\n",
              "      <td>0.014130</td>\n",
              "      <td>0.009529</td>\n",
              "      <td>0.015404</td>\n",
              "      <td>0.012573</td>\n",
              "      <td>0.009727</td>\n",
              "    </tr>\n",
              "    <tr>\n",
              "      <th>2</th>\n",
              "      <td>7cfaed5a0</td>\n",
              "      <td>0.368896</td>\n",
              "      <td>0.040527</td>\n",
              "      <td>0.021652</td>\n",
              "      <td>0.076477</td>\n",
              "      <td>0.055756</td>\n",
              "      <td>0.042267</td>\n",
              "      <td>0.025284</td>\n",
              "      <td>0.031799</td>\n",
              "      <td>0.068542</td>\n",
              "      <td>0.048004</td>\n",
              "      <td>0.021408</td>\n",
              "      <td>0.026871</td>\n",
              "      <td>0.628418</td>\n",
              "      <td>0.022491</td>\n",
              "      <td>0.026764</td>\n",
              "      <td>0.026840</td>\n",
              "      <td>0.032928</td>\n",
              "      <td>0.031311</td>\n",
              "      <td>0.160645</td>\n",
              "      <td>0.015839</td>\n",
              "      <td>0.030930</td>\n",
              "      <td>0.034943</td>\n",
              "      <td>0.035187</td>\n",
              "      <td>0.030182</td>\n",
              "    </tr>\n",
              "    <tr>\n",
              "      <th>3</th>\n",
              "      <td>7d188d367</td>\n",
              "      <td>0.156860</td>\n",
              "      <td>0.022995</td>\n",
              "      <td>0.026627</td>\n",
              "      <td>0.084473</td>\n",
              "      <td>0.093323</td>\n",
              "      <td>0.034973</td>\n",
              "      <td>0.028503</td>\n",
              "      <td>0.034332</td>\n",
              "      <td>0.062744</td>\n",
              "      <td>0.053802</td>\n",
              "      <td>0.011795</td>\n",
              "      <td>0.044769</td>\n",
              "      <td>0.358643</td>\n",
              "      <td>0.021683</td>\n",
              "      <td>0.021347</td>\n",
              "      <td>0.021225</td>\n",
              "      <td>0.018967</td>\n",
              "      <td>0.018768</td>\n",
              "      <td>0.356934</td>\n",
              "      <td>0.020782</td>\n",
              "      <td>0.032928</td>\n",
              "      <td>0.036591</td>\n",
              "      <td>0.022888</td>\n",
              "      <td>0.025757</td>\n",
              "    </tr>\n",
              "    <tr>\n",
              "      <th>4</th>\n",
              "      <td>7df2eb324</td>\n",
              "      <td>0.011520</td>\n",
              "      <td>0.016373</td>\n",
              "      <td>0.016357</td>\n",
              "      <td>0.059418</td>\n",
              "      <td>0.021469</td>\n",
              "      <td>0.028305</td>\n",
              "      <td>0.141235</td>\n",
              "      <td>0.031281</td>\n",
              "      <td>0.023315</td>\n",
              "      <td>0.178833</td>\n",
              "      <td>0.045929</td>\n",
              "      <td>0.046661</td>\n",
              "      <td>0.033295</td>\n",
              "      <td>0.010803</td>\n",
              "      <td>0.015556</td>\n",
              "      <td>0.024429</td>\n",
              "      <td>0.021820</td>\n",
              "      <td>0.314453</td>\n",
              "      <td>0.014832</td>\n",
              "      <td>0.049652</td>\n",
              "      <td>0.057404</td>\n",
              "      <td>0.029495</td>\n",
              "      <td>0.025238</td>\n",
              "      <td>0.390625</td>\n",
              "    </tr>\n",
              "  </tbody>\n",
              "</table>\n",
              "</div>"
            ],
            "text/plain": [
              "  recording_id        s0        s1  ...       s21       s22       s23\n",
              "0    7c712b45f  0.020950  0.019745  ...  0.036407  0.110413  0.205078\n",
              "1    7d064b789  0.580566  0.017273  ...  0.015404  0.012573  0.009727\n",
              "2    7cfaed5a0  0.368896  0.040527  ...  0.034943  0.035187  0.030182\n",
              "3    7d188d367  0.156860  0.022995  ...  0.036591  0.022888  0.025757\n",
              "4    7df2eb324  0.011520  0.016373  ...  0.029495  0.025238  0.390625\n",
              "\n",
              "[5 rows x 25 columns]"
            ]
          },
          "metadata": {
            "tags": []
          },
          "execution_count": 35
        }
      ]
    },
    {
      "cell_type": "code",
      "metadata": {
        "id": "K3lyO1RHRsgD"
      },
      "source": [
        "new_results.to_csv('/content/drive/MyDrive/Appliedai files/Case_Study_2/submission_8.csv',index=False)"
      ],
      "execution_count": null,
      "outputs": []
    },
    {
      "cell_type": "markdown",
      "metadata": {
        "id": "Tr1-1FlrCyDZ"
      },
      "source": [
        "Converting models to TFLite format for deployement"
      ]
    },
    {
      "cell_type": "code",
      "metadata": {
        "colab": {
          "base_uri": "https://localhost:8080/"
        },
        "id": "Ms9reUs_Bx8t",
        "outputId": "cb5e56b7-6d4a-4b6b-86fe-c4110cc25372"
      },
      "source": [
        "converter = tf.lite.TFLiteConverter.from_keras_model(model_1)\n",
        "converter.optimizations = [tf.lite.Optimize.DEFAULT]\n",
        "tflite_quant_model_1 = converter.convert()\n",
        "open ('/content/drive/MyDrive/Appliedai files/Case_Study_2/model_1.tflite' , 'wb') .write(tflite_quant_model_1)"
      ],
      "execution_count": null,
      "outputs": [
        {
          "output_type": "stream",
          "text": [
            "/usr/local/lib/python3.7/dist-packages/tensorflow/python/keras/utils/generic_utils.py:497: CustomMaskWarning: Custom mask layers require a config and must override get_config. When loading, the custom mask layer must be passed to the custom_objects argument.\n",
            "  category=CustomMaskWarning)\n"
          ],
          "name": "stderr"
        },
        {
          "output_type": "stream",
          "text": [
            "INFO:tensorflow:Assets written to: /tmp/tmp4apmohk7/assets\n"
          ],
          "name": "stdout"
        },
        {
          "output_type": "execute_result",
          "data": {
            "text/plain": [
              "9332848"
            ]
          },
          "metadata": {
            "tags": []
          },
          "execution_count": 19
        }
      ]
    },
    {
      "cell_type": "code",
      "metadata": {
        "colab": {
          "base_uri": "https://localhost:8080/"
        },
        "id": "ZsuNy2tsCOYl",
        "outputId": "18ce7a75-7eaa-4c35-f50c-c652769d4210"
      },
      "source": [
        "converter = tf.lite.TFLiteConverter.from_keras_model(model_2)\n",
        "converter.optimizations = [tf.lite.Optimize.DEFAULT]\n",
        "tflite_quant_model_2 = converter.convert()\n",
        "open ('/content/drive/MyDrive/Appliedai files/Case_Study_2/model_2.tflite' , 'wb') .write(tflite_quant_model_2)\n",
        "\n",
        "converter = tf.lite.TFLiteConverter.from_keras_model(model_3)\n",
        "converter.optimizations = [tf.lite.Optimize.DEFAULT]\n",
        "tflite_quant_model_3 = converter.convert()\n",
        "open ('/content/drive/MyDrive/Appliedai files/Case_Study_2/model_3.tflite' , 'wb') .write(tflite_quant_model_3)\n",
        "\n",
        "converter = tf.lite.TFLiteConverter.from_keras_model(model_4)\n",
        "converter.optimizations = [tf.lite.Optimize.DEFAULT]\n",
        "tflite_quant_model_4 = converter.convert()\n",
        "open ('/content/drive/MyDrive/Appliedai files/Case_Study_2/model_4.tflite' , 'wb') .write(tflite_quant_model_4)"
      ],
      "execution_count": null,
      "outputs": [
        {
          "output_type": "stream",
          "text": [
            "WARNING:tensorflow:Compiled the loaded model, but the compiled metrics have yet to be built. `model.compile_metrics` will be empty until you train or evaluate the model.\n"
          ],
          "name": "stdout"
        },
        {
          "output_type": "stream",
          "text": [
            "WARNING:tensorflow:Compiled the loaded model, but the compiled metrics have yet to be built. `model.compile_metrics` will be empty until you train or evaluate the model.\n",
            "/usr/local/lib/python3.7/dist-packages/tensorflow/python/keras/utils/generic_utils.py:497: CustomMaskWarning: Custom mask layers require a config and must override get_config. When loading, the custom mask layer must be passed to the custom_objects argument.\n",
            "  category=CustomMaskWarning)\n"
          ],
          "name": "stderr"
        },
        {
          "output_type": "stream",
          "text": [
            "INFO:tensorflow:Assets written to: /tmp/tmpyoqm510a/assets\n"
          ],
          "name": "stdout"
        },
        {
          "output_type": "stream",
          "text": [
            "INFO:tensorflow:Assets written to: /tmp/tmpyoqm510a/assets\n"
          ],
          "name": "stderr"
        },
        {
          "output_type": "stream",
          "text": [
            "WARNING:tensorflow:Compiled the loaded model, but the compiled metrics have yet to be built. `model.compile_metrics` will be empty until you train or evaluate the model.\n"
          ],
          "name": "stdout"
        },
        {
          "output_type": "stream",
          "text": [
            "WARNING:tensorflow:Compiled the loaded model, but the compiled metrics have yet to be built. `model.compile_metrics` will be empty until you train or evaluate the model.\n"
          ],
          "name": "stderr"
        },
        {
          "output_type": "stream",
          "text": [
            "INFO:tensorflow:Assets written to: /tmp/tmplgg5fm1y/assets\n"
          ],
          "name": "stdout"
        },
        {
          "output_type": "stream",
          "text": [
            "INFO:tensorflow:Assets written to: /tmp/tmplgg5fm1y/assets\n",
            "WARNING:absl:Function `_wrapped_model` contains input name(s) Input_layer with unsupported characters which will be renamed to input_layer in the SavedModel.\n",
            "WARNING:absl:Found untraced functions such as lstm_cell_layer_call_fn, lstm_cell_layer_call_and_return_conditional_losses, lstm_cell_layer_call_fn, lstm_cell_layer_call_and_return_conditional_losses, lstm_cell_layer_call_and_return_conditional_losses while saving (showing 5 of 5). These functions will not be directly callable after loading.\n"
          ],
          "name": "stderr"
        },
        {
          "output_type": "stream",
          "text": [
            "INFO:tensorflow:Assets written to: /tmp/tmpap4fzgyl/assets\n"
          ],
          "name": "stdout"
        },
        {
          "output_type": "stream",
          "text": [
            "INFO:tensorflow:Assets written to: /tmp/tmpap4fzgyl/assets\n"
          ],
          "name": "stderr"
        },
        {
          "output_type": "execute_result",
          "data": {
            "text/plain": [
              "3651088"
            ]
          },
          "metadata": {
            "tags": []
          },
          "execution_count": 20
        }
      ]
    },
    {
      "cell_type": "markdown",
      "metadata": {
        "id": "RjywGf3Z2Akv"
      },
      "source": [
        "## Results"
      ]
    },
    {
      "cell_type": "code",
      "metadata": {
        "colab": {
          "base_uri": "https://localhost:8080/"
        },
        "id": "XB4qsMP7fAVd",
        "outputId": "7646089e-e402-4f86-dee9-94793f462e4b"
      },
      "source": [
        "!pip install prettytable"
      ],
      "execution_count": 1,
      "outputs": [
        {
          "output_type": "stream",
          "text": [
            "Requirement already satisfied: prettytable in /usr/local/lib/python3.7/dist-packages (2.1.0)\n",
            "Requirement already satisfied: importlib-metadata in /usr/local/lib/python3.7/dist-packages (from prettytable) (4.6.1)\n",
            "Requirement already satisfied: wcwidth in /usr/local/lib/python3.7/dist-packages (from prettytable) (0.2.5)\n",
            "Requirement already satisfied: zipp>=0.5 in /usr/local/lib/python3.7/dist-packages (from importlib-metadata->prettytable) (3.5.0)\n",
            "Requirement already satisfied: typing-extensions>=3.6.4 in /usr/local/lib/python3.7/dist-packages (from importlib-metadata->prettytable) (3.7.4.3)\n"
          ],
          "name": "stdout"
        }
      ]
    },
    {
      "cell_type": "code",
      "metadata": {
        "colab": {
          "base_uri": "https://localhost:8080/"
        },
        "id": "MqgH1lwZfH_F",
        "outputId": "cac2fbc9-b893-460a-b9e1-0343673cc6ae"
      },
      "source": [
        "from prettytable import PrettyTable\n",
        "summary = PrettyTable()\n",
        "summary.field_names = [\"Model\", \"lrap\"]\n",
        "summary.add_row([\"EfficientNetB2\",0.632])\n",
        "summary.add_row([\"EfficientNetB3\", 0.748])\n",
        "summary.add_row([\"DenseNet121\", 0.738])\n",
        "summary.add_row([\"LSTM\", 0.603])\n",
        "summary.add_row([\"Ensemble Model\", 0.938])\n",
        "print(summary)"
      ],
      "execution_count": 2,
      "outputs": [
        {
          "output_type": "stream",
          "text": [
            "+----------------+-------+\n",
            "|     Model      |  lrap |\n",
            "+----------------+-------+\n",
            "| EfficientNetB2 | 0.632 |\n",
            "| EfficientNetB3 | 0.748 |\n",
            "|  DenseNet121   | 0.738 |\n",
            "|      LSTM      | 0.603 |\n",
            "| Ensemble Model | 0.938 |\n",
            "+----------------+-------+\n"
          ],
          "name": "stdout"
        }
      ]
    }
  ]
}