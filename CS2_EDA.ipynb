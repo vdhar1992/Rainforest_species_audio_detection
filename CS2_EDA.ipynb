{
  "nbformat": 4,
  "nbformat_minor": 0,
  "metadata": {
    "colab": {
      "name": "CS2_EDA.ipynb",
      "provenance": [],
      "collapsed_sections": []
    },
    "kernelspec": {
      "name": "python3",
      "display_name": "Python 3"
    },
    "language_info": {
      "name": "python"
    }
  },
  "cells": [
    {
      "cell_type": "markdown",
      "metadata": {
        "id": "za3jW-ZE1Uuk"
      },
      "source": [
        "# Rainforest Connection Species Audio Detection\n"
      ]
    },
    {
      "cell_type": "markdown",
      "metadata": {
        "id": "WXaoC4NR_cy6"
      },
      "source": [
        "## 1. Business Problem\n",
        "\n",
        "Most of the times sound is much more recognisable and accessible than looking around a massive forest to see certain species and take appropriate action. In this case study, given the audio recordings from tropical rainforest, we are going to detect and classify the sounds of certain species. Not every human is an expert in classifying the sound of various species just by hearing. That is where automatic speech detection is required which can help people in the forests or in certain danger areas to take appropriate actions when required. This can also help in detecting certain human impact on eco system and also to move towards environmental conservation."
      ]
    },
    {
      "cell_type": "markdown",
      "metadata": {
        "id": "KeS5EFdJAqel"
      },
      "source": [
        "## 2. Mapping Business problem to ML problem\n",
        "\n",
        "Not everybody is an expert to hear a sound and detect which species the sound belong to. Here the use of machine learning comes into picture. We can create ML/DL models with limited but acoustically complex data to automate the detection of species to help everyone who is not expert in this field. We will map this problem as a multi-label classification problem. Here we have to detect the probability of the presence of each species in the given audio file."
      ]
    },
    {
      "cell_type": "markdown",
      "metadata": {
        "id": "ml3O0R9rCL85"
      },
      "source": [
        "## 3. Constraints\n",
        "\n",
        "\n",
        "\n",
        "*   The latency should be low in this case. We should be able to predict the sound as soon as it is heard so that appropriate action should be taken.\n",
        "*   Our solution should be able to run on simple devices and must not need high computational power.\n",
        "\n",
        "\n",
        "*   False negatives should be as low as possible. If there is dangerous species in proximity and the model is not able to detect it then it may cost lives.\n",
        "\n",
        "\n",
        "\n",
        "\n",
        "\n",
        "\n"
      ]
    },
    {
      "cell_type": "markdown",
      "metadata": {
        "id": "DNaaZXtBDHEy"
      },
      "source": [
        "## 4. Data\n",
        "\n",
        "**train_tp.csv** - training data of true positive species labels, with \n",
        "corresponding time localization\n",
        "\n",
        "**train_fp.csv** - training data of false positives species labels, with corresponding time localization\n",
        "\n",
        "**train/** - the training audio files\n",
        "\n",
        "**test/** - the test audio files; the task is to predict the species found in each audio file\n",
        "\n",
        "**tfrecords/{train,test}**- competition data in the TFRecord format, which includes recording_id, audio_wav (encoded in 16-bit PCM format), and label_info (for train only), which provides a,-delimited string of the columns below (minus recording_id), where multiple labels for a recording_id are ;-delimited."
      ]
    },
    {
      "cell_type": "markdown",
      "metadata": {
        "id": "BzJbV9Q1Dpol"
      },
      "source": [
        "## 5. EDA"
      ]
    },
    {
      "cell_type": "markdown",
      "metadata": {
        "id": "DtfoywfvD7I6"
      },
      "source": [
        "We will use train_tp.csv for EDA purpose."
      ]
    },
    {
      "cell_type": "code",
      "metadata": {
        "id": "JU-8vHRCEtVw"
      },
      "source": [
        "import pandas as pd\n",
        "import numpy as np\n",
        "import matplotlib.pyplot as plt\n",
        "import seaborn as sns\n",
        "import librosa"
      ],
      "execution_count": 25,
      "outputs": []
    },
    {
      "cell_type": "code",
      "metadata": {
        "colab": {
          "base_uri": "https://localhost:8080/",
          "height": 204
        },
        "id": "OFM1rL0KDteW",
        "outputId": "df01cc31-4f78-4062-c6e3-ef4cd37f33e4"
      },
      "source": [
        "data_tp= pd.read_csv('/content/drive/MyDrive/Appliedai files/Case_Study_2/train_tp.csv')\n",
        "data_tp.head()"
      ],
      "execution_count": 26,
      "outputs": [
        {
          "output_type": "execute_result",
          "data": {
            "text/html": [
              "<div>\n",
              "<style scoped>\n",
              "    .dataframe tbody tr th:only-of-type {\n",
              "        vertical-align: middle;\n",
              "    }\n",
              "\n",
              "    .dataframe tbody tr th {\n",
              "        vertical-align: top;\n",
              "    }\n",
              "\n",
              "    .dataframe thead th {\n",
              "        text-align: right;\n",
              "    }\n",
              "</style>\n",
              "<table border=\"1\" class=\"dataframe\">\n",
              "  <thead>\n",
              "    <tr style=\"text-align: right;\">\n",
              "      <th></th>\n",
              "      <th>recording_id</th>\n",
              "      <th>species_id</th>\n",
              "      <th>songtype_id</th>\n",
              "      <th>t_min</th>\n",
              "      <th>f_min</th>\n",
              "      <th>t_max</th>\n",
              "      <th>f_max</th>\n",
              "    </tr>\n",
              "  </thead>\n",
              "  <tbody>\n",
              "    <tr>\n",
              "      <th>0</th>\n",
              "      <td>003bec244</td>\n",
              "      <td>14</td>\n",
              "      <td>1</td>\n",
              "      <td>44.5440</td>\n",
              "      <td>2531.250</td>\n",
              "      <td>45.1307</td>\n",
              "      <td>5531.25</td>\n",
              "    </tr>\n",
              "    <tr>\n",
              "      <th>1</th>\n",
              "      <td>006ab765f</td>\n",
              "      <td>23</td>\n",
              "      <td>1</td>\n",
              "      <td>39.9615</td>\n",
              "      <td>7235.160</td>\n",
              "      <td>46.0452</td>\n",
              "      <td>11283.40</td>\n",
              "    </tr>\n",
              "    <tr>\n",
              "      <th>2</th>\n",
              "      <td>007f87ba2</td>\n",
              "      <td>12</td>\n",
              "      <td>1</td>\n",
              "      <td>39.1360</td>\n",
              "      <td>562.500</td>\n",
              "      <td>42.2720</td>\n",
              "      <td>3281.25</td>\n",
              "    </tr>\n",
              "    <tr>\n",
              "      <th>3</th>\n",
              "      <td>0099c367b</td>\n",
              "      <td>17</td>\n",
              "      <td>4</td>\n",
              "      <td>51.4206</td>\n",
              "      <td>1464.260</td>\n",
              "      <td>55.1996</td>\n",
              "      <td>4565.04</td>\n",
              "    </tr>\n",
              "    <tr>\n",
              "      <th>4</th>\n",
              "      <td>009b760e6</td>\n",
              "      <td>10</td>\n",
              "      <td>1</td>\n",
              "      <td>50.0854</td>\n",
              "      <td>947.461</td>\n",
              "      <td>52.5293</td>\n",
              "      <td>10852.70</td>\n",
              "    </tr>\n",
              "  </tbody>\n",
              "</table>\n",
              "</div>"
            ],
            "text/plain": [
              "  recording_id  species_id  songtype_id    t_min     f_min    t_max     f_max\n",
              "0    003bec244          14            1  44.5440  2531.250  45.1307   5531.25\n",
              "1    006ab765f          23            1  39.9615  7235.160  46.0452  11283.40\n",
              "2    007f87ba2          12            1  39.1360   562.500  42.2720   3281.25\n",
              "3    0099c367b          17            4  51.4206  1464.260  55.1996   4565.04\n",
              "4    009b760e6          10            1  50.0854   947.461  52.5293  10852.70"
            ]
          },
          "metadata": {
            "tags": []
          },
          "execution_count": 26
        }
      ]
    },
    {
      "cell_type": "code",
      "metadata": {
        "colab": {
          "base_uri": "https://localhost:8080/",
          "height": 297
        },
        "id": "9bnF24-oFSa0",
        "outputId": "8178e107-131c-4f1b-ab7c-e89d938bf0be"
      },
      "source": [
        "#Basic statistics and info\n",
        "data_tp.describe()"
      ],
      "execution_count": 3,
      "outputs": [
        {
          "output_type": "execute_result",
          "data": {
            "text/html": [
              "<div>\n",
              "<style scoped>\n",
              "    .dataframe tbody tr th:only-of-type {\n",
              "        vertical-align: middle;\n",
              "    }\n",
              "\n",
              "    .dataframe tbody tr th {\n",
              "        vertical-align: top;\n",
              "    }\n",
              "\n",
              "    .dataframe thead th {\n",
              "        text-align: right;\n",
              "    }\n",
              "</style>\n",
              "<table border=\"1\" class=\"dataframe\">\n",
              "  <thead>\n",
              "    <tr style=\"text-align: right;\">\n",
              "      <th></th>\n",
              "      <th>species_id</th>\n",
              "      <th>songtype_id</th>\n",
              "      <th>t_min</th>\n",
              "      <th>f_min</th>\n",
              "      <th>t_max</th>\n",
              "      <th>f_max</th>\n",
              "    </tr>\n",
              "  </thead>\n",
              "  <tbody>\n",
              "    <tr>\n",
              "      <th>count</th>\n",
              "      <td>1216.000000</td>\n",
              "      <td>1216.000000</td>\n",
              "      <td>1216.000000</td>\n",
              "      <td>1216.000000</td>\n",
              "      <td>1216.000000</td>\n",
              "      <td>1216.000000</td>\n",
              "    </tr>\n",
              "    <tr>\n",
              "      <th>mean</th>\n",
              "      <td>12.023849</td>\n",
              "      <td>1.315789</td>\n",
              "      <td>29.388748</td>\n",
              "      <td>2907.110280</td>\n",
              "      <td>31.925867</td>\n",
              "      <td>6043.157895</td>\n",
              "    </tr>\n",
              "    <tr>\n",
              "      <th>std</th>\n",
              "      <td>7.101400</td>\n",
              "      <td>0.921055</td>\n",
              "      <td>17.488898</td>\n",
              "      <td>2528.642227</td>\n",
              "      <td>17.553856</td>\n",
              "      <td>3468.795425</td>\n",
              "    </tr>\n",
              "    <tr>\n",
              "      <th>min</th>\n",
              "      <td>0.000000</td>\n",
              "      <td>1.000000</td>\n",
              "      <td>0.026700</td>\n",
              "      <td>93.750000</td>\n",
              "      <td>0.666700</td>\n",
              "      <td>843.750000</td>\n",
              "    </tr>\n",
              "    <tr>\n",
              "      <th>25%</th>\n",
              "      <td>6.000000</td>\n",
              "      <td>1.000000</td>\n",
              "      <td>14.164000</td>\n",
              "      <td>947.461000</td>\n",
              "      <td>16.158150</td>\n",
              "      <td>3937.500000</td>\n",
              "    </tr>\n",
              "    <tr>\n",
              "      <th>50%</th>\n",
              "      <td>12.000000</td>\n",
              "      <td>1.000000</td>\n",
              "      <td>29.514650</td>\n",
              "      <td>2343.750000</td>\n",
              "      <td>31.869350</td>\n",
              "      <td>5062.500000</td>\n",
              "    </tr>\n",
              "    <tr>\n",
              "      <th>75%</th>\n",
              "      <td>18.000000</td>\n",
              "      <td>1.000000</td>\n",
              "      <td>45.257175</td>\n",
              "      <td>3843.750000</td>\n",
              "      <td>48.046800</td>\n",
              "      <td>8250.000000</td>\n",
              "    </tr>\n",
              "    <tr>\n",
              "      <th>max</th>\n",
              "      <td>23.000000</td>\n",
              "      <td>4.000000</td>\n",
              "      <td>59.253300</td>\n",
              "      <td>10687.500000</td>\n",
              "      <td>59.994700</td>\n",
              "      <td>13687.500000</td>\n",
              "    </tr>\n",
              "  </tbody>\n",
              "</table>\n",
              "</div>"
            ],
            "text/plain": [
              "        species_id  songtype_id  ...        t_max         f_max\n",
              "count  1216.000000  1216.000000  ...  1216.000000   1216.000000\n",
              "mean     12.023849     1.315789  ...    31.925867   6043.157895\n",
              "std       7.101400     0.921055  ...    17.553856   3468.795425\n",
              "min       0.000000     1.000000  ...     0.666700    843.750000\n",
              "25%       6.000000     1.000000  ...    16.158150   3937.500000\n",
              "50%      12.000000     1.000000  ...    31.869350   5062.500000\n",
              "75%      18.000000     1.000000  ...    48.046800   8250.000000\n",
              "max      23.000000     4.000000  ...    59.994700  13687.500000\n",
              "\n",
              "[8 rows x 6 columns]"
            ]
          },
          "metadata": {
            "tags": []
          },
          "execution_count": 3
        }
      ]
    },
    {
      "cell_type": "code",
      "metadata": {
        "colab": {
          "base_uri": "https://localhost:8080/"
        },
        "id": "PkhgpgKEFcdN",
        "outputId": "776b20e7-563c-4861-9958-9ce4fea97fee"
      },
      "source": [
        "data_tp.info()"
      ],
      "execution_count": 4,
      "outputs": [
        {
          "output_type": "stream",
          "text": [
            "<class 'pandas.core.frame.DataFrame'>\n",
            "RangeIndex: 1216 entries, 0 to 1215\n",
            "Data columns (total 7 columns):\n",
            " #   Column        Non-Null Count  Dtype  \n",
            "---  ------        --------------  -----  \n",
            " 0   recording_id  1216 non-null   object \n",
            " 1   species_id    1216 non-null   int64  \n",
            " 2   songtype_id   1216 non-null   int64  \n",
            " 3   t_min         1216 non-null   float64\n",
            " 4   f_min         1216 non-null   float64\n",
            " 5   t_max         1216 non-null   float64\n",
            " 6   f_max         1216 non-null   float64\n",
            "dtypes: float64(4), int64(2), object(1)\n",
            "memory usage: 66.6+ KB\n"
          ],
          "name": "stdout"
        }
      ]
    },
    {
      "cell_type": "code",
      "metadata": {
        "colab": {
          "base_uri": "https://localhost:8080/"
        },
        "id": "YQikHJ0xHKvE",
        "outputId": "be21bbe5-5707-42c4-dafa-e260a8585cb1"
      },
      "source": [
        "data_tp.isna().sum()"
      ],
      "execution_count": 8,
      "outputs": [
        {
          "output_type": "execute_result",
          "data": {
            "text/plain": [
              "recording_id    0\n",
              "species_id      0\n",
              "songtype_id     0\n",
              "t_min           0\n",
              "f_min           0\n",
              "t_max           0\n",
              "f_max           0\n",
              "dtype: int64"
            ]
          },
          "metadata": {
            "tags": []
          },
          "execution_count": 8
        }
      ]
    },
    {
      "cell_type": "markdown",
      "metadata": {
        "id": "WDc1S6_LFgk0"
      },
      "source": [
        "We dont have null or missing values in our data."
      ]
    },
    {
      "cell_type": "markdown",
      "metadata": {
        "id": "40MrAmEQFljj"
      },
      "source": [
        "Lets see how many unique class labels we have"
      ]
    },
    {
      "cell_type": "code",
      "metadata": {
        "colab": {
          "base_uri": "https://localhost:8080/"
        },
        "id": "AZeB1_BVFkjb",
        "outputId": "dba77f4f-198e-430f-fc25-76bd271e0d51"
      },
      "source": [
        "data_tp['species_id'].unique()"
      ],
      "execution_count": 5,
      "outputs": [
        {
          "output_type": "execute_result",
          "data": {
            "text/plain": [
              "array([14, 23, 12, 17, 10,  8,  0, 18, 15,  1,  6,  7, 11, 13, 16, 19,  3,\n",
              "        2,  4, 22,  9, 21, 20,  5])"
            ]
          },
          "metadata": {
            "tags": []
          },
          "execution_count": 5
        }
      ]
    },
    {
      "cell_type": "markdown",
      "metadata": {
        "id": "tAr5dxvOFuYI"
      },
      "source": [
        "we have 24 unique class labels in our data. Now we will check the distribution of class labels. This will give us an idea if our data is balanced or imbalanced."
      ]
    },
    {
      "cell_type": "code",
      "metadata": {
        "colab": {
          "base_uri": "https://localhost:8080/",
          "height": 622
        },
        "id": "Jqk0AU8oF8Lh",
        "outputId": "ab9ceae4-bbff-4f42-8d13-ecf78f627c54"
      },
      "source": [
        "plt.figure(figsize=(10,10))\n",
        "sns.countplot(x='species_id', data=data_tp)\n",
        "plt.title('Distribution of class labels')\n",
        "plt.show()"
      ],
      "execution_count": 11,
      "outputs": [
        {
          "output_type": "display_data",
          "data": {
            "image/png": "[encoded data removed]",
            "text/plain": [
              "<Figure size 720x720 with 1 Axes>"
            ]
          },
          "metadata": {
            "tags": [],
            "needs_background": "light"
          }
        }
      ]
    },
    {
      "cell_type": "markdown",
      "metadata": {
        "id": "1m2pmgHgGT5d"
      },
      "source": [
        "We have maximum readings for class 23 and minimum readings for class 10. Rest of the classes are pretty much equally distributed."
      ]
    },
    {
      "cell_type": "markdown",
      "metadata": {
        "id": "4V5qkAk2HhOM"
      },
      "source": [
        "We need to now check how many species each of the files contain at an average."
      ]
    },
    {
      "cell_type": "code",
      "metadata": {
        "colab": {
          "base_uri": "https://localhost:8080/",
          "height": 584
        },
        "id": "D21a8PKGHoE7",
        "outputId": "413fe530-1d3e-46eb-b40a-2a79aecd79ad"
      },
      "source": [
        "plt.figure(figsize=(8,8))\n",
        "sns.countplot(data_tp['recording_id'].value_counts())\n",
        "plt.xlabel('No. of species per recording')\n",
        "plt.ylabel('File count')\n",
        "plt.title(\"Number of species each recording contains\")"
      ],
      "execution_count": 12,
      "outputs": [
        {
          "output_type": "stream",
          "text": [
            "/usr/local/lib/python3.7/dist-packages/seaborn/_decorators.py:43: FutureWarning: Pass the following variable as a keyword arg: x. From version 0.12, the only valid positional argument will be `data`, and passing other arguments without an explicit keyword will result in an error or misinterpretation.\n",
            "  FutureWarning\n"
          ],
          "name": "stderr"
        },
        {
          "output_type": "execute_result",
          "data": {
            "text/plain": [
              "Text(0.5, 1.0, 'Number of species each recording contains')"
            ]
          },
          "metadata": {
            "tags": []
          },
          "execution_count": 12
        },
        {
          "output_type": "display_data",
          "data": {
            "image/png": "[encoded data removed]",
            "text/plain": [
              "<Figure size 576x576 with 1 Axes>"
            ]
          },
          "metadata": {
            "tags": [],
            "needs_background": "light"
          }
        }
      ]
    },
    {
      "cell_type": "markdown",
      "metadata": {
        "id": "lNZEtYsGIkbV"
      },
      "source": [
        "Most of the recordings in our train data for true positive labels have only 1 species."
      ]
    },
    {
      "cell_type": "markdown",
      "metadata": {
        "id": "oyqSgvr7OSJ0"
      },
      "source": [
        "**Distribution of t_min and t_max-**\n"
      ]
    },
    {
      "cell_type": "code",
      "metadata": {
        "colab": {
          "base_uri": "https://localhost:8080/",
          "height": 514
        },
        "id": "iwhH0wR4OysB",
        "outputId": "f4f0f86e-0262-4eb2-93a8-746ce3516fa3"
      },
      "source": [
        "plt.figure(figsize=(8,8))\n",
        "sns.histplot(data=data_tp, x='t_min', stat='frequency')\n",
        "plt.title('Distribution of start second of the annotated signal')\n",
        "plt.show()"
      ],
      "execution_count": 15,
      "outputs": [
        {
          "output_type": "display_data",
          "data": {
            "image/png": "[encoded data removed]",
            "text/plain": [
              "<Figure size 576x576 with 1 Axes>"
            ]
          },
          "metadata": {
            "tags": [],
            "needs_background": "light"
          }
        }
      ]
    },
    {
      "cell_type": "code",
      "metadata": {
        "colab": {
          "base_uri": "https://localhost:8080/",
          "height": 513
        },
        "id": "QcmNthipRncL",
        "outputId": "c34a4649-2065-4211-af27-fdfee29895e3"
      },
      "source": [
        "plt.figure(figsize=(8,8))\n",
        "sns.histplot(data=data_tp, x='t_max', stat='frequency')\n",
        "plt.title('Distribution of end second of the annotated signal')\n",
        "plt.show()"
      ],
      "execution_count": 16,
      "outputs": [
        {
          "output_type": "display_data",
          "data": {
            "image/png": "[encoded data removed]",
            "text/plain": [
              "<Figure size 576x576 with 1 Axes>"
            ]
          },
          "metadata": {
            "tags": [],
            "needs_background": "light"
          }
        }
      ]
    },
    {
      "cell_type": "markdown",
      "metadata": {
        "id": "e6a3lcmkRy_y"
      },
      "source": [
        "\n",
        "Observations:\n",
        "\n",
        "1. For most of the recordings the start of the annotated signal lies  in 50th-55th second followed by 0th-5th second.\n",
        "\n",
        "2. For most of the recordings the end of the annotated signal lies  in 55th-60th second followed by 50th-55th second.\n",
        "\n",
        "3. We can also infer from these plots that our recordings have a average duration of 1 minute.\n",
        "\n"
      ]
    },
    {
      "cell_type": "markdown",
      "metadata": {
        "id": "LqqoC3S0WMQb"
      },
      "source": [
        "**Distribution of f_min and f_max-**"
      ]
    },
    {
      "cell_type": "code",
      "metadata": {
        "colab": {
          "base_uri": "https://localhost:8080/",
          "height": 514
        },
        "id": "6WoQFlbzS4-p",
        "outputId": "0f0ebd4e-93fe-4ee2-dd86-0cbf8acf1ef6"
      },
      "source": [
        "plt.figure(figsize=(8,8))\n",
        "sns.histplot(data=data_tp, x='f_min')\n",
        "plt.title('Distribution of lower frequency of the annotated signal')\n",
        "plt.show()"
      ],
      "execution_count": 19,
      "outputs": [
        {
          "output_type": "display_data",
          "data": {
            "image/png": "[encoded data removed]",
            "text/plain": [
              "<Figure size 576x576 with 1 Axes>"
            ]
          },
          "metadata": {
            "tags": [],
            "needs_background": "light"
          }
        }
      ]
    },
    {
      "cell_type": "code",
      "metadata": {
        "colab": {
          "base_uri": "https://localhost:8080/",
          "height": 514
        },
        "id": "QyrsGsfvW-Vv",
        "outputId": "5a0a7ef2-fc63-4f6a-9059-eb2b12336c73"
      },
      "source": [
        "plt.figure(figsize=(8,8))\n",
        "sns.histplot(data=data_tp, x='f_max', stat='frequency')\n",
        "plt.title('Distribution of start second of the annotated signal')\n",
        "plt.show()"
      ],
      "execution_count": 21,
      "outputs": [
        {
          "output_type": "display_data",
          "data": {
            "image/png": "[encoded data removed]",
            "text/plain": [
              "<Figure size 576x576 with 1 Axes>"
            ]
          },
          "metadata": {
            "tags": [],
            "needs_background": "light"
          }
        }
      ]
    },
    {
      "cell_type": "markdown",
      "metadata": {
        "id": "LjweBpnNXJDc"
      },
      "source": [
        "Observations:\n",
        "\n",
        "1. For most of the recordings the lower frequency of the annotated signal lies between 0-800 Hz.\n",
        "\n",
        "2. For most of the recordings the upper frequncy of the annotated signal lies between 4.2 KHz to 5KHz."
      ]
    },
    {
      "cell_type": "markdown",
      "metadata": {
        "id": "hXCAPCLFYbEn"
      },
      "source": [
        "We will check the relation between class labels and lower and upper frequencies."
      ]
    },
    {
      "cell_type": "code",
      "metadata": {
        "colab": {
          "base_uri": "https://localhost:8080/",
          "height": 639
        },
        "id": "4zOSx4mqYzLy",
        "outputId": "af7d9bcd-d370-4f18-ab26-4169eb8b0b68"
      },
      "source": [
        "plt.figure(figsize=(10,10))\n",
        "sns.violinplot(x='species_id', y='f_min', data=data_tp, palette='pastel')\n",
        "plt.title('Violin Plot of f_min wrt class labels')"
      ],
      "execution_count": 23,
      "outputs": [
        {
          "output_type": "execute_result",
          "data": {
            "text/plain": [
              "Text(0.5, 1.0, 'Violin Plot of f_min wrt class labels')"
            ]
          },
          "metadata": {
            "tags": []
          },
          "execution_count": 23
        },
        {
          "output_type": "display_data",
          "data": {
            "image/png": "[encoded data removed]",
            "text/plain": [
              "<Figure size 720x720 with 1 Axes>"
            ]
          },
          "metadata": {
            "tags": [],
            "needs_background": "light"
          }
        }
      ]
    },
    {
      "cell_type": "markdown",
      "metadata": {
        "id": "hYd17plGadvG"
      },
      "source": [
        "Observations-\n",
        "\n",
        "\n",
        "\n",
        "*  Few classes can be separated on the basis of the f_min values.\n",
        "*  If f_min lies between 5.5 KHz to 5.8 KHz then the species belong to class 0.\n",
        "\n",
        "*  If f_min is greater than 10 KHz then the species belong to class 22\n",
        "*  If f_min lies between 6 KHz to 7.8 KHz then the species belong to class 23.\n",
        "\n",
        "*  If f_min lies between 4.8 KHz to 5.6 Khz then the species belong to class 5. \n",
        "\n",
        "*  Class 13 and 15 are not separable on the basis of lower frequencies.\n",
        "\n",
        "*  Most of the class of species have very narrow range of lower frequencies.\n",
        "\n",
        "\n",
        "\n",
        "\n",
        "\n",
        "\n",
        "\n",
        "\n",
        "\n",
        "\n"
      ]
    },
    {
      "cell_type": "code",
      "metadata": {
        "colab": {
          "base_uri": "https://localhost:8080/",
          "height": 639
        },
        "id": "BG7slx1waLPo",
        "outputId": "1af1e6a0-76d4-4a0a-95a6-1bd460993ad5"
      },
      "source": [
        "plt.figure(figsize=(10,10))\n",
        "sns.violinplot(x='species_id', y='f_max', data=data_tp, palette='pastel')\n",
        "plt.title('Violin Plot of f_max wrt class labels')"
      ],
      "execution_count": 24,
      "outputs": [
        {
          "output_type": "execute_result",
          "data": {
            "text/plain": [
              "Text(0.5, 1.0, 'Violin Plot of f_max wrt class labels')"
            ]
          },
          "metadata": {
            "tags": []
          },
          "execution_count": 24
        },
        {
          "output_type": "display_data",
          "data": {
            "image/png": "[encoded data removed]",
            "text/plain": [
              "<Figure size 720x720 with 1 Axes>"
            ]
          },
          "metadata": {
            "tags": [],
            "needs_background": "light"
          }
        }
      ]
    },
    {
      "cell_type": "markdown",
      "metadata": {
        "id": "g97IQ_t8djR-"
      },
      "source": [
        "Observations-\n",
        "\n",
        "\n",
        "\n",
        "*  Few classes can be separated on the basis of the f_max values.\n",
        "* Class 2 and 3 are easily separable from each other.\n",
        "\n",
        "* Class 14 and 17 have a very broad range of values and might contain a few outliers.\n",
        "* If f_max is greater than 12 KHz then data belongs to class 22.\n",
        "\n",
        "\n"
      ]
    }
  ]
}