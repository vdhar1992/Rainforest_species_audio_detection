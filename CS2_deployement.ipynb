{
  "nbformat": 4,
  "nbformat_minor": 0,
  "metadata": {
    "colab": {
      "name": "CS2_deployement.ipynb",
      "provenance": [],
      "collapsed_sections": []
    },
    "kernelspec": {
      "name": "python3",
      "display_name": "Python 3"
    },
    "language_info": {
      "name": "python"
    },
    "accelerator": "GPU"
  },
  "cells": [
    {
      "cell_type": "code",
      "metadata": {
        "colab": {
          "base_uri": "https://localhost:8080/"
        },
        "id": "BrOLWgAhkIZI",
        "outputId": "b847a204-c762-411c-a759-dd2d765b1058"
      },
      "source": [
        "#installing streamlit and pyngrok\n",
        "!pip -q install streamlit\n",
        "!pip -q install pyngrok\n",
        "!pip install tensorflow-io\n",
        "!pip install tensorflow-addons"
      ],
      "execution_count": null,
      "outputs": [
        {
          "output_type": "stream",
          "text": [
            "Requirement already satisfied: tensorflow-io in /usr/local/lib/python3.7/dist-packages (0.19.1)\n",
            "Requirement already satisfied: tensorflow<2.6.0,>=2.5.0 in /usr/local/lib/python3.7/dist-packages (from tensorflow-io) (2.5.0)\n",
            "Requirement already satisfied: tensorflow-io-gcs-filesystem==0.19.1 in /usr/local/lib/python3.7/dist-packages (from tensorflow-io) (0.19.1)\n",
            "Requirement already satisfied: tensorboard~=2.5 in /usr/local/lib/python3.7/dist-packages (from tensorflow<2.6.0,>=2.5.0->tensorflow-io) (2.5.0)\n",
            "Requirement already satisfied: absl-py~=0.10 in /usr/local/lib/python3.7/dist-packages (from tensorflow<2.6.0,>=2.5.0->tensorflow-io) (0.12.0)\n",
            "Requirement already satisfied: typing-extensions~=3.7.4 in /usr/local/lib/python3.7/dist-packages (from tensorflow<2.6.0,>=2.5.0->tensorflow-io) (3.7.4.3)\n",
            "Requirement already satisfied: opt-einsum~=3.3.0 in /usr/local/lib/python3.7/dist-packages (from tensorflow<2.6.0,>=2.5.0->tensorflow-io) (3.3.0)\n",
            "Requirement already satisfied: wrapt~=1.12.1 in /usr/local/lib/python3.7/dist-packages (from tensorflow<2.6.0,>=2.5.0->tensorflow-io) (1.12.1)\n",
            "Requirement already satisfied: numpy~=1.19.2 in /usr/local/lib/python3.7/dist-packages (from tensorflow<2.6.0,>=2.5.0->tensorflow-io) (1.19.5)\n",
            "Requirement already satisfied: tensorflow-estimator<2.6.0,>=2.5.0rc0 in /usr/local/lib/python3.7/dist-packages (from tensorflow<2.6.0,>=2.5.0->tensorflow-io) (2.5.0)\n",
            "Requirement already satisfied: google-pasta~=0.2 in /usr/local/lib/python3.7/dist-packages (from tensorflow<2.6.0,>=2.5.0->tensorflow-io) (0.2.0)\n",
            "Requirement already satisfied: protobuf>=3.9.2 in /usr/local/lib/python3.7/dist-packages (from tensorflow<2.6.0,>=2.5.0->tensorflow-io) (3.17.3)\n",
            "Requirement already satisfied: astunparse~=1.6.3 in /usr/local/lib/python3.7/dist-packages (from tensorflow<2.6.0,>=2.5.0->tensorflow-io) (1.6.3)\n",
            "Requirement already satisfied: keras-preprocessing~=1.1.2 in /usr/local/lib/python3.7/dist-packages (from tensorflow<2.6.0,>=2.5.0->tensorflow-io) (1.1.2)\n",
            "Requirement already satisfied: keras-nightly~=2.5.0.dev in /usr/local/lib/python3.7/dist-packages (from tensorflow<2.6.0,>=2.5.0->tensorflow-io) (2.5.0.dev2021032900)\n",
            "Requirement already satisfied: gast==0.4.0 in /usr/local/lib/python3.7/dist-packages (from tensorflow<2.6.0,>=2.5.0->tensorflow-io) (0.4.0)\n",
            "Requirement already satisfied: h5py~=3.1.0 in /usr/local/lib/python3.7/dist-packages (from tensorflow<2.6.0,>=2.5.0->tensorflow-io) (3.1.0)\n",
            "Requirement already satisfied: grpcio~=1.34.0 in /usr/local/lib/python3.7/dist-packages (from tensorflow<2.6.0,>=2.5.0->tensorflow-io) (1.34.1)\n",
            "Requirement already satisfied: six~=1.15.0 in /usr/local/lib/python3.7/dist-packages (from tensorflow<2.6.0,>=2.5.0->tensorflow-io) (1.15.0)\n",
            "Requirement already satisfied: termcolor~=1.1.0 in /usr/local/lib/python3.7/dist-packages (from tensorflow<2.6.0,>=2.5.0->tensorflow-io) (1.1.0)\n",
            "Requirement already satisfied: wheel~=0.35 in /usr/local/lib/python3.7/dist-packages (from tensorflow<2.6.0,>=2.5.0->tensorflow-io) (0.36.2)\n",
            "Requirement already satisfied: flatbuffers~=1.12.0 in /usr/local/lib/python3.7/dist-packages (from tensorflow<2.6.0,>=2.5.0->tensorflow-io) (1.12)\n",
            "Requirement already satisfied: cached-property in /usr/local/lib/python3.7/dist-packages (from h5py~=3.1.0->tensorflow<2.6.0,>=2.5.0->tensorflow-io) (1.5.2)\n",
            "Requirement already satisfied: setuptools>=41.0.0 in /usr/local/lib/python3.7/dist-packages (from tensorboard~=2.5->tensorflow<2.6.0,>=2.5.0->tensorflow-io) (57.2.0)\n",
            "Requirement already satisfied: werkzeug>=0.11.15 in /usr/local/lib/python3.7/dist-packages (from tensorboard~=2.5->tensorflow<2.6.0,>=2.5.0->tensorflow-io) (1.0.1)\n",
            "Requirement already satisfied: requests<3,>=2.21.0 in /usr/local/lib/python3.7/dist-packages (from tensorboard~=2.5->tensorflow<2.6.0,>=2.5.0->tensorflow-io) (2.23.0)\n",
            "Requirement already satisfied: tensorboard-plugin-wit>=1.6.0 in /usr/local/lib/python3.7/dist-packages (from tensorboard~=2.5->tensorflow<2.6.0,>=2.5.0->tensorflow-io) (1.8.0)\n",
            "Requirement already satisfied: tensorboard-data-server<0.7.0,>=0.6.0 in /usr/local/lib/python3.7/dist-packages (from tensorboard~=2.5->tensorflow<2.6.0,>=2.5.0->tensorflow-io) (0.6.1)\n",
            "Requirement already satisfied: google-auth<2,>=1.6.3 in /usr/local/lib/python3.7/dist-packages (from tensorboard~=2.5->tensorflow<2.6.0,>=2.5.0->tensorflow-io) (1.32.1)\n",
            "Requirement already satisfied: google-auth-oauthlib<0.5,>=0.4.1 in /usr/local/lib/python3.7/dist-packages (from tensorboard~=2.5->tensorflow<2.6.0,>=2.5.0->tensorflow-io) (0.4.4)\n",
            "Requirement already satisfied: markdown>=2.6.8 in /usr/local/lib/python3.7/dist-packages (from tensorboard~=2.5->tensorflow<2.6.0,>=2.5.0->tensorflow-io) (3.3.4)\n",
            "Requirement already satisfied: rsa<5,>=3.1.4 in /usr/local/lib/python3.7/dist-packages (from google-auth<2,>=1.6.3->tensorboard~=2.5->tensorflow<2.6.0,>=2.5.0->tensorflow-io) (4.7.2)\n",
            "Requirement already satisfied: pyasn1-modules>=0.2.1 in /usr/local/lib/python3.7/dist-packages (from google-auth<2,>=1.6.3->tensorboard~=2.5->tensorflow<2.6.0,>=2.5.0->tensorflow-io) (0.2.8)\n",
            "Requirement already satisfied: cachetools<5.0,>=2.0.0 in /usr/local/lib/python3.7/dist-packages (from google-auth<2,>=1.6.3->tensorboard~=2.5->tensorflow<2.6.0,>=2.5.0->tensorflow-io) (4.2.2)\n",
            "Requirement already satisfied: requests-oauthlib>=0.7.0 in /usr/local/lib/python3.7/dist-packages (from google-auth-oauthlib<0.5,>=0.4.1->tensorboard~=2.5->tensorflow<2.6.0,>=2.5.0->tensorflow-io) (1.3.0)\n",
            "Requirement already satisfied: importlib-metadata in /usr/local/lib/python3.7/dist-packages (from markdown>=2.6.8->tensorboard~=2.5->tensorflow<2.6.0,>=2.5.0->tensorflow-io) (3.10.1)\n",
            "Requirement already satisfied: pyasn1<0.5.0,>=0.4.6 in /usr/local/lib/python3.7/dist-packages (from pyasn1-modules>=0.2.1->google-auth<2,>=1.6.3->tensorboard~=2.5->tensorflow<2.6.0,>=2.5.0->tensorflow-io) (0.4.8)\n",
            "Requirement already satisfied: urllib3!=1.25.0,!=1.25.1,<1.26,>=1.21.1 in /usr/local/lib/python3.7/dist-packages (from requests<3,>=2.21.0->tensorboard~=2.5->tensorflow<2.6.0,>=2.5.0->tensorflow-io) (1.24.3)\n",
            "Requirement already satisfied: idna<3,>=2.5 in /usr/local/lib/python3.7/dist-packages (from requests<3,>=2.21.0->tensorboard~=2.5->tensorflow<2.6.0,>=2.5.0->tensorflow-io) (2.10)\n",
            "Requirement already satisfied: chardet<4,>=3.0.2 in /usr/local/lib/python3.7/dist-packages (from requests<3,>=2.21.0->tensorboard~=2.5->tensorflow<2.6.0,>=2.5.0->tensorflow-io) (3.0.4)\n",
            "Requirement already satisfied: certifi>=2017.4.17 in /usr/local/lib/python3.7/dist-packages (from requests<3,>=2.21.0->tensorboard~=2.5->tensorflow<2.6.0,>=2.5.0->tensorflow-io) (2021.5.30)\n",
            "Requirement already satisfied: oauthlib>=3.0.0 in /usr/local/lib/python3.7/dist-packages (from requests-oauthlib>=0.7.0->google-auth-oauthlib<0.5,>=0.4.1->tensorboard~=2.5->tensorflow<2.6.0,>=2.5.0->tensorflow-io) (3.1.1)\n",
            "Requirement already satisfied: zipp>=0.5 in /usr/local/lib/python3.7/dist-packages (from importlib-metadata->markdown>=2.6.8->tensorboard~=2.5->tensorflow<2.6.0,>=2.5.0->tensorflow-io) (3.5.0)\n",
            "Requirement already satisfied: tensorflow-addons in /usr/local/lib/python3.7/dist-packages (0.13.0)\n",
            "Requirement already satisfied: typeguard>=2.7 in /usr/local/lib/python3.7/dist-packages (from tensorflow-addons) (2.7.1)\n"
          ],
          "name": "stdout"
        }
      ]
    },
    {
      "cell_type": "code",
      "metadata": {
        "id": "kNKrwCO9owFW"
      },
      "source": [
        "from pyngrok import ngrok"
      ],
      "execution_count": null,
      "outputs": []
    },
    {
      "cell_type": "code",
      "metadata": {
        "colab": {
          "base_uri": "https://localhost:8080/"
        },
        "id": "uKp3HxEOkPt7",
        "outputId": "d6e55252-10ee-40c6-d60f-ca9e5fe771a1"
      },
      "source": [
        "%%writefile app.py\n",
        "\n",
        "# Importing the necessary libraries\n",
        "import tensorflow as tf\n",
        "import tensorflow_io as tfio\n",
        "import tensorflow_addons as tfa\n",
        "import pandas as pd  \n",
        "import numpy as np\n",
        "import os\n",
        "import tensorflow_hub as hub\n",
        "import datetime\n",
        "import warnings\n",
        "warnings.filterwarnings('ignore')\n",
        "from pyngrok import ngrok\n",
        "import streamlit as st\n",
        "\n",
        "#giving a title to webpage\n",
        "st.title(\"Species Audio Detection\")\n",
        "\n",
        "id = st.number_input(\"Enter the index of the file\")\n",
        "\n",
        "\n",
        "def load_files():\n",
        "    #https://machinelearningmastery.com/save-load-keras-deep-learning-models/\n",
        "\n",
        "\n",
        "    #Load the models from json files\n",
        "    #load the weights\n",
        "    json_file_1=open('/content/drive/MyDrive/Appliedai files/Case_Study_2/model_1.json','r')\n",
        "    loaded_model_json_1=json_file_1.read()\n",
        "    json_file_1.close()\n",
        "    loaded_model_1= tf.keras.models.model_from_json(loaded_model_json_1)\n",
        "    loaded_model_1.load_weights('/content/drive/MyDrive/Appliedai files/Case_Study_2/CS2_modelling2/model_6/weights-26-0.6329.hdf5')\n",
        "\n",
        "    json_file_2=open('/content/drive/MyDrive/Appliedai files/Case_Study_2/model_2.json','r')\n",
        "    loaded_model_json_2=json_file_2.read()\n",
        "    json_file_2.close()\n",
        "    loaded_model_2= tf.keras.models.model_from_json(loaded_model_json_2)\n",
        "    loaded_model_2.load_weights('/content/drive/MyDrive/Appliedai files/Case_Study_2/CS2_modelling2/model_1/21-0.9206-0.7486.h5')\n",
        "\n",
        "    json_file_3=open('/content/drive/MyDrive/Appliedai files/Case_Study_2/model_3.json','r')\n",
        "    loaded_model_json_3=json_file_3.read()\n",
        "    json_file_3.close()\n",
        "    loaded_model_3= tf.keras.models.model_from_json(loaded_model_json_3)\n",
        "    loaded_model_3.load_weights('/content/drive/MyDrive/Appliedai files/Case_Study_2/CS2_modelling2/model_2/32-0.8647-0.7383.h5')\n",
        "\n",
        "    json_file_4=open('/content/drive/MyDrive/Appliedai files/Case_Study_2/model_4.json','r')\n",
        "    loaded_model_json_4=json_file_4.read()\n",
        "    json_file_4.close()\n",
        "    loaded_model_4= tf.keras.models.model_from_json(loaded_model_json_4)\n",
        "    loaded_model_4.load_weights('/content/drive/MyDrive/Appliedai files/Case_Study_2/model_1/weights-69-0.6032.hdf5')\n",
        "\n",
        "    return loaded_model_1,loaded_model_2,loaded_model_3,loaded_model_4\n",
        " \n",
        "def data_preprocess(id):\n",
        "    #load Yamnet and get embeddings\n",
        "    yamnet_model_handle= 'https://tfhub.dev/google/yamnet/1'\n",
        "    yamnet_model=hub.load(yamnet_model_handle)\n",
        "    data=pd.read_csv('/content/drive/MyDrive/Appliedai files/Case_Study_2/train_tp.csv')\n",
        "    #loading the raw audio\n",
        "    audio= tfio.IOTensor.graph(tf.int16).from_audio('/content/drive/MyDrive/Appliedai files/Case_Study_2/train/'+data['recording_id'][id]+'.flac')\n",
        "    audio_slice = audio[100:]\n",
        "\n",
        "    #remove last dimension\n",
        "    audio_tensor= tf.squeeze(audio_slice,axis=[-1])\n",
        "    audio_tensor= tf.cast(audio_tensor, tf.float32)\n",
        "\n",
        "    #convert to spectrogram\n",
        "    spectrogram = tfio.audio.spectrogram(audio_tensor,nfft=2048,window=2048,stride=512)\n",
        "\n",
        "    #convert to melscale\n",
        "    mel_spectrogram=tfio.audio.melscale(spectrogram,rate=48000,mels=384,fmin=40,fmax=24000)\n",
        "\n",
        "    #convert to dbscale\n",
        "    mel_spectrogram = tfio.audio.dbscale(mel_spectrogram, top_db=80)\n",
        "\n",
        "    #Expanding the dimensions\n",
        "    image=tf.expand_dims(mel_spectrogram,axis=-1)\n",
        "    #Resizing\n",
        "    image=tf.image.resize(image,[384,768])\n",
        "    #converting to rgb image\n",
        "    image=tf.image.grayscale_to_rgb(image)\n",
        "\n",
        "    #resample the audio to feed the signal to yamnet model\n",
        "    sample_rate = tf.cast(48000, dtype=tf.int64)\n",
        "    audio_tensor = tfio.audio.resample(audio_tensor, rate_in=sample_rate, rate_out=16000)\n",
        "\n",
        "    #Get the embeddings from yamnet\n",
        "    scores, embeddings, spectrogram = yamnet_model(audio_tensor)\n",
        "\n",
        "    return image,embeddings\n",
        "  \n",
        "def predict(id):\n",
        "\n",
        "    start_time=datetime.datetime.now()\n",
        "    #load files\n",
        "    loaded_model_1,loaded_model_2,loaded_model_3,loaded_model_4=load_files()\n",
        "\n",
        "    #preprocess audio data\n",
        "    image,embeddings= data_preprocess(id)\n",
        "    image=tf.expand_dims(image,axis=0)\n",
        "    image=tf.reshape(image,[1,384,768,3])\n",
        "    embeddings=tf.expand_dims(embeddings,axis=0)\n",
        "    embeddings=tf.reshape(embeddings,[1,124,1024])\n",
        "    \n",
        "    cnn_models=[loaded_model_1,loaded_model_2,loaded_model_3]\n",
        "    #rec_id= data['recording'][id]\n",
        "    #Ensembling the models and making predictions \n",
        "    y_pred = []\n",
        "    final_pred=[]\n",
        "    for model in cnn_models:\n",
        "      pred = tf.sigmoid(model(image)).numpy()\n",
        "      y_pred.append(pred)\n",
        "\n",
        "    y_pred=np.asarray(y_pred)\n",
        "    cnn_mean_pred=np.mean(y_pred,axis=0)\n",
        "    rnn_pred=loaded_model_4.predict(embeddings)\n",
        "    cnn_mean_pred=list(cnn_mean_pred)\n",
        "    rnn_pred=list(rnn_pred)\n",
        "\n",
        "    final_pred.append(cnn_mean_pred)\n",
        "    final_pred.append(rnn_pred)\n",
        "    final_pred=np.asarray(final_pred)\n",
        "    mean_final_pred=np.mean(final_pred,axis=0)\n",
        "\n",
        "    #Return top three predictions\n",
        "    predictions=np.argsort(mean_final_pred,axis=None)[::-1]\n",
        "    top_3_predictions= predictions[0:3]\n",
        "\n",
        "    end_time=datetime.datetime.now()-start_time\n",
        "    #print(\"Total time taken for prediction:\",datetime.datetime.now()-start_time)\n",
        "    return top_3_predictions,end_time\n",
        "\n",
        "top_pred,end_time = predict(id)\n",
        "\n",
        "\n",
        "#display the predicted output,recording id and time taken in webpage\n",
        "st.write('Top 3 predicted species in the audio are:, '+str(top_pred[0])+', '+str(top_pred[1])+','+str(top_pred[2]))\n",
        "\n",
        "st.write(\"Time taken:\", end_time)\n",
        "\n"
      ],
      "execution_count": null,
      "outputs": [
        {
          "output_type": "stream",
          "text": [
            "Overwriting app.py\n"
          ],
          "name": "stdout"
        }
      ]
    },
    {
      "cell_type": "code",
      "metadata": {
        "colab": {
          "base_uri": "https://localhost:8080/"
        },
        "id": "3hcJGpcwobKB",
        "outputId": "b26aeb68-030c-4307-8442-36832f1c5b55"
      },
      "source": [
        "#authentiacting tunnel\n",
        "!ngrok authtoken 1s9EWYEkYGU9J6chwq2Z0Hucw5R_2iBbA53YyhmegQY3b67nm"
      ],
      "execution_count": null,
      "outputs": [
        {
          "output_type": "stream",
          "text": [
            "Authtoken saved to configuration file: /root/.ngrok2/ngrok.yml\n"
          ],
          "name": "stdout"
        }
      ]
    },
    {
      "cell_type": "code",
      "metadata": {
        "colab": {
          "base_uri": "https://localhost:8080/"
        },
        "id": "ljiwJpo0od4g",
        "outputId": "639a34b8-70c1-4df5-a92a-0c6d8d928455"
      },
      "source": [
        "public_url = ngrok.connect(port='80')\n",
        "print (public_url)\n",
        "!streamlit run --server.port 80 app.py >/dev/null"
      ],
      "execution_count": null,
      "outputs": [
        {
          "output_type": "stream",
          "text": [
            "NgrokTunnel: \"http://807f51717b1f.ngrok.io\" -> \"http://localhost:80\"\n",
            "2021-08-02 09:40:24.842323: I tensorflow/stream_executor/platform/default/dso_loader.cc:53] Successfully opened dynamic library libcudart.so.11.0\n",
            "2021-08-02 09:40:26.505138: I tensorflow/stream_executor/platform/default/dso_loader.cc:53] Successfully opened dynamic library libcuda.so.1\n",
            "2021-08-02 09:40:26.523545: I tensorflow/stream_executor/cuda/cuda_gpu_executor.cc:937] successful NUMA node read from SysFS had negative value (-1), but there must be at least one NUMA node, so returning NUMA node zero\n",
            "2021-08-02 09:40:26.524156: I tensorflow/core/common_runtime/gpu/gpu_device.cc:1733] Found device 0 with properties: \n",
            "pciBusID: 0000:00:04.0 name: Tesla P100-PCIE-16GB computeCapability: 6.0\n",
            "coreClock: 1.3285GHz coreCount: 56 deviceMemorySize: 15.90GiB deviceMemoryBandwidth: 681.88GiB/s\n",
            "2021-08-02 09:40:26.524223: I tensorflow/stream_executor/platform/default/dso_loader.cc:53] Successfully opened dynamic library libcudart.so.11.0\n",
            "2021-08-02 09:40:26.530501: I tensorflow/stream_executor/platform/default/dso_loader.cc:53] Successfully opened dynamic library libcublas.so.11\n",
            "2021-08-02 09:40:26.530612: I tensorflow/stream_executor/platform/default/dso_loader.cc:53] Successfully opened dynamic library libcublasLt.so.11\n",
            "2021-08-02 09:40:26.534041: I tensorflow/stream_executor/platform/default/dso_loader.cc:53] Successfully opened dynamic library libcufft.so.10\n",
            "2021-08-02 09:40:26.534424: I tensorflow/stream_executor/platform/default/dso_loader.cc:53] Successfully opened dynamic library libcurand.so.10\n",
            "2021-08-02 09:40:26.536215: I tensorflow/stream_executor/platform/default/dso_loader.cc:53] Successfully opened dynamic library libcusolver.so.10\n",
            "2021-08-02 09:40:26.541939: I tensorflow/stream_executor/platform/default/dso_loader.cc:53] Successfully opened dynamic library libcusparse.so.11\n",
            "2021-08-02 09:40:26.542142: I tensorflow/stream_executor/platform/default/dso_loader.cc:53] Successfully opened dynamic library libcudnn.so.8\n",
            "2021-08-02 09:40:26.542250: I tensorflow/stream_executor/cuda/cuda_gpu_executor.cc:937] successful NUMA node read from SysFS had negative value (-1), but there must be at least one NUMA node, so returning NUMA node zero\n",
            "2021-08-02 09:40:26.542885: I tensorflow/stream_executor/cuda/cuda_gpu_executor.cc:937] successful NUMA node read from SysFS had negative value (-1), but there must be at least one NUMA node, so returning NUMA node zero\n",
            "2021-08-02 09:40:26.543466: I tensorflow/core/common_runtime/gpu/gpu_device.cc:1871] Adding visible gpu devices: 0\n",
            "2021-08-02 09:40:26.543946: I tensorflow/core/platform/cpu_feature_guard.cc:142] This TensorFlow binary is optimized with oneAPI Deep Neural Network Library (oneDNN) to use the following CPU instructions in performance-critical operations:  AVX512F\n",
            "To enable them in other operations, rebuild TensorFlow with the appropriate compiler flags.\n",
            "2021-08-02 09:40:26.544208: I tensorflow/stream_executor/cuda/cuda_gpu_executor.cc:937] successful NUMA node read from SysFS had negative value (-1), but there must be at least one NUMA node, so returning NUMA node zero\n",
            "2021-08-02 09:40:26.544773: I tensorflow/core/common_runtime/gpu/gpu_device.cc:1733] Found device 0 with properties: \n",
            "pciBusID: 0000:00:04.0 name: Tesla P100-PCIE-16GB computeCapability: 6.0\n",
            "coreClock: 1.3285GHz coreCount: 56 deviceMemorySize: 15.90GiB deviceMemoryBandwidth: 681.88GiB/s\n",
            "2021-08-02 09:40:26.544858: I tensorflow/stream_executor/cuda/cuda_gpu_executor.cc:937] successful NUMA node read from SysFS had negative value (-1), but there must be at least one NUMA node, so returning NUMA node zero\n",
            "2021-08-02 09:40:26.545423: I tensorflow/stream_executor/cuda/cuda_gpu_executor.cc:937] successful NUMA node read from SysFS had negative value (-1), but there must be at least one NUMA node, so returning NUMA node zero\n",
            "2021-08-02 09:40:26.545957: I tensorflow/core/common_runtime/gpu/gpu_device.cc:1871] Adding visible gpu devices: 0\n",
            "2021-08-02 09:40:26.546015: I tensorflow/stream_executor/platform/default/dso_loader.cc:53] Successfully opened dynamic library libcudart.so.11.0\n",
            "2021-08-02 09:40:27.021858: I tensorflow/core/common_runtime/gpu/gpu_device.cc:1258] Device interconnect StreamExecutor with strength 1 edge matrix:\n",
            "2021-08-02 09:40:27.021917: I tensorflow/core/common_runtime/gpu/gpu_device.cc:1264]      0 \n",
            "2021-08-02 09:40:27.021930: I tensorflow/core/common_runtime/gpu/gpu_device.cc:1277] 0:   N \n",
            "2021-08-02 09:40:27.022106: I tensorflow/stream_executor/cuda/cuda_gpu_executor.cc:937] successful NUMA node read from SysFS had negative value (-1), but there must be at least one NUMA node, so returning NUMA node zero\n",
            "2021-08-02 09:40:27.022774: I tensorflow/stream_executor/cuda/cuda_gpu_executor.cc:937] successful NUMA node read from SysFS had negative value (-1), but there must be at least one NUMA node, so returning NUMA node zero\n",
            "2021-08-02 09:40:27.023340: I tensorflow/stream_executor/cuda/cuda_gpu_executor.cc:937] successful NUMA node read from SysFS had negative value (-1), but there must be at least one NUMA node, so returning NUMA node zero\n",
            "2021-08-02 09:40:27.023898: W tensorflow/core/common_runtime/gpu/gpu_bfc_allocator.cc:39] Overriding allow_growth setting because the TF_FORCE_GPU_ALLOW_GROWTH environment variable is set. Original config value was 0.\n",
            "2021-08-02 09:40:27.023966: I tensorflow/core/common_runtime/gpu/gpu_device.cc:1418] Created TensorFlow device (/job:localhost/replica:0/task:0/device:GPU:0 with 15433 MB memory) -> physical GPU (device: 0, name: Tesla P100-PCIE-16GB, pci bus id: 0000:00:04.0, compute capability: 6.0)\n",
            "2021-08-02 09:40:37.432 Using /tmp/tfhub_modules to cache modules.\n",
            "2021-08-02 09:40:41.214347: I tensorflow_io/core/kernels/cpu_check.cc:128] Your CPU supports instructions that this TensorFlow IO binary was not compiled to use: AVX2 AVX512F FMA\n",
            "2021-08-02 09:40:41.391033: I tensorflow/stream_executor/platform/default/dso_loader.cc:53] Successfully opened dynamic library libcufft.so.10\n",
            "2021-08-02 09:40:41.533052: I tensorflow/stream_executor/platform/default/dso_loader.cc:53] Successfully opened dynamic library libcublas.so.11\n",
            "2021-08-02 09:40:41.775307: I tensorflow/stream_executor/platform/default/dso_loader.cc:53] Successfully opened dynamic library libcublasLt.so.11\n",
            "2021-08-02 09:40:41.824336: I tensorflow/compiler/mlir/mlir_graph_optimization_pass.cc:176] None of the MLIR Optimization Passes are enabled (registered 2)\n",
            "2021-08-02 09:40:41.824931: I tensorflow/core/platform/profile_utils/cpu_utils.cc:114] CPU Frequency: 2000175000 Hz\n",
            "2021-08-02 09:40:42.087486: I tensorflow/stream_executor/platform/default/dso_loader.cc:53] Successfully opened dynamic library libcudnn.so.8\n",
            "2021-08-02 09:40:42.352959: I tensorflow/stream_executor/cuda/cuda_dnn.cc:359] Loaded cuDNN version 8004\n"
          ],
          "name": "stdout"
        }
      ]
    },
    {
      "cell_type": "markdown",
      "metadata": {
        "id": "uApdR8dJOULU"
      },
      "source": [
        "### Video for deployement\n",
        "\n",
        "https://youtu.be/hHQnL6YGZeU"
      ]
    }
  ]
}